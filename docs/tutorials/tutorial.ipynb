{
 "cells": [
  {
   "cell_type": "markdown",
   "id": "cognitive-kinase",
   "metadata": {},
   "source": [
    "# Tutorial"
   ]
  },
  {
   "cell_type": "code",
   "execution_count": 1,
   "id": "removable-infection",
   "metadata": {},
   "outputs": [],
   "source": [
    "import ccp\n",
    "\n",
    "Q_ = ccp.Q_"
   ]
  },
  {
   "cell_type": "markdown",
   "id": "unlikely-people",
   "metadata": {},
   "source": [
    "`ccp` uses pint to handle units. Q_ is a pint quantity.\n",
    "\n",
    "Here lets define a suction pressure `ps` and a suction temperature `Ts`.\n",
    "\n",
    "For the suction pressure we are going to use pint."
   ]
  },
  {
   "cell_type": "code",
   "execution_count": 2,
   "id": "elegant-priority",
   "metadata": {},
   "outputs": [],
   "source": [
    "ps = Q_(3, \"bar\")\n",
    "Ts = 300"
   ]
  },
  {
   "cell_type": "markdown",
   "id": "muslim-horizon",
   "metadata": {},
   "source": [
    "The pint objects hold the magnitude and units for a variable and can be used for unit conversion:"
   ]
  },
  {
   "cell_type": "code",
   "execution_count": 3,
   "id": "competent-interest",
   "metadata": {},
   "outputs": [
    {
     "name": "stdout",
     "output_type": "stream",
     "text": [
      "ps: 3 bar\n",
      "ps magnitude: 3\n",
      "ps units: bar\n",
      "convert to atm: 2.960769800148039 standard_atmosphere\n",
      "\n"
     ]
    }
   ],
   "source": [
    "print(\n",
    "    f\"ps: {ps}\\n\"\n",
    "    f\"ps magnitude: {ps.magnitude}\\n\"\n",
    "    f\"ps units: {ps.units}\\n\"\n",
    "    f\"convert to atm: {ps.to('atm')}\\n\"\n",
    ")"
   ]
  },
  {
   "cell_type": "markdown",
   "id": "crucial-group",
   "metadata": {},
   "source": [
    "We define the fluid composition is defined as a dictionary:"
   ]
  },
  {
   "cell_type": "code",
   "execution_count": 4,
   "id": "meaningful-intro",
   "metadata": {},
   "outputs": [],
   "source": [
    "fluid = {\n",
    "    \"CarbonDioxide\": 0.79585,\n",
    "    \"R134a\": 0.16751,\n",
    "    \"Nitrogen\": 0.02903,\n",
    "    \"Oxygen\": 0.00761,\n",
    "}"
   ]
  },
  {
   "cell_type": "markdown",
   "id": "understanding-massage",
   "metadata": {},
   "source": [
    "We can create the suction and discharge states using the `State` class:"
   ]
  },
  {
   "cell_type": "code",
   "execution_count": 5,
   "id": "everyday-accessory",
   "metadata": {},
   "outputs": [],
   "source": [
    "suc0 = ccp.State.define(fluid=fluid, p=ps, T=Ts)\n",
    "disch0 = ccp.State.define(fluid=fluid, p=Q_(7.255, 'bar'), T=391.1)"
   ]
  },
  {
   "cell_type": "markdown",
   "id": "raising-leeds",
   "metadata": {},
   "source": [
    "Notice that in the cell above we defined the states using pint quantities mixed with pure floats.\n",
    "\n",
    "The way that `ccp` works is by assuming that float are in the SI units system, so \n",
    "\n",
    "```python\n",
    "disch0 = ccp.State.define(fluid=fluid, p=Q_(7.255, 'bar'), T=391.1)\n",
    "```\n",
    "\n",
    "is the same as \n",
    "\n",
    "```python\n",
    "disch0 = ccp.State.define(fluid=fluid, p=Q_(7.255, 'bar'), T=Q_(391.1, 'degK'))\n",
    "```"
   ]
  },
  {
   "cell_type": "markdown",
   "id": "floppy-illinois",
   "metadata": {},
   "source": [
    "Create performance point(s):"
   ]
  },
  {
   "cell_type": "code",
   "execution_count": 6,
   "id": "appointed-carpet",
   "metadata": {},
   "outputs": [],
   "source": [
    "point0 = ccp.Point(\n",
    "    suc=suc0,\n",
    "    disch=disch0,\n",
    "    speed=Q_(7941, \"RPM\"),\n",
    "    flow_m=Q_(34203.6, \"kg/hr\"),\n",
    "    b=0.0285,\n",
    "    D=0.365,\n",
    ")\n",
    "point1= ccp.Point(\n",
    "    suc=suc0,\n",
    "    disch=disch0,\n",
    "    speed=Q_(7941, \"RPM\"),\n",
    "    flow_m=Q_(37203.6, \"kg/hr\"),\n",
    "    b=0.0285,\n",
    "    D=0.365,\n",
    ")"
   ]
  },
  {
   "cell_type": "markdown",
   "id": "rapid-masters",
   "metadata": {},
   "source": [
    "Now we can create an impeller, which is basically a container for points."
   ]
  },
  {
   "cell_type": "code",
   "execution_count": 7,
   "id": "cosmetic-plastic",
   "metadata": {},
   "outputs": [],
   "source": [
    "imp = ccp.Impeller([point0, point1]) "
   ]
  },
  {
   "cell_type": "code",
   "execution_count": 8,
   "id": "royal-spyware",
   "metadata": {},
   "outputs": [
    {
     "data": {
      "text/plain": [
       "<ccp.impeller.Impeller at 0x7f468bdcb6a0>"
      ]
     },
     "execution_count": 8,
     "metadata": {},
     "output_type": "execute_result"
    }
   ],
   "source": [
    "imp"
   ]
  }
 ],
 "metadata": {
  "kernelspec": {
   "display_name": "Python 3",
   "language": "python",
   "name": "python3"
  },
  "language_info": {
   "codemirror_mode": {
    "name": "ipython",
    "version": 3
   },
   "file_extension": ".py",
   "mimetype": "text/x-python",
   "name": "python",
   "nbconvert_exporter": "python",
   "pygments_lexer": "ipython3",
   "version": "3.8.5"
  }
 },
 "nbformat": 4,
 "nbformat_minor": 5
}
