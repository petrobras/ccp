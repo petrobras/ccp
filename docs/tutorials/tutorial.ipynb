{
 "cells": [
  {
   "cell_type": "markdown",
   "id": "noted-title",
   "metadata": {},
   "source": [
    "# Tutorial"
   ]
  },
  {
   "cell_type": "code",
   "execution_count": 23,
   "id": "faced-brown",
   "metadata": {},
   "outputs": [],
   "source": [
    "import ccp\n",
    "\n",
    "Q_ = ccp.Q_\n",
    "%config Completer.use_jedi = False"
   ]
  },
  {
   "cell_type": "markdown",
   "id": "single-telephone",
   "metadata": {},
   "source": [
    "`ccp` uses pint to handle units. Q_ is a pint quantity.\n",
    "\n",
    "Here lets define a suction pressure `ps` and a suction temperature `Ts`.\n",
    "\n",
    "For the suction pressure we are going to use pint."
   ]
  },
  {
   "cell_type": "code",
   "execution_count": 24,
   "id": "tropical-commander",
   "metadata": {},
   "outputs": [],
   "source": [
    "ps = Q_(3, \"bar\")\n",
    "Ts = 300"
   ]
  },
  {
   "cell_type": "markdown",
   "id": "broke-mileage",
   "metadata": {},
   "source": [
    "The pint objects hold the magnitude and units for a variable and can be used for unit conversion:"
   ]
  },
  {
   "cell_type": "code",
   "execution_count": 25,
   "id": "massive-taxation",
   "metadata": {},
   "outputs": [
    {
     "name": "stdout",
     "output_type": "stream",
     "text": [
      "ps: 3 bar\n",
      "ps magnitude: 3\n",
      "ps units: bar\n",
      "convert to atm: 2.960769800148039 standard_atmosphere\n",
      "\n"
     ]
    }
   ],
   "source": [
    "print(\n",
    "    f\"ps: {ps}\\n\"\n",
    "    f\"ps magnitude: {ps.magnitude}\\n\"\n",
    "    f\"ps units: {ps.units}\\n\"\n",
    "    f\"convert to atm: {ps.to('atm')}\\n\"\n",
    ")"
   ]
  },
  {
   "cell_type": "markdown",
   "id": "moral-winter",
   "metadata": {},
   "source": [
    "We define the fluid composition is defined as a dictionary:"
   ]
  },
  {
   "cell_type": "code",
   "execution_count": 26,
   "id": "excessive-respondent",
   "metadata": {},
   "outputs": [],
   "source": [
    "fluid = {\n",
    "    \"CarbonDioxide\": 0.79585,\n",
    "    \"R134a\": 0.16751,\n",
    "    \"Nitrogen\": 0.02903,\n",
    "    \"Oxygen\": 0.00761,\n",
    "}"
   ]
  },
  {
   "cell_type": "markdown",
   "id": "manual-hazard",
   "metadata": {},
   "source": [
    "We can create the suction and discharge states using the `State` class:"
   ]
  },
  {
   "cell_type": "code",
   "execution_count": 27,
   "id": "theoretical-platform",
   "metadata": {},
   "outputs": [],
   "source": [
    "suc0 = ccp.State.define(fluid=fluid, p=ps, T=Ts)\n",
    "disch0 = ccp.State.define(fluid=fluid, p=Q_(7.255, \"bar\"), T=391.1)"
   ]
  },
  {
   "cell_type": "markdown",
   "id": "green-arlington",
   "metadata": {},
   "source": [
    "Notice that in the cell above we defined the states using pint quantities mixed with pure floats.\n",
    "\n",
    "The way that `ccp` works is by assuming that float are in the SI units system, so \n",
    "\n",
    "```python\n",
    "disch0 = ccp.State.define(fluid=fluid, p=Q_(7.255, 'bar'), T=391.1)\n",
    "```\n",
    "\n",
    "is the same as \n",
    "\n",
    "```python\n",
    "disch0 = ccp.State.define(fluid=fluid, p=Q_(7.255, 'bar'), T=Q_(391.1, 'degK'))\n",
    "```"
   ]
  },
  {
   "cell_type": "markdown",
   "id": "smart-aaron",
   "metadata": {},
   "source": [
    "Create performance point(s):"
   ]
  },
  {
   "cell_type": "code",
   "execution_count": 28,
   "id": "proof-render",
   "metadata": {},
   "outputs": [],
   "source": [
    "point0 = ccp.Point(\n",
    "    suc=suc0,\n",
    "    disch=disch0,\n",
    "    speed=Q_(7941, \"RPM\"),\n",
    "    flow_m=Q_(34203.6, \"kg/hr\"),\n",
    "    b=0.0285,\n",
    "    D=0.365,\n",
    ")\n",
    "point1 = ccp.Point(\n",
    "    suc=suc0,\n",
    "    disch=disch0,\n",
    "    speed=Q_(7941, \"RPM\"),\n",
    "    flow_m=Q_(37203.6, \"kg/hr\"),\n",
    "    b=0.0285,\n",
    "    D=0.365,\n",
    ")"
   ]
  },
  {
   "cell_type": "markdown",
   "id": "naked-envelope",
   "metadata": {},
   "source": [
    "Now we can create an impeller, which is basically a container for points."
   ]
  },
  {
   "cell_type": "code",
   "execution_count": 29,
   "id": "intimate-cooper",
   "metadata": {},
   "outputs": [],
   "source": [
    "imp = ccp.Impeller([point0, point1])"
   ]
  },
  {
   "cell_type": "code",
   "execution_count": 30,
   "id": "amino-biology",
   "metadata": {},
   "outputs": [
    {
     "data": {
      "text/plain": [
       "<ccp.impeller.Impeller at 0x7fcbb174a520>"
      ]
     },
     "execution_count": 30,
     "metadata": {},
     "output_type": "execute_result"
    }
   ],
   "source": [
    "imp"
   ]
  },
  {
   "cell_type": "markdown",
   "id": "actual-cabin",
   "metadata": {},
   "source": [
    "To show other ccp features we are going to load an impeller from `csv` files created with the [Engauge Digitizer](https://markummitchell.github.io/engauge-digitizer/) application.\n",
    "For more information on how to use ccp with Engaguge Digitizer see {ref}`this How-to Guide <engauge>`"
   ]
  },
  {
   "cell_type": "code",
   "execution_count": 32,
   "id": "sitting-assurance",
   "metadata": {},
   "outputs": [],
   "source": [
    "imp = ccp.impeller.impeller_example()"
   ]
  },
  {
   "cell_type": "markdown",
   "id": "atomic-workshop",
   "metadata": {},
   "source": [
    "The impeller object stores all points in the `.points` attribute. \n",
    "\n",
    "It is also possible to get an specific point in the performance map using the `.point()` method:"
   ]
  },
  {
   "cell_type": "code",
   "execution_count": 39,
   "id": "humanitarian-parker",
   "metadata": {
    "scrolled": false
   },
   "outputs": [
    {
     "data": {
      "text/plain": [
       "Point(suc=State.define(p=Q_(\"408000 Pa\"), T=Q_(\"307 K\"), fluid={\"METHANE\": 0.58976, \"CO2\": 0.36605, \"ETHANE\": 0.03099, \"PROPANE\": 0.00600, \"NITROGEN\": 0.00550, \"BUTANE\": 0.00080, \"ISOBUTAN\": 0.00050, \"H2S\": 0.00020, \"PENTANE\": 0.00010, \"IPENTANE\": 0.00010}), speed=Q_(\"900 rad/s\"), flow_v=Q_(\"5.50 m³/s\"), head=Q_(\"103450 J/kg\"), eff=Q_(\"0.748\"))"
      ]
     },
     "execution_count": 39,
     "metadata": {},
     "output_type": "execute_result"
    }
   ],
   "source": [
    "imp.point(flow_v=5.5, speed=900)"
   ]
  },
  {
   "cell_type": "markdown",
   "id": "automated-numbers",
   "metadata": {},
   "source": [
    "We can also plot performance parameters such as the polytropic head. \n",
    "In this case we can choose a flow and speed and the correspondent curve and point will also be plotted:"
   ]
  },
  {
   "cell_type": "code",
   "execution_count": 40,
   "id": "classical-malawi",
   "metadata": {},
   "outputs": [
    {
     "data": {
      "application/vnd.plotly.v1+json": {
       "config": {
        "plotlyServerURL": "https://plot.ly"
       },
       "data": [
        {
         "name": "721.0 radian / second",
         "type": "scatter",
         "x": [
          3.116305555555556,
          3.1546197318007665,
          3.192933908045977,
          3.231248084291188,
          3.2695622605363988,
          3.3078764367816094,
          3.34619061302682,
          3.384504789272031,
          3.4228189655172416,
          3.4611331417624522,
          3.499447318007663,
          3.537761494252874,
          3.5760756704980845,
          3.614389846743295,
          3.6527040229885057,
          3.6910181992337163,
          3.7293323754789274,
          3.767646551724138,
          3.8059607279693486,
          3.8442749042145596,
          3.8825890804597702,
          3.920903256704981,
          3.9592174329501915,
          3.997531609195402,
          4.035845785440613,
          4.074159961685823,
          4.112474137931034,
          4.150788314176245,
          4.1891024904214555,
          4.227416666666667
         ],
         "y": [
          83008.79999999999,
          82601.88121044204,
          82168.5779999639,
          81710.77472650206,
          81230.35574799278,
          80729.20542237254,
          80209.20810757765,
          79672.24816154454,
          79120.20994220955,
          78554.97780750904,
          77978.43516068687,
          77392.40812343173,
          76798.6340310221,
          76198.8425811957,
          75594.76347169028,
          74987.75520921111,
          74370.63890671592,
          73727.698283415,
          73042.84586748607,
          72299.99418710689,
          71483.43289980447,
          70581.83579179077,
          69586.70511939708,
          68489.59028012343,
          67282.04067146973,
          65955.60569093602,
          64501.83473602221,
          62912.27720422827,
          61178.48249305424,
          59292
         ]
        },
        {
         "name": "824.0 radian / second",
         "type": "scatter",
         "x": [
          3.5879722222222226,
          3.639955938697318,
          3.691939655172414,
          3.7439233716475098,
          3.795907088122606,
          3.8478908045977014,
          3.899874521072797,
          3.951858237547893,
          4.003841954022988,
          4.055825670498084,
          4.10780938697318,
          4.159793103448276,
          4.211776819923371,
          4.263760536398467,
          4.3157442528735634,
          4.367727969348659,
          4.419711685823755,
          4.471695402298851,
          4.523679118773946,
          4.575662835249042,
          4.627646551724138,
          4.679630268199233,
          4.731613984674329,
          4.783597701149425,
          4.835581417624521,
          4.887565134099616,
          4.939548850574712,
          4.991532567049807,
          5.043516283524903,
          5.0954999999999995
         ],
         "y": [
          111726.72558468282,
          111521.9769531161,
          111219.34920607612,
          110826.67822405373,
          110351.79988753985,
          109802.55007702527,
          109186.76467300093,
          108512.27955595768,
          107786.93060638642,
          107018.55370477795,
          106214.94067852788,
          105381.24016931099,
          104518.50388093512,
          103627.43109244527,
          102708.72108288649,
          101763.06507445098,
          100790.96898171557,
          99792.75341164191,
          98768.73091433877,
          97719.21403991483,
          96641.71226641262,
          95501.14935910457,
          94241.42604276621,
          92806.09265816481,
          91138.69954606766,
          89182.79704724203,
          86881.93550245516,
          84179.6652524744,
          81019.5366380669,
          77345.1
         ]
        },
        {
         "name": "927.0 radian / second",
         "type": "scatter",
         "x": [
          4.166666666666667,
          4.22932662835249,
          4.291986590038315,
          4.354646551724138,
          4.417306513409962,
          4.479966475095786,
          4.542626436781609,
          4.605286398467433,
          4.667946360153257,
          4.730606321839081,
          4.793266283524904,
          4.855926245210728,
          4.918586206896552,
          4.981246168582375,
          5.0439061302682,
          5.106566091954023,
          5.169226053639846,
          5.231886015325671,
          5.294545977011494,
          5.357205938697318,
          5.419865900383142,
          5.482525862068965,
          5.545185823754789,
          5.607845785440613,
          5.670505747126437,
          5.73316570881226,
          5.795825670498084,
          5.858485632183908,
          5.921145593869731,
          5.983805555555556
         ],
         "y": [
          146018,
          145349.3721866453,
          144723.06234443627,
          144121.59142702527,
          143527.48038806455,
          142923.25018120656,
          142291.42176010337,
          141614.51607840756,
          140875.05408977123,
          140055.55674784686,
          139138.7965932961,
          138122.6413873479,
          137028.3564831101,
          135879.2199297663,
          134698.50977649997,
          133508.8297324148,
          132317.27368477662,
          131115.4256990135,
          129894.19550047364,
          128644.49281450521,
          127352.8376699049,
          125954.7198730589,
          124352.70650621735,
          122448.81593956145,
          120145.06654327255,
          117343.47668753185,
          113946.0647425206,
          109854.84907842017,
          104971.8480654117,
          99199.08007367642
         ]
        },
        {
         "name": "1029.0 radian / second",
         "type": "scatter",
         "x": [
          4.907416666666667,
          4.976861111111112,
          5.0463055555555565,
          5.11575,
          5.185194444444445,
          5.2546388888888895,
          5.324083333333334,
          5.393527777777778,
          5.462972222222223,
          5.532416666666667,
          5.601861111111112,
          5.671305555555556,
          5.74075,
          5.810194444444445,
          5.8796388888888895,
          5.949083333333334,
          6.018527777777778,
          6.087972222222223,
          6.157416666666667,
          6.226861111111111,
          6.296305555555556,
          6.36575,
          6.435194444444445,
          6.5046388888888895,
          6.574083333333334,
          6.643527777777778,
          6.712972222222223,
          6.782416666666667,
          6.851861111111111,
          6.921305555555556
         ],
         "y": [
          181538.03938390114,
          181072.94683642994,
          180592.1397857754,
          180086.8226871286,
          179548.19999568048,
          178967.47616662228,
          178335.85565514502,
          177644.5429164398,
          176884.74240569756,
          176047.65857810955,
          175124.5416549634,
          174109.38782334645,
          173000.44951733568,
          171796.34529978115,
          170495.69373353297,
          169098.2572479898,
          167630.1072031662,
          166143.62388969262,
          164692.33146474801,
          163329.75408551132,
          162092.26048566468,
          160816.7876007404,
          159211.6066900451,
          156982.8445849482,
          153836.62811681922,
          149479.08411702764,
          143616.3394169428,
          135954.52084793424,
          126199.7552413716,
          114058.16942862407
         ]
        },
        {
         "name": "1081.0 radian / second",
         "type": "scatter",
         "x": [
          5.590277777777778,
          5.651740421455939,
          5.7132030651341,
          5.77466570881226,
          5.836128352490421,
          5.897590996168582,
          5.9590536398467435,
          6.020516283524905,
          6.081978927203065,
          6.143441570881226,
          6.204904214559387,
          6.266366858237548,
          6.3278295019157085,
          6.38929214559387,
          6.450754789272031,
          6.512217432950192,
          6.573680076628353,
          6.635142720306513,
          6.696605363984674,
          6.758068007662835,
          6.819530651340997,
          6.880993295019158,
          6.942455938697318,
          7.003918582375479,
          7.06538122605364,
          7.126843869731801,
          7.188306513409962,
          7.249769157088123,
          7.311231800766284,
          7.372694444444445
         ],
         "y": [
          199115,
          198501.0517508435,
          197875.04139974283,
          197230.4181799069,
          196560.63132454493,
          195859.13006686582,
          195119.36364007863,
          194334.7812773925,
          193498.83221201636,
          192604.9656771594,
          191646.60702785576,
          190615.74892865727,
          189502.16337386722,
          188295.43133239125,
          186985.13377313517,
          185562.33210567865,
          184052.13787510488,
          182513.71276200004,
          181007.69888762472,
          179594.7383732392,
          178314.29247033643,
          176959.59481936193,
          175165.02253750493,
          172562.30513323363,
          168783.1721150163,
          163459.3529913212,
          156222.57727061666,
          146704.574461371,
          134537.07407205223,
          119351.80561112873
         ]
        },
        {
         "name": "900 radian / second",
         "type": "scatter",
         "x": [
          4.017352271657246,
          4.0772575549287255,
          4.137162838200204,
          4.197068121471684,
          4.256973404743164,
          4.3168786880146435,
          4.376783971286122,
          4.436689254557602,
          4.496594537829082,
          4.5564998211005605,
          4.61640510437204,
          4.67631038764352,
          4.736215670915,
          4.796120954186479,
          4.856026237457958,
          4.915931520729438,
          4.9758368040009175,
          5.035742087272396,
          5.095647370543876,
          5.155552653815356,
          5.2154579370868355,
          5.275363220358314,
          5.335268503629794,
          5.395173786901274,
          5.4550790701727525,
          5.514984353444232,
          5.574889636715712,
          5.634794919987192,
          5.69470020325867,
          5.75460548653015
         ],
         "y": [
          138229.80660031617,
          137406.43133928828,
          136640.16442233865,
          135917.6908805059,
          135225.69574482867,
          134550.86404634555,
          133879.88081609533,
          133199.4310851166,
          132496.19988444805,
          131756.87224512827,
          130968.10082151134,
          130114.59566687007,
          129178.05580280186,
          128139.92123742652,
          126981.63197886402,
          125685.03380593915,
          124241.30522369398,
          122650.95746338765,
          120914.90752698429,
          119034.07241644815,
          117005.47763734881,
          114780.91004966991,
          112282.97029043609,
          109433.77255962272,
          106155.43105720528,
          102370.05998315908,
          97999.7735374595,
          92966.68592008199,
          87192.91133100202,
          80600.56397019481
         ]
        },
        {
         "name": "Flow: 5.50, head: 103449.89",
         "type": "scatter",
         "x": [
          5.5
         ],
         "y": [
          103449.89066344015
         ]
        }
       ],
       "layout": {
        "template": {
         "data": {
          "bar": [
           {
            "error_x": {
             "color": "#2a3f5f"
            },
            "error_y": {
             "color": "#2a3f5f"
            },
            "marker": {
             "line": {
              "color": "white",
              "width": 0.5
             }
            },
            "type": "bar"
           }
          ],
          "barpolar": [
           {
            "marker": {
             "line": {
              "color": "white",
              "width": 0.5
             }
            },
            "type": "barpolar"
           }
          ],
          "carpet": [
           {
            "aaxis": {
             "endlinecolor": "#2a3f5f",
             "gridcolor": "#C8D4E3",
             "linecolor": "#C8D4E3",
             "minorgridcolor": "#C8D4E3",
             "startlinecolor": "#2a3f5f"
            },
            "baxis": {
             "endlinecolor": "#2a3f5f",
             "gridcolor": "#C8D4E3",
             "linecolor": "#C8D4E3",
             "minorgridcolor": "#C8D4E3",
             "startlinecolor": "#2a3f5f"
            },
            "type": "carpet"
           }
          ],
          "choropleth": [
           {
            "colorbar": {
             "outlinewidth": 0,
             "ticks": ""
            },
            "type": "choropleth"
           }
          ],
          "contour": [
           {
            "colorbar": {
             "outlinewidth": 0,
             "ticks": ""
            },
            "colorscale": [
             [
              0,
              "#0d0887"
             ],
             [
              0.1111111111111111,
              "#46039f"
             ],
             [
              0.2222222222222222,
              "#7201a8"
             ],
             [
              0.3333333333333333,
              "#9c179e"
             ],
             [
              0.4444444444444444,
              "#bd3786"
             ],
             [
              0.5555555555555556,
              "#d8576b"
             ],
             [
              0.6666666666666666,
              "#ed7953"
             ],
             [
              0.7777777777777778,
              "#fb9f3a"
             ],
             [
              0.8888888888888888,
              "#fdca26"
             ],
             [
              1,
              "#f0f921"
             ]
            ],
            "type": "contour"
           }
          ],
          "contourcarpet": [
           {
            "colorbar": {
             "outlinewidth": 0,
             "ticks": ""
            },
            "type": "contourcarpet"
           }
          ],
          "heatmap": [
           {
            "colorbar": {
             "outlinewidth": 0,
             "ticks": ""
            },
            "colorscale": [
             [
              0,
              "#0d0887"
             ],
             [
              0.1111111111111111,
              "#46039f"
             ],
             [
              0.2222222222222222,
              "#7201a8"
             ],
             [
              0.3333333333333333,
              "#9c179e"
             ],
             [
              0.4444444444444444,
              "#bd3786"
             ],
             [
              0.5555555555555556,
              "#d8576b"
             ],
             [
              0.6666666666666666,
              "#ed7953"
             ],
             [
              0.7777777777777778,
              "#fb9f3a"
             ],
             [
              0.8888888888888888,
              "#fdca26"
             ],
             [
              1,
              "#f0f921"
             ]
            ],
            "type": "heatmap"
           }
          ],
          "heatmapgl": [
           {
            "colorbar": {
             "outlinewidth": 0,
             "ticks": ""
            },
            "colorscale": [
             [
              0,
              "#0d0887"
             ],
             [
              0.1111111111111111,
              "#46039f"
             ],
             [
              0.2222222222222222,
              "#7201a8"
             ],
             [
              0.3333333333333333,
              "#9c179e"
             ],
             [
              0.4444444444444444,
              "#bd3786"
             ],
             [
              0.5555555555555556,
              "#d8576b"
             ],
             [
              0.6666666666666666,
              "#ed7953"
             ],
             [
              0.7777777777777778,
              "#fb9f3a"
             ],
             [
              0.8888888888888888,
              "#fdca26"
             ],
             [
              1,
              "#f0f921"
             ]
            ],
            "type": "heatmapgl"
           }
          ],
          "histogram": [
           {
            "marker": {
             "colorbar": {
              "outlinewidth": 0,
              "ticks": ""
             }
            },
            "type": "histogram"
           }
          ],
          "histogram2d": [
           {
            "colorbar": {
             "outlinewidth": 0,
             "ticks": ""
            },
            "colorscale": [
             [
              0,
              "#0d0887"
             ],
             [
              0.1111111111111111,
              "#46039f"
             ],
             [
              0.2222222222222222,
              "#7201a8"
             ],
             [
              0.3333333333333333,
              "#9c179e"
             ],
             [
              0.4444444444444444,
              "#bd3786"
             ],
             [
              0.5555555555555556,
              "#d8576b"
             ],
             [
              0.6666666666666666,
              "#ed7953"
             ],
             [
              0.7777777777777778,
              "#fb9f3a"
             ],
             [
              0.8888888888888888,
              "#fdca26"
             ],
             [
              1,
              "#f0f921"
             ]
            ],
            "type": "histogram2d"
           }
          ],
          "histogram2dcontour": [
           {
            "colorbar": {
             "outlinewidth": 0,
             "ticks": ""
            },
            "colorscale": [
             [
              0,
              "#0d0887"
             ],
             [
              0.1111111111111111,
              "#46039f"
             ],
             [
              0.2222222222222222,
              "#7201a8"
             ],
             [
              0.3333333333333333,
              "#9c179e"
             ],
             [
              0.4444444444444444,
              "#bd3786"
             ],
             [
              0.5555555555555556,
              "#d8576b"
             ],
             [
              0.6666666666666666,
              "#ed7953"
             ],
             [
              0.7777777777777778,
              "#fb9f3a"
             ],
             [
              0.8888888888888888,
              "#fdca26"
             ],
             [
              1,
              "#f0f921"
             ]
            ],
            "type": "histogram2dcontour"
           }
          ],
          "mesh3d": [
           {
            "colorbar": {
             "outlinewidth": 0,
             "ticks": ""
            },
            "type": "mesh3d"
           }
          ],
          "parcoords": [
           {
            "line": {
             "colorbar": {
              "outlinewidth": 0,
              "ticks": ""
             }
            },
            "type": "parcoords"
           }
          ],
          "pie": [
           {
            "automargin": true,
            "type": "pie"
           }
          ],
          "scatter": [
           {
            "marker": {
             "colorbar": {
              "outlinewidth": 0,
              "ticks": ""
             }
            },
            "type": "scatter"
           }
          ],
          "scatter3d": [
           {
            "line": {
             "colorbar": {
              "outlinewidth": 0,
              "ticks": ""
             }
            },
            "marker": {
             "colorbar": {
              "outlinewidth": 0,
              "ticks": ""
             }
            },
            "type": "scatter3d"
           }
          ],
          "scattercarpet": [
           {
            "marker": {
             "colorbar": {
              "outlinewidth": 0,
              "ticks": ""
             }
            },
            "type": "scattercarpet"
           }
          ],
          "scattergeo": [
           {
            "marker": {
             "colorbar": {
              "outlinewidth": 0,
              "ticks": ""
             }
            },
            "type": "scattergeo"
           }
          ],
          "scattergl": [
           {
            "marker": {
             "colorbar": {
              "outlinewidth": 0,
              "ticks": ""
             }
            },
            "type": "scattergl"
           }
          ],
          "scattermapbox": [
           {
            "marker": {
             "colorbar": {
              "outlinewidth": 0,
              "ticks": ""
             }
            },
            "type": "scattermapbox"
           }
          ],
          "scatterpolar": [
           {
            "marker": {
             "colorbar": {
              "outlinewidth": 0,
              "ticks": ""
             }
            },
            "type": "scatterpolar"
           }
          ],
          "scatterpolargl": [
           {
            "marker": {
             "colorbar": {
              "outlinewidth": 0,
              "ticks": ""
             }
            },
            "type": "scatterpolargl"
           }
          ],
          "scatterternary": [
           {
            "marker": {
             "colorbar": {
              "outlinewidth": 0,
              "ticks": ""
             }
            },
            "type": "scatterternary"
           }
          ],
          "surface": [
           {
            "colorbar": {
             "outlinewidth": 0,
             "ticks": ""
            },
            "colorscale": [
             [
              0,
              "#0d0887"
             ],
             [
              0.1111111111111111,
              "#46039f"
             ],
             [
              0.2222222222222222,
              "#7201a8"
             ],
             [
              0.3333333333333333,
              "#9c179e"
             ],
             [
              0.4444444444444444,
              "#bd3786"
             ],
             [
              0.5555555555555556,
              "#d8576b"
             ],
             [
              0.6666666666666666,
              "#ed7953"
             ],
             [
              0.7777777777777778,
              "#fb9f3a"
             ],
             [
              0.8888888888888888,
              "#fdca26"
             ],
             [
              1,
              "#f0f921"
             ]
            ],
            "type": "surface"
           }
          ],
          "table": [
           {
            "cells": {
             "fill": {
              "color": "#EBF0F8"
             },
             "line": {
              "color": "white"
             }
            },
            "header": {
             "fill": {
              "color": "#C8D4E3"
             },
             "line": {
              "color": "white"
             }
            },
            "type": "table"
           }
          ]
         },
         "layout": {
          "annotationdefaults": {
           "arrowcolor": "#2a3f5f",
           "arrowhead": 0,
           "arrowwidth": 1
          },
          "coloraxis": {
           "colorbar": {
            "outlinewidth": 0,
            "ticks": ""
           }
          },
          "colorscale": {
           "diverging": [
            [
             0,
             "#8e0152"
            ],
            [
             0.1,
             "#c51b7d"
            ],
            [
             0.2,
             "#de77ae"
            ],
            [
             0.3,
             "#f1b6da"
            ],
            [
             0.4,
             "#fde0ef"
            ],
            [
             0.5,
             "#f7f7f7"
            ],
            [
             0.6,
             "#e6f5d0"
            ],
            [
             0.7,
             "#b8e186"
            ],
            [
             0.8,
             "#7fbc41"
            ],
            [
             0.9,
             "#4d9221"
            ],
            [
             1,
             "#276419"
            ]
           ],
           "sequential": [
            [
             0,
             "#0d0887"
            ],
            [
             0.1111111111111111,
             "#46039f"
            ],
            [
             0.2222222222222222,
             "#7201a8"
            ],
            [
             0.3333333333333333,
             "#9c179e"
            ],
            [
             0.4444444444444444,
             "#bd3786"
            ],
            [
             0.5555555555555556,
             "#d8576b"
            ],
            [
             0.6666666666666666,
             "#ed7953"
            ],
            [
             0.7777777777777778,
             "#fb9f3a"
            ],
            [
             0.8888888888888888,
             "#fdca26"
            ],
            [
             1,
             "#f0f921"
            ]
           ],
           "sequentialminus": [
            [
             0,
             "#0d0887"
            ],
            [
             0.1111111111111111,
             "#46039f"
            ],
            [
             0.2222222222222222,
             "#7201a8"
            ],
            [
             0.3333333333333333,
             "#9c179e"
            ],
            [
             0.4444444444444444,
             "#bd3786"
            ],
            [
             0.5555555555555556,
             "#d8576b"
            ],
            [
             0.6666666666666666,
             "#ed7953"
            ],
            [
             0.7777777777777778,
             "#fb9f3a"
            ],
            [
             0.8888888888888888,
             "#fdca26"
            ],
            [
             1,
             "#f0f921"
            ]
           ]
          },
          "colorway": [
           "#1f77b4",
           "#ff7f0e",
           "#2ca02c",
           "#d62728",
           "#9467bd",
           "#8c564b",
           "#e377c2",
           "#7f7f7f",
           "#bcbd22",
           "#17becf"
          ],
          "font": {
           "color": "#2a3f5f"
          },
          "geo": {
           "bgcolor": "white",
           "lakecolor": "white",
           "landcolor": "white",
           "showlakes": true,
           "showland": true,
           "subunitcolor": "#C8D4E3"
          },
          "hoverlabel": {
           "align": "left"
          },
          "hovermode": "closest",
          "mapbox": {
           "style": "light"
          },
          "paper_bgcolor": "white",
          "plot_bgcolor": "white",
          "polar": {
           "angularaxis": {
            "gridcolor": "#EBF0F8",
            "linecolor": "#EBF0F8",
            "ticks": ""
           },
           "bgcolor": "white",
           "radialaxis": {
            "gridcolor": "#EBF0F8",
            "linecolor": "#EBF0F8",
            "ticks": ""
           }
          },
          "scene": {
           "xaxis": {
            "backgroundcolor": "white",
            "gridcolor": "#DFE8F3",
            "gridwidth": 2,
            "linecolor": "#EBF0F8",
            "showbackground": true,
            "showspikes": false,
            "ticks": "",
            "zerolinecolor": "#EBF0F8"
           },
           "yaxis": {
            "backgroundcolor": "white",
            "gridcolor": "#DFE8F3",
            "gridwidth": 2,
            "linecolor": "#EBF0F8",
            "showbackground": true,
            "showspikes": false,
            "ticks": "",
            "zerolinecolor": "#EBF0F8"
           },
           "zaxis": {
            "backgroundcolor": "white",
            "gridcolor": "#DFE8F3",
            "gridwidth": 2,
            "linecolor": "#EBF0F8",
            "showbackground": true,
            "showspikes": false,
            "ticks": "",
            "zerolinecolor": "#EBF0F8"
           }
          },
          "shapedefaults": {
           "line": {
            "color": "#2a3f5f"
           }
          },
          "ternary": {
           "aaxis": {
            "gridcolor": "#DFE8F3",
            "linecolor": "#A2B1C6",
            "ticks": ""
           },
           "baxis": {
            "gridcolor": "#DFE8F3",
            "linecolor": "#A2B1C6",
            "ticks": ""
           },
           "bgcolor": "white",
           "caxis": {
            "gridcolor": "#DFE8F3",
            "linecolor": "#A2B1C6",
            "ticks": ""
           }
          },
          "title": {
           "x": 0.05
          },
          "xaxis": {
           "automargin": true,
           "gridcolor": "#EBF0F8",
           "linecolor": "black",
           "linewidth": 2,
           "mirror": true,
           "showline": true,
           "ticks": "",
           "title": {
            "standoff": 15
           },
           "zeroline": false,
           "zerolinecolor": "#EBF0F8",
           "zerolinewidth": 2
          },
          "yaxis": {
           "automargin": true,
           "gridcolor": "#EBF0F8",
           "linecolor": "black",
           "linewidth": 2,
           "mirror": true,
           "showline": true,
           "ticks": "",
           "title": {
            "standoff": 15
           },
           "zeroline": false,
           "zerolinecolor": "#EBF0F8",
           "zerolinewidth": 2
          }
         }
        },
        "xaxis": {
         "range": [
          2.9034861111111114,
          7.585513888888889
         ],
         "title": {
          "text": "Volume Flow (m<sup>3</sup>/s)"
         }
        },
        "yaxis": {
         "title": {
          "text": "Head (J/kg)"
         }
        }
       }
      },
      "text/html": [
       "<div>                            <div id=\"93022672-b2b9-47d8-ac6d-56cf81055bd5\" class=\"plotly-graph-div\" style=\"height:525px; width:100%;\"></div>            <script type=\"text/javascript\">                require([\"plotly\"], function(Plotly) {                    window.PLOTLYENV=window.PLOTLYENV || {};                                    if (document.getElementById(\"93022672-b2b9-47d8-ac6d-56cf81055bd5\")) {                    Plotly.newPlot(                        \"93022672-b2b9-47d8-ac6d-56cf81055bd5\",                        [{\"name\": \"721.0 radian / second\", \"type\": \"scatter\", \"x\": [3.116305555555556, 3.1546197318007665, 3.192933908045977, 3.231248084291188, 3.2695622605363988, 3.3078764367816094, 3.34619061302682, 3.384504789272031, 3.4228189655172416, 3.4611331417624522, 3.499447318007663, 3.537761494252874, 3.5760756704980845, 3.614389846743295, 3.6527040229885057, 3.6910181992337163, 3.7293323754789274, 3.767646551724138, 3.8059607279693486, 3.8442749042145596, 3.8825890804597702, 3.920903256704981, 3.9592174329501915, 3.997531609195402, 4.035845785440613, 4.074159961685823, 4.112474137931034, 4.150788314176245, 4.1891024904214555, 4.227416666666667], \"y\": [83008.79999999999, 82601.88121044204, 82168.5779999639, 81710.77472650206, 81230.35574799278, 80729.20542237254, 80209.20810757765, 79672.24816154454, 79120.20994220955, 78554.97780750904, 77978.43516068687, 77392.40812343173, 76798.6340310221, 76198.8425811957, 75594.76347169028, 74987.75520921111, 74370.63890671592, 73727.698283415, 73042.84586748607, 72299.99418710689, 71483.43289980447, 70581.83579179077, 69586.70511939708, 68489.59028012343, 67282.04067146973, 65955.60569093602, 64501.83473602221, 62912.27720422827, 61178.48249305424, 59292.0]}, {\"name\": \"824.0 radian / second\", \"type\": \"scatter\", \"x\": [3.5879722222222226, 3.639955938697318, 3.691939655172414, 3.7439233716475098, 3.795907088122606, 3.8478908045977014, 3.899874521072797, 3.951858237547893, 4.003841954022988, 4.055825670498084, 4.10780938697318, 4.159793103448276, 4.211776819923371, 4.263760536398467, 4.3157442528735634, 4.367727969348659, 4.419711685823755, 4.471695402298851, 4.523679118773946, 4.575662835249042, 4.627646551724138, 4.679630268199233, 4.731613984674329, 4.783597701149425, 4.835581417624521, 4.887565134099616, 4.939548850574712, 4.991532567049807, 5.043516283524903, 5.0954999999999995], \"y\": [111726.72558468282, 111521.9769531161, 111219.34920607612, 110826.67822405373, 110351.79988753985, 109802.55007702527, 109186.76467300093, 108512.27955595768, 107786.93060638642, 107018.55370477795, 106214.94067852788, 105381.24016931099, 104518.50388093512, 103627.43109244527, 102708.72108288649, 101763.06507445098, 100790.96898171557, 99792.75341164191, 98768.73091433877, 97719.21403991483, 96641.71226641262, 95501.14935910457, 94241.42604276621, 92806.09265816481, 91138.69954606766, 89182.79704724203, 86881.93550245516, 84179.6652524744, 81019.5366380669, 77345.1]}, {\"name\": \"927.0 radian / second\", \"type\": \"scatter\", \"x\": [4.166666666666667, 4.22932662835249, 4.291986590038315, 4.354646551724138, 4.417306513409962, 4.479966475095786, 4.542626436781609, 4.605286398467433, 4.667946360153257, 4.730606321839081, 4.793266283524904, 4.855926245210728, 4.918586206896552, 4.981246168582375, 5.0439061302682, 5.106566091954023, 5.169226053639846, 5.231886015325671, 5.294545977011494, 5.357205938697318, 5.419865900383142, 5.482525862068965, 5.545185823754789, 5.607845785440613, 5.670505747126437, 5.73316570881226, 5.795825670498084, 5.858485632183908, 5.921145593869731, 5.983805555555556], \"y\": [146018.0, 145349.3721866453, 144723.06234443627, 144121.59142702527, 143527.48038806455, 142923.25018120656, 142291.42176010337, 141614.51607840756, 140875.05408977123, 140055.55674784686, 139138.7965932961, 138122.6413873479, 137028.3564831101, 135879.2199297663, 134698.50977649997, 133508.8297324148, 132317.27368477662, 131115.4256990135, 129894.19550047364, 128644.49281450521, 127352.8376699049, 125954.7198730589, 124352.70650621735, 122448.81593956145, 120145.06654327255, 117343.47668753185, 113946.0647425206, 109854.84907842017, 104971.8480654117, 99199.08007367642]}, {\"name\": \"1029.0 radian / second\", \"type\": \"scatter\", \"x\": [4.907416666666667, 4.976861111111112, 5.0463055555555565, 5.11575, 5.185194444444445, 5.2546388888888895, 5.324083333333334, 5.393527777777778, 5.462972222222223, 5.532416666666667, 5.601861111111112, 5.671305555555556, 5.74075, 5.810194444444445, 5.8796388888888895, 5.949083333333334, 6.018527777777778, 6.087972222222223, 6.157416666666667, 6.226861111111111, 6.296305555555556, 6.36575, 6.435194444444445, 6.5046388888888895, 6.574083333333334, 6.643527777777778, 6.712972222222223, 6.782416666666667, 6.851861111111111, 6.921305555555556], \"y\": [181538.03938390114, 181072.94683642994, 180592.1397857754, 180086.8226871286, 179548.19999568048, 178967.47616662228, 178335.85565514502, 177644.5429164398, 176884.74240569756, 176047.65857810955, 175124.5416549634, 174109.38782334645, 173000.44951733568, 171796.34529978115, 170495.69373353297, 169098.2572479898, 167630.1072031662, 166143.62388969262, 164692.33146474801, 163329.75408551132, 162092.26048566468, 160816.7876007404, 159211.6066900451, 156982.8445849482, 153836.62811681922, 149479.08411702764, 143616.3394169428, 135954.52084793424, 126199.7552413716, 114058.16942862407]}, {\"name\": \"1081.0 radian / second\", \"type\": \"scatter\", \"x\": [5.590277777777778, 5.651740421455939, 5.7132030651341, 5.77466570881226, 5.836128352490421, 5.897590996168582, 5.9590536398467435, 6.020516283524905, 6.081978927203065, 6.143441570881226, 6.204904214559387, 6.266366858237548, 6.3278295019157085, 6.38929214559387, 6.450754789272031, 6.512217432950192, 6.573680076628353, 6.635142720306513, 6.696605363984674, 6.758068007662835, 6.819530651340997, 6.880993295019158, 6.942455938697318, 7.003918582375479, 7.06538122605364, 7.126843869731801, 7.188306513409962, 7.249769157088123, 7.311231800766284, 7.372694444444445], \"y\": [199115.0, 198501.0517508435, 197875.04139974283, 197230.4181799069, 196560.63132454493, 195859.13006686582, 195119.36364007863, 194334.7812773925, 193498.83221201636, 192604.9656771594, 191646.60702785576, 190615.74892865727, 189502.16337386722, 188295.43133239125, 186985.13377313517, 185562.33210567865, 184052.13787510488, 182513.71276200004, 181007.69888762472, 179594.7383732392, 178314.29247033643, 176959.59481936193, 175165.02253750493, 172562.30513323363, 168783.1721150163, 163459.3529913212, 156222.57727061666, 146704.574461371, 134537.07407205223, 119351.80561112873]}, {\"name\": \"900 radian / second\", \"type\": \"scatter\", \"x\": [4.017352271657246, 4.0772575549287255, 4.137162838200204, 4.197068121471684, 4.256973404743164, 4.3168786880146435, 4.376783971286122, 4.436689254557602, 4.496594537829082, 4.5564998211005605, 4.61640510437204, 4.67631038764352, 4.736215670915, 4.796120954186479, 4.856026237457958, 4.915931520729438, 4.9758368040009175, 5.035742087272396, 5.095647370543876, 5.155552653815356, 5.2154579370868355, 5.275363220358314, 5.335268503629794, 5.395173786901274, 5.4550790701727525, 5.514984353444232, 5.574889636715712, 5.634794919987192, 5.69470020325867, 5.75460548653015], \"y\": [138229.80660031617, 137406.43133928828, 136640.16442233865, 135917.6908805059, 135225.69574482867, 134550.86404634555, 133879.88081609533, 133199.4310851166, 132496.19988444805, 131756.87224512827, 130968.10082151134, 130114.59566687007, 129178.05580280186, 128139.92123742652, 126981.63197886402, 125685.03380593915, 124241.30522369398, 122650.95746338765, 120914.90752698429, 119034.07241644815, 117005.47763734881, 114780.91004966991, 112282.97029043609, 109433.77255962272, 106155.43105720528, 102370.05998315908, 97999.7735374595, 92966.68592008199, 87192.91133100202, 80600.56397019481]}, {\"name\": \"Flow: 5.50, head: 103449.89\", \"type\": \"scatter\", \"x\": [5.5], \"y\": [103449.89066344015]}],                        {\"template\": {\"data\": {\"bar\": [{\"error_x\": {\"color\": \"#2a3f5f\"}, \"error_y\": {\"color\": \"#2a3f5f\"}, \"marker\": {\"line\": {\"color\": \"white\", \"width\": 0.5}}, \"type\": \"bar\"}], \"barpolar\": [{\"marker\": {\"line\": {\"color\": \"white\", \"width\": 0.5}}, \"type\": \"barpolar\"}], \"carpet\": [{\"aaxis\": {\"endlinecolor\": \"#2a3f5f\", \"gridcolor\": \"#C8D4E3\", \"linecolor\": \"#C8D4E3\", \"minorgridcolor\": \"#C8D4E3\", \"startlinecolor\": \"#2a3f5f\"}, \"baxis\": {\"endlinecolor\": \"#2a3f5f\", \"gridcolor\": \"#C8D4E3\", \"linecolor\": \"#C8D4E3\", \"minorgridcolor\": \"#C8D4E3\", \"startlinecolor\": \"#2a3f5f\"}, \"type\": \"carpet\"}], \"choropleth\": [{\"colorbar\": {\"outlinewidth\": 0, \"ticks\": \"\"}, \"type\": \"choropleth\"}], \"contour\": [{\"colorbar\": {\"outlinewidth\": 0, \"ticks\": \"\"}, \"colorscale\": [[0.0, \"#0d0887\"], [0.1111111111111111, \"#46039f\"], [0.2222222222222222, \"#7201a8\"], [0.3333333333333333, \"#9c179e\"], [0.4444444444444444, \"#bd3786\"], [0.5555555555555556, \"#d8576b\"], [0.6666666666666666, \"#ed7953\"], [0.7777777777777778, \"#fb9f3a\"], [0.8888888888888888, \"#fdca26\"], [1.0, \"#f0f921\"]], \"type\": \"contour\"}], \"contourcarpet\": [{\"colorbar\": {\"outlinewidth\": 0, \"ticks\": \"\"}, \"type\": \"contourcarpet\"}], \"heatmap\": [{\"colorbar\": {\"outlinewidth\": 0, \"ticks\": \"\"}, \"colorscale\": [[0.0, \"#0d0887\"], [0.1111111111111111, \"#46039f\"], [0.2222222222222222, \"#7201a8\"], [0.3333333333333333, \"#9c179e\"], [0.4444444444444444, \"#bd3786\"], [0.5555555555555556, \"#d8576b\"], [0.6666666666666666, \"#ed7953\"], [0.7777777777777778, \"#fb9f3a\"], [0.8888888888888888, \"#fdca26\"], [1.0, \"#f0f921\"]], \"type\": \"heatmap\"}], \"heatmapgl\": [{\"colorbar\": {\"outlinewidth\": 0, \"ticks\": \"\"}, \"colorscale\": [[0.0, \"#0d0887\"], [0.1111111111111111, \"#46039f\"], [0.2222222222222222, \"#7201a8\"], [0.3333333333333333, \"#9c179e\"], [0.4444444444444444, \"#bd3786\"], [0.5555555555555556, \"#d8576b\"], [0.6666666666666666, \"#ed7953\"], [0.7777777777777778, \"#fb9f3a\"], [0.8888888888888888, \"#fdca26\"], [1.0, \"#f0f921\"]], \"type\": \"heatmapgl\"}], \"histogram\": [{\"marker\": {\"colorbar\": {\"outlinewidth\": 0, \"ticks\": \"\"}}, \"type\": \"histogram\"}], \"histogram2d\": [{\"colorbar\": {\"outlinewidth\": 0, \"ticks\": \"\"}, \"colorscale\": [[0.0, \"#0d0887\"], [0.1111111111111111, \"#46039f\"], [0.2222222222222222, \"#7201a8\"], [0.3333333333333333, \"#9c179e\"], [0.4444444444444444, \"#bd3786\"], [0.5555555555555556, \"#d8576b\"], [0.6666666666666666, \"#ed7953\"], [0.7777777777777778, \"#fb9f3a\"], [0.8888888888888888, \"#fdca26\"], [1.0, \"#f0f921\"]], \"type\": \"histogram2d\"}], \"histogram2dcontour\": [{\"colorbar\": {\"outlinewidth\": 0, \"ticks\": \"\"}, \"colorscale\": [[0.0, \"#0d0887\"], [0.1111111111111111, \"#46039f\"], [0.2222222222222222, \"#7201a8\"], [0.3333333333333333, \"#9c179e\"], [0.4444444444444444, \"#bd3786\"], [0.5555555555555556, \"#d8576b\"], [0.6666666666666666, \"#ed7953\"], [0.7777777777777778, \"#fb9f3a\"], [0.8888888888888888, \"#fdca26\"], [1.0, \"#f0f921\"]], \"type\": \"histogram2dcontour\"}], \"mesh3d\": [{\"colorbar\": {\"outlinewidth\": 0, \"ticks\": \"\"}, \"type\": \"mesh3d\"}], \"parcoords\": [{\"line\": {\"colorbar\": {\"outlinewidth\": 0, \"ticks\": \"\"}}, \"type\": \"parcoords\"}], \"pie\": [{\"automargin\": true, \"type\": \"pie\"}], \"scatter\": [{\"marker\": {\"colorbar\": {\"outlinewidth\": 0, \"ticks\": \"\"}}, \"type\": \"scatter\"}], \"scatter3d\": [{\"line\": {\"colorbar\": {\"outlinewidth\": 0, \"ticks\": \"\"}}, \"marker\": {\"colorbar\": {\"outlinewidth\": 0, \"ticks\": \"\"}}, \"type\": \"scatter3d\"}], \"scattercarpet\": [{\"marker\": {\"colorbar\": {\"outlinewidth\": 0, \"ticks\": \"\"}}, \"type\": \"scattercarpet\"}], \"scattergeo\": [{\"marker\": {\"colorbar\": {\"outlinewidth\": 0, \"ticks\": \"\"}}, \"type\": \"scattergeo\"}], \"scattergl\": [{\"marker\": {\"colorbar\": {\"outlinewidth\": 0, \"ticks\": \"\"}}, \"type\": \"scattergl\"}], \"scattermapbox\": [{\"marker\": {\"colorbar\": {\"outlinewidth\": 0, \"ticks\": \"\"}}, \"type\": \"scattermapbox\"}], \"scatterpolar\": [{\"marker\": {\"colorbar\": {\"outlinewidth\": 0, \"ticks\": \"\"}}, \"type\": \"scatterpolar\"}], \"scatterpolargl\": [{\"marker\": {\"colorbar\": {\"outlinewidth\": 0, \"ticks\": \"\"}}, \"type\": \"scatterpolargl\"}], \"scatterternary\": [{\"marker\": {\"colorbar\": {\"outlinewidth\": 0, \"ticks\": \"\"}}, \"type\": \"scatterternary\"}], \"surface\": [{\"colorbar\": {\"outlinewidth\": 0, \"ticks\": \"\"}, \"colorscale\": [[0.0, \"#0d0887\"], [0.1111111111111111, \"#46039f\"], [0.2222222222222222, \"#7201a8\"], [0.3333333333333333, \"#9c179e\"], [0.4444444444444444, \"#bd3786\"], [0.5555555555555556, \"#d8576b\"], [0.6666666666666666, \"#ed7953\"], [0.7777777777777778, \"#fb9f3a\"], [0.8888888888888888, \"#fdca26\"], [1.0, \"#f0f921\"]], \"type\": \"surface\"}], \"table\": [{\"cells\": {\"fill\": {\"color\": \"#EBF0F8\"}, \"line\": {\"color\": \"white\"}}, \"header\": {\"fill\": {\"color\": \"#C8D4E3\"}, \"line\": {\"color\": \"white\"}}, \"type\": \"table\"}]}, \"layout\": {\"annotationdefaults\": {\"arrowcolor\": \"#2a3f5f\", \"arrowhead\": 0, \"arrowwidth\": 1}, \"coloraxis\": {\"colorbar\": {\"outlinewidth\": 0, \"ticks\": \"\"}}, \"colorscale\": {\"diverging\": [[0, \"#8e0152\"], [0.1, \"#c51b7d\"], [0.2, \"#de77ae\"], [0.3, \"#f1b6da\"], [0.4, \"#fde0ef\"], [0.5, \"#f7f7f7\"], [0.6, \"#e6f5d0\"], [0.7, \"#b8e186\"], [0.8, \"#7fbc41\"], [0.9, \"#4d9221\"], [1, \"#276419\"]], \"sequential\": [[0.0, \"#0d0887\"], [0.1111111111111111, \"#46039f\"], [0.2222222222222222, \"#7201a8\"], [0.3333333333333333, \"#9c179e\"], [0.4444444444444444, \"#bd3786\"], [0.5555555555555556, \"#d8576b\"], [0.6666666666666666, \"#ed7953\"], [0.7777777777777778, \"#fb9f3a\"], [0.8888888888888888, \"#fdca26\"], [1.0, \"#f0f921\"]], \"sequentialminus\": [[0.0, \"#0d0887\"], [0.1111111111111111, \"#46039f\"], [0.2222222222222222, \"#7201a8\"], [0.3333333333333333, \"#9c179e\"], [0.4444444444444444, \"#bd3786\"], [0.5555555555555556, \"#d8576b\"], [0.6666666666666666, \"#ed7953\"], [0.7777777777777778, \"#fb9f3a\"], [0.8888888888888888, \"#fdca26\"], [1.0, \"#f0f921\"]]}, \"colorway\": [\"#1f77b4\", \"#ff7f0e\", \"#2ca02c\", \"#d62728\", \"#9467bd\", \"#8c564b\", \"#e377c2\", \"#7f7f7f\", \"#bcbd22\", \"#17becf\"], \"font\": {\"color\": \"#2a3f5f\"}, \"geo\": {\"bgcolor\": \"white\", \"lakecolor\": \"white\", \"landcolor\": \"white\", \"showlakes\": true, \"showland\": true, \"subunitcolor\": \"#C8D4E3\"}, \"hoverlabel\": {\"align\": \"left\"}, \"hovermode\": \"closest\", \"mapbox\": {\"style\": \"light\"}, \"paper_bgcolor\": \"white\", \"plot_bgcolor\": \"white\", \"polar\": {\"angularaxis\": {\"gridcolor\": \"#EBF0F8\", \"linecolor\": \"#EBF0F8\", \"ticks\": \"\"}, \"bgcolor\": \"white\", \"radialaxis\": {\"gridcolor\": \"#EBF0F8\", \"linecolor\": \"#EBF0F8\", \"ticks\": \"\"}}, \"scene\": {\"xaxis\": {\"backgroundcolor\": \"white\", \"gridcolor\": \"#DFE8F3\", \"gridwidth\": 2, \"linecolor\": \"#EBF0F8\", \"showbackground\": true, \"showspikes\": false, \"ticks\": \"\", \"zerolinecolor\": \"#EBF0F8\"}, \"yaxis\": {\"backgroundcolor\": \"white\", \"gridcolor\": \"#DFE8F3\", \"gridwidth\": 2, \"linecolor\": \"#EBF0F8\", \"showbackground\": true, \"showspikes\": false, \"ticks\": \"\", \"zerolinecolor\": \"#EBF0F8\"}, \"zaxis\": {\"backgroundcolor\": \"white\", \"gridcolor\": \"#DFE8F3\", \"gridwidth\": 2, \"linecolor\": \"#EBF0F8\", \"showbackground\": true, \"showspikes\": false, \"ticks\": \"\", \"zerolinecolor\": \"#EBF0F8\"}}, \"shapedefaults\": {\"line\": {\"color\": \"#2a3f5f\"}}, \"ternary\": {\"aaxis\": {\"gridcolor\": \"#DFE8F3\", \"linecolor\": \"#A2B1C6\", \"ticks\": \"\"}, \"baxis\": {\"gridcolor\": \"#DFE8F3\", \"linecolor\": \"#A2B1C6\", \"ticks\": \"\"}, \"bgcolor\": \"white\", \"caxis\": {\"gridcolor\": \"#DFE8F3\", \"linecolor\": \"#A2B1C6\", \"ticks\": \"\"}}, \"title\": {\"x\": 0.05}, \"xaxis\": {\"automargin\": true, \"gridcolor\": \"#EBF0F8\", \"linecolor\": \"black\", \"linewidth\": 2.0, \"mirror\": true, \"showline\": true, \"ticks\": \"\", \"title\": {\"standoff\": 15}, \"zeroline\": false, \"zerolinecolor\": \"#EBF0F8\", \"zerolinewidth\": 2}, \"yaxis\": {\"automargin\": true, \"gridcolor\": \"#EBF0F8\", \"linecolor\": \"black\", \"linewidth\": 2.0, \"mirror\": true, \"showline\": true, \"ticks\": \"\", \"title\": {\"standoff\": 15}, \"zeroline\": false, \"zerolinecolor\": \"#EBF0F8\", \"zerolinewidth\": 2}}}, \"xaxis\": {\"range\": [2.9034861111111114, 7.585513888888889], \"title\": {\"text\": \"Volume Flow (m<sup>3</sup>/s)\"}}, \"yaxis\": {\"title\": {\"text\": \"Head (J/kg)\"}}},                        {\"responsive\": true}                    ).then(function(){\n",
       "                            \n",
       "var gd = document.getElementById('93022672-b2b9-47d8-ac6d-56cf81055bd5');\n",
       "var x = new MutationObserver(function (mutations, observer) {{\n",
       "        var display = window.getComputedStyle(gd).display;\n",
       "        if (!display || display === 'none') {{\n",
       "            console.log([gd, 'removed!']);\n",
       "            Plotly.purge(gd);\n",
       "            observer.disconnect();\n",
       "        }}\n",
       "}});\n",
       "\n",
       "// Listen for the removal of the full notebook cells\n",
       "var notebookContainer = gd.closest('#notebook-container');\n",
       "if (notebookContainer) {{\n",
       "    x.observe(notebookContainer, {childList: true});\n",
       "}}\n",
       "\n",
       "// Listen for the clearing of the current output cell\n",
       "var outputEl = gd.closest('.output');\n",
       "if (outputEl) {{\n",
       "    x.observe(outputEl, {childList: true});\n",
       "}}\n",
       "\n",
       "                        })                };                });            </script>        </div>"
      ]
     },
     "metadata": {},
     "output_type": "display_data"
    }
   ],
   "source": [
    "fig = imp.head_plot(flow_v=5.5, speed=900)\n",
    "fig"
   ]
  },
  {
   "cell_type": "markdown",
   "id": "involved-globe",
   "metadata": {},
   "source": [
    "It is also possible to plot discharge parameters such as T (temperature), p (pressure), rho (specific mass) and so on:"
   ]
  },
  {
   "cell_type": "code",
   "execution_count": 41,
   "id": "homeless-borough",
   "metadata": {},
   "outputs": [
    {
     "data": {
      "application/vnd.plotly.v1+json": {
       "config": {
        "plotlyServerURL": "https://plot.ly"
       },
       "data": [
        {
         "name": "721.0 radian / second",
         "type": "scatter",
         "x": [
          3.116305555555556,
          3.1546197318007665,
          3.192933908045977,
          3.231248084291188,
          3.2695622605363988,
          3.3078764367816094,
          3.34619061302682,
          3.384504789272031,
          3.4228189655172416,
          3.4611331417624522,
          3.499447318007663,
          3.537761494252874,
          3.5760756704980845,
          3.614389846743295,
          3.6527040229885057,
          3.6910181992337163,
          3.7293323754789274,
          3.767646551724138,
          3.8059607279693486,
          3.8442749042145596,
          3.8825890804597702,
          3.920903256704981,
          3.9592174329501915,
          3.997531609195402,
          4.035845785440613,
          4.074159961685823,
          4.112474137931034,
          4.150788314176245,
          4.1891024904214555,
          4.227416666666667
         ],
         "y": [
          380.36428446366887,
          379.99413338405657,
          379.61953022262253,
          379.24046499096335,
          378.8569277006754,
          378.4689083633551,
          378.0763969905993,
          377.67938359400415,
          377.27785818516634,
          376.8718107756822,
          376.46127008065895,
          376.04858702583704,
          375.63971196343897,
          375.24090487377185,
          374.8584257371426,
          374.4980234373706,
          374.1536916390591,
          373.8076687875958,
          373.4416822318805,
          373.0374593208131,
          372.5784908901112,
          372.0687683097476,
          371.52550910082766,
          370.966151220309,
          370.40813262514934,
          369.86889127230626,
          369.36586511873736,
          368.91649212140015,
          368.5382102372523,
          368.2484574232516
         ]
        },
        {
         "name": "824.0 radian / second",
         "type": "scatter",
         "x": [
          3.5879722222222226,
          3.639955938697318,
          3.691939655172414,
          3.7439233716475098,
          3.795907088122606,
          3.8478908045977014,
          3.899874521072797,
          3.951858237547893,
          4.003841954022988,
          4.055825670498084,
          4.10780938697318,
          4.159793103448276,
          4.211776819923371,
          4.263760536398467,
          4.3157442528735634,
          4.367727969348659,
          4.419711685823755,
          4.471695402298851,
          4.523679118773946,
          4.575662835249042,
          4.627646551724138,
          4.679630268199233,
          4.731613984674329,
          4.783597701149425,
          4.835581417624521,
          4.887565134099616,
          4.939548850574712,
          4.991532567049807,
          5.043516283524903,
          5.0954999999999995
         ],
         "y": [
          402.0677756702763,
          401.8368475503944,
          401.54933831897023,
          401.2101681358202,
          400.8242571607606,
          400.39652555360806,
          399.9318934741789,
          399.4352810822897,
          398.9116085377569,
          398.3657960003966,
          397.80275010787585,
          397.22656616887815,
          396.6400819321636,
          396.04602696929396,
          395.4471308518315,
          394.8460474298518,
          394.2436889592367,
          393.63922610167464,
          393.0317537973677,
          392.4203669865175,
          391.80349628667784,
          391.17184956461915,
          390.51115226725113,
          389.807046801153,
          389.0451755729033,
          388.2111809890812,
          387.29070545626547,
          386.26939138103506,
          385.13288116996887,
          383.86681722964573
         ]
        },
        {
         "name": "927.0 radian / second",
         "type": "scatter",
         "x": [
          4.166666666666667,
          4.22932662835249,
          4.291986590038315,
          4.354646551724138,
          4.417306513409962,
          4.479966475095786,
          4.542626436781609,
          4.605286398467433,
          4.667946360153257,
          4.730606321839081,
          4.793266283524904,
          4.855926245210728,
          4.918586206896552,
          4.981246168582375,
          5.0439061302682,
          5.106566091954023,
          5.169226053639846,
          5.231886015325671,
          5.294545977011494,
          5.357205938697318,
          5.419865900383142,
          5.482525862068965,
          5.545185823754789,
          5.607845785440613,
          5.670505747126437,
          5.73316570881226,
          5.795825670498084,
          5.858485632183908,
          5.921145593869731,
          5.983805555555556
         ],
         "y": [
          428.1824203741169,
          427.49319670143217,
          426.8662453075358,
          426.2862801502547,
          425.738015187416,
          425.2061643768469,
          424.67544167637396,
          424.13056104382486,
          423.556236437026,
          422.9371818138048,
          422.2583617172576,
          421.5197758066409,
          420.74472817125957,
          419.95852758257325,
          419.18648281204133,
          418.45291227859167,
          417.7593562929178,
          417.08457705747924,
          416.4063464222037,
          415.7024362370187,
          414.95114477263155,
          414.1368899413146,
          413.2480378111887,
          412.2730202529716,
          411.2002691373813,
          410.0182163351358,
          408.7152937169534,
          407.27993315355195,
          405.7005665156495,
          403.96562567396404
         ]
        },
        {
         "name": "1029.0 radian / second",
         "type": "scatter",
         "x": [
          4.907416666666667,
          4.976861111111112,
          5.0463055555555565,
          5.11575,
          5.185194444444445,
          5.2546388888888895,
          5.324083333333334,
          5.393527777777778,
          5.462972222222223,
          5.532416666666667,
          5.601861111111112,
          5.671305555555556,
          5.74075,
          5.810194444444445,
          5.8796388888888895,
          5.949083333333334,
          6.018527777777778,
          6.087972222222223,
          6.157416666666667,
          6.226861111111111,
          6.296305555555556,
          6.36575,
          6.435194444444445,
          6.5046388888888895,
          6.574083333333334,
          6.643527777777778,
          6.712972222222223,
          6.782416666666667,
          6.851861111111111,
          6.921305555555556
         ],
         "y": [
          454.36639981393864,
          453.7440781800878,
          453.1697603167656,
          452.62990817348214,
          452.1109836997483,
          451.5994488450744,
          451.08176555897074,
          450.5443957909481,
          449.9738014905165,
          449.356444607187,
          448.6789528459965,
          447.93789924359777,
          447.1452721006475,
          446.3143857620175,
          445.4585545725791,
          444.5910463602796,
          443.72405906379015,
          442.86872073250595,
          442.0361128988977,
          441.2373170954358,
          440.47797743632213,
          439.7005280483865,
          438.8066224214453,
          437.6972343680306,
          436.27333770067474,
          434.43590623191017,
          432.0859137742692,
          429.1243341402841,
          425.45214114248733,
          420.9703085934113
         ]
        },
        {
         "name": "1081.0 radian / second",
         "type": "scatter",
         "x": [
          5.590277777777778,
          5.651740421455939,
          5.7132030651341,
          5.77466570881226,
          5.836128352490421,
          5.897590996168582,
          5.9590536398467435,
          6.020516283524905,
          6.081978927203065,
          6.143441570881226,
          6.204904214559387,
          6.266366858237548,
          6.3278295019157085,
          6.38929214559387,
          6.450754789272031,
          6.512217432950192,
          6.573680076628353,
          6.635142720306513,
          6.696605363984674,
          6.758068007662835,
          6.819530651340997,
          6.880993295019158,
          6.942455938697318,
          7.003918582375479,
          7.06538122605364,
          7.126843869731801,
          7.188306513409962,
          7.249769157088123,
          7.311231800766284,
          7.372694444444445
         ],
         "y": [
          468.7307538821868,
          467.346032578679,
          466.1798721110121,
          465.1993616651657,
          464.3715904271198,
          463.6636475828539,
          463.04262231834787,
          462.47560381958135,
          461.92968127253414,
          461.37194386318606,
          460.7697213930256,
          460.1047805940694,
          459.3812654406529,
          458.6052448311816,
          457.78278766406146,
          456.92036792147417,
          456.03377651244966,
          455.14812127286643,
          454.28891512237874,
          453.481670980641,
          452.74337846723967,
          451.9919438384711,
          451.08134860012285,
          449.8645088454732,
          448.1943406678007,
          445.92376016038423,
          442.90568341650226,
          438.99302652943356,
          434.0387055924566,
          427.8956366988499
         ]
        },
        {
         "name": "900 radian / second",
         "type": "scatter",
         "x": [
          4.017352271657246,
          4.0772575549287255,
          4.137162838200204,
          4.197068121471684,
          4.256973404743164,
          4.3168786880146435,
          4.376783971286122,
          4.436689254557602,
          4.496594537829082,
          4.5564998211005605,
          4.61640510437204,
          4.67631038764352,
          4.736215670915,
          4.796120954186479,
          4.856026237457958,
          4.915931520729438,
          4.9758368040009175,
          5.035742087272396,
          5.095647370543876,
          5.155552653815356,
          5.2154579370868355,
          5.275363220358314,
          5.335268503629794,
          5.395173786901274,
          5.4550790701727525,
          5.514984353444232,
          5.574889636715712,
          5.634794919987192,
          5.69470020325867,
          5.75460548653015
         ],
         "y": [
          422.06551320920846,
          421.2456701130096,
          420.4995291850697,
          419.81509444998903,
          419.18036993236825,
          418.5833596568074,
          418.0120676479074,
          417.4544979302683,
          416.8986545284907,
          416.3325414671749,
          415.74421509565406,
          415.12487124719934,
          414.4705719551886,
          413.77779785085727,
          413.04302956544177,
          412.2628775863589,
          411.4369390932047,
          410.56779795775304,
          409.6581679079596,
          408.71076267177983,
          407.72717473138647,
          406.6959620867291,
          405.5972733943865,
          404.41111715521504,
          403.117501870071,
          401.69643603981075,
          400.1279281652902,
          398.39198674736605,
          396.46862028689424,
          394.33783728473134
         ]
        },
        {
         "name": "Flow: 5.50, disch.T: 402.05",
         "type": "scatter",
         "x": [
          5.5
         ],
         "y": [
          402.05203746328584
         ]
        }
       ],
       "layout": {
        "template": {
         "data": {
          "bar": [
           {
            "error_x": {
             "color": "#2a3f5f"
            },
            "error_y": {
             "color": "#2a3f5f"
            },
            "marker": {
             "line": {
              "color": "white",
              "width": 0.5
             }
            },
            "type": "bar"
           }
          ],
          "barpolar": [
           {
            "marker": {
             "line": {
              "color": "white",
              "width": 0.5
             }
            },
            "type": "barpolar"
           }
          ],
          "carpet": [
           {
            "aaxis": {
             "endlinecolor": "#2a3f5f",
             "gridcolor": "#C8D4E3",
             "linecolor": "#C8D4E3",
             "minorgridcolor": "#C8D4E3",
             "startlinecolor": "#2a3f5f"
            },
            "baxis": {
             "endlinecolor": "#2a3f5f",
             "gridcolor": "#C8D4E3",
             "linecolor": "#C8D4E3",
             "minorgridcolor": "#C8D4E3",
             "startlinecolor": "#2a3f5f"
            },
            "type": "carpet"
           }
          ],
          "choropleth": [
           {
            "colorbar": {
             "outlinewidth": 0,
             "ticks": ""
            },
            "type": "choropleth"
           }
          ],
          "contour": [
           {
            "colorbar": {
             "outlinewidth": 0,
             "ticks": ""
            },
            "colorscale": [
             [
              0,
              "#0d0887"
             ],
             [
              0.1111111111111111,
              "#46039f"
             ],
             [
              0.2222222222222222,
              "#7201a8"
             ],
             [
              0.3333333333333333,
              "#9c179e"
             ],
             [
              0.4444444444444444,
              "#bd3786"
             ],
             [
              0.5555555555555556,
              "#d8576b"
             ],
             [
              0.6666666666666666,
              "#ed7953"
             ],
             [
              0.7777777777777778,
              "#fb9f3a"
             ],
             [
              0.8888888888888888,
              "#fdca26"
             ],
             [
              1,
              "#f0f921"
             ]
            ],
            "type": "contour"
           }
          ],
          "contourcarpet": [
           {
            "colorbar": {
             "outlinewidth": 0,
             "ticks": ""
            },
            "type": "contourcarpet"
           }
          ],
          "heatmap": [
           {
            "colorbar": {
             "outlinewidth": 0,
             "ticks": ""
            },
            "colorscale": [
             [
              0,
              "#0d0887"
             ],
             [
              0.1111111111111111,
              "#46039f"
             ],
             [
              0.2222222222222222,
              "#7201a8"
             ],
             [
              0.3333333333333333,
              "#9c179e"
             ],
             [
              0.4444444444444444,
              "#bd3786"
             ],
             [
              0.5555555555555556,
              "#d8576b"
             ],
             [
              0.6666666666666666,
              "#ed7953"
             ],
             [
              0.7777777777777778,
              "#fb9f3a"
             ],
             [
              0.8888888888888888,
              "#fdca26"
             ],
             [
              1,
              "#f0f921"
             ]
            ],
            "type": "heatmap"
           }
          ],
          "heatmapgl": [
           {
            "colorbar": {
             "outlinewidth": 0,
             "ticks": ""
            },
            "colorscale": [
             [
              0,
              "#0d0887"
             ],
             [
              0.1111111111111111,
              "#46039f"
             ],
             [
              0.2222222222222222,
              "#7201a8"
             ],
             [
              0.3333333333333333,
              "#9c179e"
             ],
             [
              0.4444444444444444,
              "#bd3786"
             ],
             [
              0.5555555555555556,
              "#d8576b"
             ],
             [
              0.6666666666666666,
              "#ed7953"
             ],
             [
              0.7777777777777778,
              "#fb9f3a"
             ],
             [
              0.8888888888888888,
              "#fdca26"
             ],
             [
              1,
              "#f0f921"
             ]
            ],
            "type": "heatmapgl"
           }
          ],
          "histogram": [
           {
            "marker": {
             "colorbar": {
              "outlinewidth": 0,
              "ticks": ""
             }
            },
            "type": "histogram"
           }
          ],
          "histogram2d": [
           {
            "colorbar": {
             "outlinewidth": 0,
             "ticks": ""
            },
            "colorscale": [
             [
              0,
              "#0d0887"
             ],
             [
              0.1111111111111111,
              "#46039f"
             ],
             [
              0.2222222222222222,
              "#7201a8"
             ],
             [
              0.3333333333333333,
              "#9c179e"
             ],
             [
              0.4444444444444444,
              "#bd3786"
             ],
             [
              0.5555555555555556,
              "#d8576b"
             ],
             [
              0.6666666666666666,
              "#ed7953"
             ],
             [
              0.7777777777777778,
              "#fb9f3a"
             ],
             [
              0.8888888888888888,
              "#fdca26"
             ],
             [
              1,
              "#f0f921"
             ]
            ],
            "type": "histogram2d"
           }
          ],
          "histogram2dcontour": [
           {
            "colorbar": {
             "outlinewidth": 0,
             "ticks": ""
            },
            "colorscale": [
             [
              0,
              "#0d0887"
             ],
             [
              0.1111111111111111,
              "#46039f"
             ],
             [
              0.2222222222222222,
              "#7201a8"
             ],
             [
              0.3333333333333333,
              "#9c179e"
             ],
             [
              0.4444444444444444,
              "#bd3786"
             ],
             [
              0.5555555555555556,
              "#d8576b"
             ],
             [
              0.6666666666666666,
              "#ed7953"
             ],
             [
              0.7777777777777778,
              "#fb9f3a"
             ],
             [
              0.8888888888888888,
              "#fdca26"
             ],
             [
              1,
              "#f0f921"
             ]
            ],
            "type": "histogram2dcontour"
           }
          ],
          "mesh3d": [
           {
            "colorbar": {
             "outlinewidth": 0,
             "ticks": ""
            },
            "type": "mesh3d"
           }
          ],
          "parcoords": [
           {
            "line": {
             "colorbar": {
              "outlinewidth": 0,
              "ticks": ""
             }
            },
            "type": "parcoords"
           }
          ],
          "pie": [
           {
            "automargin": true,
            "type": "pie"
           }
          ],
          "scatter": [
           {
            "marker": {
             "colorbar": {
              "outlinewidth": 0,
              "ticks": ""
             }
            },
            "type": "scatter"
           }
          ],
          "scatter3d": [
           {
            "line": {
             "colorbar": {
              "outlinewidth": 0,
              "ticks": ""
             }
            },
            "marker": {
             "colorbar": {
              "outlinewidth": 0,
              "ticks": ""
             }
            },
            "type": "scatter3d"
           }
          ],
          "scattercarpet": [
           {
            "marker": {
             "colorbar": {
              "outlinewidth": 0,
              "ticks": ""
             }
            },
            "type": "scattercarpet"
           }
          ],
          "scattergeo": [
           {
            "marker": {
             "colorbar": {
              "outlinewidth": 0,
              "ticks": ""
             }
            },
            "type": "scattergeo"
           }
          ],
          "scattergl": [
           {
            "marker": {
             "colorbar": {
              "outlinewidth": 0,
              "ticks": ""
             }
            },
            "type": "scattergl"
           }
          ],
          "scattermapbox": [
           {
            "marker": {
             "colorbar": {
              "outlinewidth": 0,
              "ticks": ""
             }
            },
            "type": "scattermapbox"
           }
          ],
          "scatterpolar": [
           {
            "marker": {
             "colorbar": {
              "outlinewidth": 0,
              "ticks": ""
             }
            },
            "type": "scatterpolar"
           }
          ],
          "scatterpolargl": [
           {
            "marker": {
             "colorbar": {
              "outlinewidth": 0,
              "ticks": ""
             }
            },
            "type": "scatterpolargl"
           }
          ],
          "scatterternary": [
           {
            "marker": {
             "colorbar": {
              "outlinewidth": 0,
              "ticks": ""
             }
            },
            "type": "scatterternary"
           }
          ],
          "surface": [
           {
            "colorbar": {
             "outlinewidth": 0,
             "ticks": ""
            },
            "colorscale": [
             [
              0,
              "#0d0887"
             ],
             [
              0.1111111111111111,
              "#46039f"
             ],
             [
              0.2222222222222222,
              "#7201a8"
             ],
             [
              0.3333333333333333,
              "#9c179e"
             ],
             [
              0.4444444444444444,
              "#bd3786"
             ],
             [
              0.5555555555555556,
              "#d8576b"
             ],
             [
              0.6666666666666666,
              "#ed7953"
             ],
             [
              0.7777777777777778,
              "#fb9f3a"
             ],
             [
              0.8888888888888888,
              "#fdca26"
             ],
             [
              1,
              "#f0f921"
             ]
            ],
            "type": "surface"
           }
          ],
          "table": [
           {
            "cells": {
             "fill": {
              "color": "#EBF0F8"
             },
             "line": {
              "color": "white"
             }
            },
            "header": {
             "fill": {
              "color": "#C8D4E3"
             },
             "line": {
              "color": "white"
             }
            },
            "type": "table"
           }
          ]
         },
         "layout": {
          "annotationdefaults": {
           "arrowcolor": "#2a3f5f",
           "arrowhead": 0,
           "arrowwidth": 1
          },
          "coloraxis": {
           "colorbar": {
            "outlinewidth": 0,
            "ticks": ""
           }
          },
          "colorscale": {
           "diverging": [
            [
             0,
             "#8e0152"
            ],
            [
             0.1,
             "#c51b7d"
            ],
            [
             0.2,
             "#de77ae"
            ],
            [
             0.3,
             "#f1b6da"
            ],
            [
             0.4,
             "#fde0ef"
            ],
            [
             0.5,
             "#f7f7f7"
            ],
            [
             0.6,
             "#e6f5d0"
            ],
            [
             0.7,
             "#b8e186"
            ],
            [
             0.8,
             "#7fbc41"
            ],
            [
             0.9,
             "#4d9221"
            ],
            [
             1,
             "#276419"
            ]
           ],
           "sequential": [
            [
             0,
             "#0d0887"
            ],
            [
             0.1111111111111111,
             "#46039f"
            ],
            [
             0.2222222222222222,
             "#7201a8"
            ],
            [
             0.3333333333333333,
             "#9c179e"
            ],
            [
             0.4444444444444444,
             "#bd3786"
            ],
            [
             0.5555555555555556,
             "#d8576b"
            ],
            [
             0.6666666666666666,
             "#ed7953"
            ],
            [
             0.7777777777777778,
             "#fb9f3a"
            ],
            [
             0.8888888888888888,
             "#fdca26"
            ],
            [
             1,
             "#f0f921"
            ]
           ],
           "sequentialminus": [
            [
             0,
             "#0d0887"
            ],
            [
             0.1111111111111111,
             "#46039f"
            ],
            [
             0.2222222222222222,
             "#7201a8"
            ],
            [
             0.3333333333333333,
             "#9c179e"
            ],
            [
             0.4444444444444444,
             "#bd3786"
            ],
            [
             0.5555555555555556,
             "#d8576b"
            ],
            [
             0.6666666666666666,
             "#ed7953"
            ],
            [
             0.7777777777777778,
             "#fb9f3a"
            ],
            [
             0.8888888888888888,
             "#fdca26"
            ],
            [
             1,
             "#f0f921"
            ]
           ]
          },
          "colorway": [
           "#1f77b4",
           "#ff7f0e",
           "#2ca02c",
           "#d62728",
           "#9467bd",
           "#8c564b",
           "#e377c2",
           "#7f7f7f",
           "#bcbd22",
           "#17becf"
          ],
          "font": {
           "color": "#2a3f5f"
          },
          "geo": {
           "bgcolor": "white",
           "lakecolor": "white",
           "landcolor": "white",
           "showlakes": true,
           "showland": true,
           "subunitcolor": "#C8D4E3"
          },
          "hoverlabel": {
           "align": "left"
          },
          "hovermode": "closest",
          "mapbox": {
           "style": "light"
          },
          "paper_bgcolor": "white",
          "plot_bgcolor": "white",
          "polar": {
           "angularaxis": {
            "gridcolor": "#EBF0F8",
            "linecolor": "#EBF0F8",
            "ticks": ""
           },
           "bgcolor": "white",
           "radialaxis": {
            "gridcolor": "#EBF0F8",
            "linecolor": "#EBF0F8",
            "ticks": ""
           }
          },
          "scene": {
           "xaxis": {
            "backgroundcolor": "white",
            "gridcolor": "#DFE8F3",
            "gridwidth": 2,
            "linecolor": "#EBF0F8",
            "showbackground": true,
            "showspikes": false,
            "ticks": "",
            "zerolinecolor": "#EBF0F8"
           },
           "yaxis": {
            "backgroundcolor": "white",
            "gridcolor": "#DFE8F3",
            "gridwidth": 2,
            "linecolor": "#EBF0F8",
            "showbackground": true,
            "showspikes": false,
            "ticks": "",
            "zerolinecolor": "#EBF0F8"
           },
           "zaxis": {
            "backgroundcolor": "white",
            "gridcolor": "#DFE8F3",
            "gridwidth": 2,
            "linecolor": "#EBF0F8",
            "showbackground": true,
            "showspikes": false,
            "ticks": "",
            "zerolinecolor": "#EBF0F8"
           }
          },
          "shapedefaults": {
           "line": {
            "color": "#2a3f5f"
           }
          },
          "ternary": {
           "aaxis": {
            "gridcolor": "#DFE8F3",
            "linecolor": "#A2B1C6",
            "ticks": ""
           },
           "baxis": {
            "gridcolor": "#DFE8F3",
            "linecolor": "#A2B1C6",
            "ticks": ""
           },
           "bgcolor": "white",
           "caxis": {
            "gridcolor": "#DFE8F3",
            "linecolor": "#A2B1C6",
            "ticks": ""
           }
          },
          "title": {
           "x": 0.05
          },
          "xaxis": {
           "automargin": true,
           "gridcolor": "#EBF0F8",
           "linecolor": "black",
           "linewidth": 2,
           "mirror": true,
           "showline": true,
           "ticks": "",
           "title": {
            "standoff": 15
           },
           "zeroline": false,
           "zerolinecolor": "#EBF0F8",
           "zerolinewidth": 2
          },
          "yaxis": {
           "automargin": true,
           "gridcolor": "#EBF0F8",
           "linecolor": "black",
           "linewidth": 2,
           "mirror": true,
           "showline": true,
           "ticks": "",
           "title": {
            "standoff": 15
           },
           "zeroline": false,
           "zerolinecolor": "#EBF0F8",
           "zerolinewidth": 2
          }
         }
        },
        "xaxis": {
         "range": [
          2.9034861111111114,
          7.585513888888889
         ],
         "title": {
          "text": "Volume Flow (m<sup>3</sup>/s)"
         }
        },
        "yaxis": {
         "title": {
          "text": "T (K)"
         }
        }
       }
      },
      "text/html": [
       "<div>                            <div id=\"94b3437d-6eba-4fbd-808c-a9b8d090ede8\" class=\"plotly-graph-div\" style=\"height:525px; width:100%;\"></div>            <script type=\"text/javascript\">                require([\"plotly\"], function(Plotly) {                    window.PLOTLYENV=window.PLOTLYENV || {};                                    if (document.getElementById(\"94b3437d-6eba-4fbd-808c-a9b8d090ede8\")) {                    Plotly.newPlot(                        \"94b3437d-6eba-4fbd-808c-a9b8d090ede8\",                        [{\"name\": \"721.0 radian / second\", \"type\": \"scatter\", \"x\": [3.116305555555556, 3.1546197318007665, 3.192933908045977, 3.231248084291188, 3.2695622605363988, 3.3078764367816094, 3.34619061302682, 3.384504789272031, 3.4228189655172416, 3.4611331417624522, 3.499447318007663, 3.537761494252874, 3.5760756704980845, 3.614389846743295, 3.6527040229885057, 3.6910181992337163, 3.7293323754789274, 3.767646551724138, 3.8059607279693486, 3.8442749042145596, 3.8825890804597702, 3.920903256704981, 3.9592174329501915, 3.997531609195402, 4.035845785440613, 4.074159961685823, 4.112474137931034, 4.150788314176245, 4.1891024904214555, 4.227416666666667], \"y\": [380.36428446366887, 379.99413338405657, 379.61953022262253, 379.24046499096335, 378.8569277006754, 378.4689083633551, 378.0763969905993, 377.67938359400415, 377.27785818516634, 376.8718107756822, 376.46127008065895, 376.04858702583704, 375.63971196343897, 375.24090487377185, 374.8584257371426, 374.4980234373706, 374.1536916390591, 373.8076687875958, 373.4416822318805, 373.0374593208131, 372.5784908901112, 372.0687683097476, 371.52550910082766, 370.966151220309, 370.40813262514934, 369.86889127230626, 369.36586511873736, 368.91649212140015, 368.5382102372523, 368.2484574232516]}, {\"name\": \"824.0 radian / second\", \"type\": \"scatter\", \"x\": [3.5879722222222226, 3.639955938697318, 3.691939655172414, 3.7439233716475098, 3.795907088122606, 3.8478908045977014, 3.899874521072797, 3.951858237547893, 4.003841954022988, 4.055825670498084, 4.10780938697318, 4.159793103448276, 4.211776819923371, 4.263760536398467, 4.3157442528735634, 4.367727969348659, 4.419711685823755, 4.471695402298851, 4.523679118773946, 4.575662835249042, 4.627646551724138, 4.679630268199233, 4.731613984674329, 4.783597701149425, 4.835581417624521, 4.887565134099616, 4.939548850574712, 4.991532567049807, 5.043516283524903, 5.0954999999999995], \"y\": [402.0677756702763, 401.8368475503944, 401.54933831897023, 401.2101681358202, 400.8242571607606, 400.39652555360806, 399.9318934741789, 399.4352810822897, 398.9116085377569, 398.3657960003966, 397.80275010787585, 397.22656616887815, 396.6400819321636, 396.04602696929396, 395.4471308518315, 394.8460474298518, 394.2436889592367, 393.63922610167464, 393.0317537973677, 392.4203669865175, 391.80349628667784, 391.17184956461915, 390.51115226725113, 389.807046801153, 389.0451755729033, 388.2111809890812, 387.29070545626547, 386.26939138103506, 385.13288116996887, 383.86681722964573]}, {\"name\": \"927.0 radian / second\", \"type\": \"scatter\", \"x\": [4.166666666666667, 4.22932662835249, 4.291986590038315, 4.354646551724138, 4.417306513409962, 4.479966475095786, 4.542626436781609, 4.605286398467433, 4.667946360153257, 4.730606321839081, 4.793266283524904, 4.855926245210728, 4.918586206896552, 4.981246168582375, 5.0439061302682, 5.106566091954023, 5.169226053639846, 5.231886015325671, 5.294545977011494, 5.357205938697318, 5.419865900383142, 5.482525862068965, 5.545185823754789, 5.607845785440613, 5.670505747126437, 5.73316570881226, 5.795825670498084, 5.858485632183908, 5.921145593869731, 5.983805555555556], \"y\": [428.1824203741169, 427.49319670143217, 426.8662453075358, 426.2862801502547, 425.738015187416, 425.2061643768469, 424.67544167637396, 424.13056104382486, 423.556236437026, 422.9371818138048, 422.2583617172576, 421.5197758066409, 420.74472817125957, 419.95852758257325, 419.18648281204133, 418.45291227859167, 417.7593562929178, 417.08457705747924, 416.4063464222037, 415.7024362370187, 414.95114477263155, 414.1368899413146, 413.2480378111887, 412.2730202529716, 411.2002691373813, 410.0182163351358, 408.7152937169534, 407.27993315355195, 405.7005665156495, 403.96562567396404]}, {\"name\": \"1029.0 radian / second\", \"type\": \"scatter\", \"x\": [4.907416666666667, 4.976861111111112, 5.0463055555555565, 5.11575, 5.185194444444445, 5.2546388888888895, 5.324083333333334, 5.393527777777778, 5.462972222222223, 5.532416666666667, 5.601861111111112, 5.671305555555556, 5.74075, 5.810194444444445, 5.8796388888888895, 5.949083333333334, 6.018527777777778, 6.087972222222223, 6.157416666666667, 6.226861111111111, 6.296305555555556, 6.36575, 6.435194444444445, 6.5046388888888895, 6.574083333333334, 6.643527777777778, 6.712972222222223, 6.782416666666667, 6.851861111111111, 6.921305555555556], \"y\": [454.36639981393864, 453.7440781800878, 453.1697603167656, 452.62990817348214, 452.1109836997483, 451.5994488450744, 451.08176555897074, 450.5443957909481, 449.9738014905165, 449.356444607187, 448.6789528459965, 447.93789924359777, 447.1452721006475, 446.3143857620175, 445.4585545725791, 444.5910463602796, 443.72405906379015, 442.86872073250595, 442.0361128988977, 441.2373170954358, 440.47797743632213, 439.7005280483865, 438.8066224214453, 437.6972343680306, 436.27333770067474, 434.43590623191017, 432.0859137742692, 429.1243341402841, 425.45214114248733, 420.9703085934113]}, {\"name\": \"1081.0 radian / second\", \"type\": \"scatter\", \"x\": [5.590277777777778, 5.651740421455939, 5.7132030651341, 5.77466570881226, 5.836128352490421, 5.897590996168582, 5.9590536398467435, 6.020516283524905, 6.081978927203065, 6.143441570881226, 6.204904214559387, 6.266366858237548, 6.3278295019157085, 6.38929214559387, 6.450754789272031, 6.512217432950192, 6.573680076628353, 6.635142720306513, 6.696605363984674, 6.758068007662835, 6.819530651340997, 6.880993295019158, 6.942455938697318, 7.003918582375479, 7.06538122605364, 7.126843869731801, 7.188306513409962, 7.249769157088123, 7.311231800766284, 7.372694444444445], \"y\": [468.7307538821868, 467.346032578679, 466.1798721110121, 465.1993616651657, 464.3715904271198, 463.6636475828539, 463.04262231834787, 462.47560381958135, 461.92968127253414, 461.37194386318606, 460.7697213930256, 460.1047805940694, 459.3812654406529, 458.6052448311816, 457.78278766406146, 456.92036792147417, 456.03377651244966, 455.14812127286643, 454.28891512237874, 453.481670980641, 452.74337846723967, 451.9919438384711, 451.08134860012285, 449.8645088454732, 448.1943406678007, 445.92376016038423, 442.90568341650226, 438.99302652943356, 434.0387055924566, 427.8956366988499]}, {\"name\": \"900 radian / second\", \"type\": \"scatter\", \"x\": [4.017352271657246, 4.0772575549287255, 4.137162838200204, 4.197068121471684, 4.256973404743164, 4.3168786880146435, 4.376783971286122, 4.436689254557602, 4.496594537829082, 4.5564998211005605, 4.61640510437204, 4.67631038764352, 4.736215670915, 4.796120954186479, 4.856026237457958, 4.915931520729438, 4.9758368040009175, 5.035742087272396, 5.095647370543876, 5.155552653815356, 5.2154579370868355, 5.275363220358314, 5.335268503629794, 5.395173786901274, 5.4550790701727525, 5.514984353444232, 5.574889636715712, 5.634794919987192, 5.69470020325867, 5.75460548653015], \"y\": [422.06551320920846, 421.2456701130096, 420.4995291850697, 419.81509444998903, 419.18036993236825, 418.5833596568074, 418.0120676479074, 417.4544979302683, 416.8986545284907, 416.3325414671749, 415.74421509565406, 415.12487124719934, 414.4705719551886, 413.77779785085727, 413.04302956544177, 412.2628775863589, 411.4369390932047, 410.56779795775304, 409.6581679079596, 408.71076267177983, 407.72717473138647, 406.6959620867291, 405.5972733943865, 404.41111715521504, 403.117501870071, 401.69643603981075, 400.1279281652902, 398.39198674736605, 396.46862028689424, 394.33783728473134]}, {\"name\": \"Flow: 5.50, disch.T: 402.05\", \"type\": \"scatter\", \"x\": [5.5], \"y\": [402.05203746328584]}],                        {\"template\": {\"data\": {\"bar\": [{\"error_x\": {\"color\": \"#2a3f5f\"}, \"error_y\": {\"color\": \"#2a3f5f\"}, \"marker\": {\"line\": {\"color\": \"white\", \"width\": 0.5}}, \"type\": \"bar\"}], \"barpolar\": [{\"marker\": {\"line\": {\"color\": \"white\", \"width\": 0.5}}, \"type\": \"barpolar\"}], \"carpet\": [{\"aaxis\": {\"endlinecolor\": \"#2a3f5f\", \"gridcolor\": \"#C8D4E3\", \"linecolor\": \"#C8D4E3\", \"minorgridcolor\": \"#C8D4E3\", \"startlinecolor\": \"#2a3f5f\"}, \"baxis\": {\"endlinecolor\": \"#2a3f5f\", \"gridcolor\": \"#C8D4E3\", \"linecolor\": \"#C8D4E3\", \"minorgridcolor\": \"#C8D4E3\", \"startlinecolor\": \"#2a3f5f\"}, \"type\": \"carpet\"}], \"choropleth\": [{\"colorbar\": {\"outlinewidth\": 0, \"ticks\": \"\"}, \"type\": \"choropleth\"}], \"contour\": [{\"colorbar\": {\"outlinewidth\": 0, \"ticks\": \"\"}, \"colorscale\": [[0.0, \"#0d0887\"], [0.1111111111111111, \"#46039f\"], [0.2222222222222222, \"#7201a8\"], [0.3333333333333333, \"#9c179e\"], [0.4444444444444444, \"#bd3786\"], [0.5555555555555556, \"#d8576b\"], [0.6666666666666666, \"#ed7953\"], [0.7777777777777778, \"#fb9f3a\"], [0.8888888888888888, \"#fdca26\"], [1.0, \"#f0f921\"]], \"type\": \"contour\"}], \"contourcarpet\": [{\"colorbar\": {\"outlinewidth\": 0, \"ticks\": \"\"}, \"type\": \"contourcarpet\"}], \"heatmap\": [{\"colorbar\": {\"outlinewidth\": 0, \"ticks\": \"\"}, \"colorscale\": [[0.0, \"#0d0887\"], [0.1111111111111111, \"#46039f\"], [0.2222222222222222, \"#7201a8\"], [0.3333333333333333, \"#9c179e\"], [0.4444444444444444, \"#bd3786\"], [0.5555555555555556, \"#d8576b\"], [0.6666666666666666, \"#ed7953\"], [0.7777777777777778, \"#fb9f3a\"], [0.8888888888888888, \"#fdca26\"], [1.0, \"#f0f921\"]], \"type\": \"heatmap\"}], \"heatmapgl\": [{\"colorbar\": {\"outlinewidth\": 0, \"ticks\": \"\"}, \"colorscale\": [[0.0, \"#0d0887\"], [0.1111111111111111, \"#46039f\"], [0.2222222222222222, \"#7201a8\"], [0.3333333333333333, \"#9c179e\"], [0.4444444444444444, \"#bd3786\"], [0.5555555555555556, \"#d8576b\"], [0.6666666666666666, \"#ed7953\"], [0.7777777777777778, \"#fb9f3a\"], [0.8888888888888888, \"#fdca26\"], [1.0, \"#f0f921\"]], \"type\": \"heatmapgl\"}], \"histogram\": [{\"marker\": {\"colorbar\": {\"outlinewidth\": 0, \"ticks\": \"\"}}, \"type\": \"histogram\"}], \"histogram2d\": [{\"colorbar\": {\"outlinewidth\": 0, \"ticks\": \"\"}, \"colorscale\": [[0.0, \"#0d0887\"], [0.1111111111111111, \"#46039f\"], [0.2222222222222222, \"#7201a8\"], [0.3333333333333333, \"#9c179e\"], [0.4444444444444444, \"#bd3786\"], [0.5555555555555556, \"#d8576b\"], [0.6666666666666666, \"#ed7953\"], [0.7777777777777778, \"#fb9f3a\"], [0.8888888888888888, \"#fdca26\"], [1.0, \"#f0f921\"]], \"type\": \"histogram2d\"}], \"histogram2dcontour\": [{\"colorbar\": {\"outlinewidth\": 0, \"ticks\": \"\"}, \"colorscale\": [[0.0, \"#0d0887\"], [0.1111111111111111, \"#46039f\"], [0.2222222222222222, \"#7201a8\"], [0.3333333333333333, \"#9c179e\"], [0.4444444444444444, \"#bd3786\"], [0.5555555555555556, \"#d8576b\"], [0.6666666666666666, \"#ed7953\"], [0.7777777777777778, \"#fb9f3a\"], [0.8888888888888888, \"#fdca26\"], [1.0, \"#f0f921\"]], \"type\": \"histogram2dcontour\"}], \"mesh3d\": [{\"colorbar\": {\"outlinewidth\": 0, \"ticks\": \"\"}, \"type\": \"mesh3d\"}], \"parcoords\": [{\"line\": {\"colorbar\": {\"outlinewidth\": 0, \"ticks\": \"\"}}, \"type\": \"parcoords\"}], \"pie\": [{\"automargin\": true, \"type\": \"pie\"}], \"scatter\": [{\"marker\": {\"colorbar\": {\"outlinewidth\": 0, \"ticks\": \"\"}}, \"type\": \"scatter\"}], \"scatter3d\": [{\"line\": {\"colorbar\": {\"outlinewidth\": 0, \"ticks\": \"\"}}, \"marker\": {\"colorbar\": {\"outlinewidth\": 0, \"ticks\": \"\"}}, \"type\": \"scatter3d\"}], \"scattercarpet\": [{\"marker\": {\"colorbar\": {\"outlinewidth\": 0, \"ticks\": \"\"}}, \"type\": \"scattercarpet\"}], \"scattergeo\": [{\"marker\": {\"colorbar\": {\"outlinewidth\": 0, \"ticks\": \"\"}}, \"type\": \"scattergeo\"}], \"scattergl\": [{\"marker\": {\"colorbar\": {\"outlinewidth\": 0, \"ticks\": \"\"}}, \"type\": \"scattergl\"}], \"scattermapbox\": [{\"marker\": {\"colorbar\": {\"outlinewidth\": 0, \"ticks\": \"\"}}, \"type\": \"scattermapbox\"}], \"scatterpolar\": [{\"marker\": {\"colorbar\": {\"outlinewidth\": 0, \"ticks\": \"\"}}, \"type\": \"scatterpolar\"}], \"scatterpolargl\": [{\"marker\": {\"colorbar\": {\"outlinewidth\": 0, \"ticks\": \"\"}}, \"type\": \"scatterpolargl\"}], \"scatterternary\": [{\"marker\": {\"colorbar\": {\"outlinewidth\": 0, \"ticks\": \"\"}}, \"type\": \"scatterternary\"}], \"surface\": [{\"colorbar\": {\"outlinewidth\": 0, \"ticks\": \"\"}, \"colorscale\": [[0.0, \"#0d0887\"], [0.1111111111111111, \"#46039f\"], [0.2222222222222222, \"#7201a8\"], [0.3333333333333333, \"#9c179e\"], [0.4444444444444444, \"#bd3786\"], [0.5555555555555556, \"#d8576b\"], [0.6666666666666666, \"#ed7953\"], [0.7777777777777778, \"#fb9f3a\"], [0.8888888888888888, \"#fdca26\"], [1.0, \"#f0f921\"]], \"type\": \"surface\"}], \"table\": [{\"cells\": {\"fill\": {\"color\": \"#EBF0F8\"}, \"line\": {\"color\": \"white\"}}, \"header\": {\"fill\": {\"color\": \"#C8D4E3\"}, \"line\": {\"color\": \"white\"}}, \"type\": \"table\"}]}, \"layout\": {\"annotationdefaults\": {\"arrowcolor\": \"#2a3f5f\", \"arrowhead\": 0, \"arrowwidth\": 1}, \"coloraxis\": {\"colorbar\": {\"outlinewidth\": 0, \"ticks\": \"\"}}, \"colorscale\": {\"diverging\": [[0, \"#8e0152\"], [0.1, \"#c51b7d\"], [0.2, \"#de77ae\"], [0.3, \"#f1b6da\"], [0.4, \"#fde0ef\"], [0.5, \"#f7f7f7\"], [0.6, \"#e6f5d0\"], [0.7, \"#b8e186\"], [0.8, \"#7fbc41\"], [0.9, \"#4d9221\"], [1, \"#276419\"]], \"sequential\": [[0.0, \"#0d0887\"], [0.1111111111111111, \"#46039f\"], [0.2222222222222222, \"#7201a8\"], [0.3333333333333333, \"#9c179e\"], [0.4444444444444444, \"#bd3786\"], [0.5555555555555556, \"#d8576b\"], [0.6666666666666666, \"#ed7953\"], [0.7777777777777778, \"#fb9f3a\"], [0.8888888888888888, \"#fdca26\"], [1.0, \"#f0f921\"]], \"sequentialminus\": [[0.0, \"#0d0887\"], [0.1111111111111111, \"#46039f\"], [0.2222222222222222, \"#7201a8\"], [0.3333333333333333, \"#9c179e\"], [0.4444444444444444, \"#bd3786\"], [0.5555555555555556, \"#d8576b\"], [0.6666666666666666, \"#ed7953\"], [0.7777777777777778, \"#fb9f3a\"], [0.8888888888888888, \"#fdca26\"], [1.0, \"#f0f921\"]]}, \"colorway\": [\"#1f77b4\", \"#ff7f0e\", \"#2ca02c\", \"#d62728\", \"#9467bd\", \"#8c564b\", \"#e377c2\", \"#7f7f7f\", \"#bcbd22\", \"#17becf\"], \"font\": {\"color\": \"#2a3f5f\"}, \"geo\": {\"bgcolor\": \"white\", \"lakecolor\": \"white\", \"landcolor\": \"white\", \"showlakes\": true, \"showland\": true, \"subunitcolor\": \"#C8D4E3\"}, \"hoverlabel\": {\"align\": \"left\"}, \"hovermode\": \"closest\", \"mapbox\": {\"style\": \"light\"}, \"paper_bgcolor\": \"white\", \"plot_bgcolor\": \"white\", \"polar\": {\"angularaxis\": {\"gridcolor\": \"#EBF0F8\", \"linecolor\": \"#EBF0F8\", \"ticks\": \"\"}, \"bgcolor\": \"white\", \"radialaxis\": {\"gridcolor\": \"#EBF0F8\", \"linecolor\": \"#EBF0F8\", \"ticks\": \"\"}}, \"scene\": {\"xaxis\": {\"backgroundcolor\": \"white\", \"gridcolor\": \"#DFE8F3\", \"gridwidth\": 2, \"linecolor\": \"#EBF0F8\", \"showbackground\": true, \"showspikes\": false, \"ticks\": \"\", \"zerolinecolor\": \"#EBF0F8\"}, \"yaxis\": {\"backgroundcolor\": \"white\", \"gridcolor\": \"#DFE8F3\", \"gridwidth\": 2, \"linecolor\": \"#EBF0F8\", \"showbackground\": true, \"showspikes\": false, \"ticks\": \"\", \"zerolinecolor\": \"#EBF0F8\"}, \"zaxis\": {\"backgroundcolor\": \"white\", \"gridcolor\": \"#DFE8F3\", \"gridwidth\": 2, \"linecolor\": \"#EBF0F8\", \"showbackground\": true, \"showspikes\": false, \"ticks\": \"\", \"zerolinecolor\": \"#EBF0F8\"}}, \"shapedefaults\": {\"line\": {\"color\": \"#2a3f5f\"}}, \"ternary\": {\"aaxis\": {\"gridcolor\": \"#DFE8F3\", \"linecolor\": \"#A2B1C6\", \"ticks\": \"\"}, \"baxis\": {\"gridcolor\": \"#DFE8F3\", \"linecolor\": \"#A2B1C6\", \"ticks\": \"\"}, \"bgcolor\": \"white\", \"caxis\": {\"gridcolor\": \"#DFE8F3\", \"linecolor\": \"#A2B1C6\", \"ticks\": \"\"}}, \"title\": {\"x\": 0.05}, \"xaxis\": {\"automargin\": true, \"gridcolor\": \"#EBF0F8\", \"linecolor\": \"black\", \"linewidth\": 2.0, \"mirror\": true, \"showline\": true, \"ticks\": \"\", \"title\": {\"standoff\": 15}, \"zeroline\": false, \"zerolinecolor\": \"#EBF0F8\", \"zerolinewidth\": 2}, \"yaxis\": {\"automargin\": true, \"gridcolor\": \"#EBF0F8\", \"linecolor\": \"black\", \"linewidth\": 2.0, \"mirror\": true, \"showline\": true, \"ticks\": \"\", \"title\": {\"standoff\": 15}, \"zeroline\": false, \"zerolinecolor\": \"#EBF0F8\", \"zerolinewidth\": 2}}}, \"xaxis\": {\"range\": [2.9034861111111114, 7.585513888888889], \"title\": {\"text\": \"Volume Flow (m<sup>3</sup>/s)\"}}, \"yaxis\": {\"title\": {\"text\": \"T (K)\"}}},                        {\"responsive\": true}                    ).then(function(){\n",
       "                            \n",
       "var gd = document.getElementById('94b3437d-6eba-4fbd-808c-a9b8d090ede8');\n",
       "var x = new MutationObserver(function (mutations, observer) {{\n",
       "        var display = window.getComputedStyle(gd).display;\n",
       "        if (!display || display === 'none') {{\n",
       "            console.log([gd, 'removed!']);\n",
       "            Plotly.purge(gd);\n",
       "            observer.disconnect();\n",
       "        }}\n",
       "}});\n",
       "\n",
       "// Listen for the removal of the full notebook cells\n",
       "var notebookContainer = gd.closest('#notebook-container');\n",
       "if (notebookContainer) {{\n",
       "    x.observe(notebookContainer, {childList: true});\n",
       "}}\n",
       "\n",
       "// Listen for the clearing of the current output cell\n",
       "var outputEl = gd.closest('.output');\n",
       "if (outputEl) {{\n",
       "    x.observe(outputEl, {childList: true});\n",
       "}}\n",
       "\n",
       "                        })                };                });            </script>        </div>"
      ]
     },
     "metadata": {},
     "output_type": "display_data"
    }
   ],
   "source": [
    "fig = imp.disch.T_plot(flow_v=5.5, speed=900)\n",
    "fig"
   ]
  },
  {
   "cell_type": "markdown",
   "id": "adequate-crime",
   "metadata": {},
   "source": [
    "In this plots we can also choose the units used for plotting:"
   ]
  },
  {
   "cell_type": "code",
   "execution_count": 42,
   "id": "marine-graphics",
   "metadata": {},
   "outputs": [
    {
     "data": {
      "application/vnd.plotly.v1+json": {
       "config": {
        "plotlyServerURL": "https://plot.ly"
       },
       "data": [
        {
         "name": "6882.0 RPM",
         "type": "scatter",
         "x": [
          11218.7,
          11356.63103448276,
          11494.562068965517,
          11632.493103448278,
          11770.424137931035,
          11908.355172413794,
          12046.286206896551,
          12184.217241379312,
          12322.14827586207,
          12460.079310344829,
          12598.010344827586,
          12735.941379310347,
          12873.872413793104,
          13011.803448275863,
          13149.73448275862,
          13287.66551724138,
          13425.596551724138,
          13563.527586206897,
          13701.458620689655,
          13839.389655172416,
          13977.320689655173,
          14115.251724137932,
          14253.18275862069,
          14391.113793103448,
          14529.044827586207,
          14666.975862068964,
          14804.906896551724,
          14942.837931034483,
          15080.76896551724,
          15218.699999999999
         ],
         "y": [
          0.007801436744418521,
          0.0077818407325955605,
          0.007760436689075969,
          0.007737372731105786,
          0.007712796975931046,
          0.007686857540797793,
          0.007659702542952058,
          0.007631480099639886,
          0.007602338328107313,
          0.00757242534560037,
          0.007541888110083336,
          0.007510804022614318,
          0.007479142671046901,
          0.0074468643689805086,
          0.007413929430014565,
          0.0073802856513534255,
          0.007345592953114727,
          0.007309223378329407,
          0.007270536453633331,
          0.007228891705662357,
          0.007183638009329604,
          0.007134000413271299,
          0.00707912407820309,
          0.007018152833375286,
          0.006950230508038195,
          0.006874500931442126,
          0.006790107932837384,
          0.006696195341474275,
          0.006591906986603113,
          0.0064763866974742
         ]
        },
        {
         "name": "7865.0 RPM",
         "type": "scatter",
         "x": [
          12916.7,
          13103.841379310345,
          13290.98275862069,
          13478.124137931036,
          13665.265517241382,
          13852.406896551725,
          14039.54827586207,
          14226.689655172415,
          14413.831034482757,
          14600.972413793103,
          14788.113793103448,
          14975.255172413794,
          15162.396551724138,
          15349.537931034483,
          15536.679310344829,
          15723.820689655171,
          15910.962068965517,
          16098.103448275862,
          16285.244827586204,
          16472.38620689655,
          16659.527586206896,
          16846.668965517238,
          17033.810344827583,
          17220.95172413793,
          17408.093103448275,
          17595.234482758617,
          17782.375862068966,
          17969.517241379308,
          18156.658620689654,
          18343.8
         ],
         "y": [
          0.009420716268703784,
          0.009411271935313128,
          0.009395329825462715,
          0.009373418556778585,
          0.009346066746886806,
          0.009313803013413433,
          0.009277155973984517,
          0.00923665424622612,
          0.009192826447764304,
          0.009146201196225109,
          0.00909730398992895,
          0.009046473168856754,
          0.008993756977563303,
          0.008939178706158107,
          0.008882761644750672,
          0.00882452807022116,
          0.008764476955174372,
          0.00870258396793977,
          0.008638823763617472,
          0.008573170997307568,
          0.008505429923452629,
          0.008433423888851328,
          0.008353698235370794,
          0.008262777004795963,
          0.008157184238911775,
          0.008033443979503169,
          0.007888080268355078,
          0.0077176171472524415,
          0.007518578657980194,
          0.007287488842323275
         ]
        },
        {
         "name": "8848.0 RPM",
         "type": "scatter",
         "x": [
          15000.000000000002,
          15225.575862068965,
          15451.151724137933,
          15676.727586206898,
          15902.303448275861,
          16127.87931034483,
          16353.455172413795,
          16579.03103448276,
          16804.606896551726,
          17030.18275862069,
          17255.758620689656,
          17481.334482758622,
          17706.910344827586,
          17932.486206896552,
          18158.06206896552,
          18383.637931034482,
          18609.21379310345,
          18834.789655172415,
          19060.36551724138,
          19285.941379310345,
          19511.51724137931,
          19737.093103448275,
          19962.66896551724,
          20188.244827586208,
          20413.82068965517,
          20639.396551724138,
          20864.972413793104,
          21090.548275862067,
          21316.124137931034,
          21541.7
         ],
         "y": [
          0.011625278210883978,
          0.01158809489955465,
          0.011552344287991458,
          0.011516959033408745,
          0.011480871793020854,
          0.011443015224042135,
          0.011402321983686913,
          0.011357724729169544,
          0.011308156117704367,
          0.011252548806505723,
          0.011189850642645832,
          0.011119920864669392,
          0.011044031367903466,
          0.010963575566538106,
          0.010879946874763373,
          0.010794504572047338,
          0.010707822839252588,
          0.010619690758636195,
          0.010529863277733264,
          0.010438095344078892,
          0.010343798264080691,
          0.010242388516039218,
          0.010126705269798876,
          0.009989544740063113,
          0.009823703141535392,
          0.00962197668891917,
          0.00937716159691791,
          0.009082054080235066,
          0.008729450353574099,
          0.008312146631638458
         ]
        },
        {
         "name": "9831.0 RPM",
         "type": "scatter",
         "x": [
          17666.7,
          17916.700000000004,
          18166.700000000004,
          18416.7,
          18666.7,
          18916.7,
          19166.700000000004,
          19416.7,
          19666.7,
          19916.7,
          20166.700000000004,
          20416.7,
          20666.7,
          20916.7,
          21166.7,
          21416.700000000004,
          21666.7,
          21916.7,
          22166.7,
          22416.7,
          22666.7,
          22916.7,
          23166.7,
          23416.7,
          23666.700000000004,
          23916.7,
          24166.7,
          24416.7,
          24666.7,
          24916.7
         ],
         "y": [
          0.014295693687284332,
          0.014274993491730434,
          0.014249673890319253,
          0.014219415331564872,
          0.014183898263981382,
          0.014142803136082861,
          0.014095810396383393,
          0.014042600493397076,
          0.013982853875637975,
          0.013916250991620192,
          0.01384247208782119,
          0.01376118528852148,
          0.013672039928596317,
          0.013574683726628012,
          0.013468764401198879,
          0.013354023770845401,
          0.013232367953049816,
          0.013107867364240099,
          0.0129846865207984,
          0.01286698993910686,
          0.01275763995767548,
          0.012644361097250499,
          0.012505111544537026,
          0.012317686714006154,
          0.01205988202012897,
          0.01170949287737657,
          0.011244314700220042,
          0.010642142903130473,
          0.00988077290057897,
          0.008938000107036605
         ]
        },
        {
         "name": "10322.0 RPM",
         "type": "scatter",
         "x": [
          20125,
          20346.26551724138,
          20567.53103448276,
          20788.796551724135,
          21010.062068965515,
          21231.327586206895,
          21452.59310344828,
          21673.858620689658,
          21895.124137931034,
          22116.389655172414,
          22337.655172413793,
          22558.920689655173,
          22780.18620689655,
          23001.45172413793,
          23222.717241379312,
          23443.982758620692,
          23665.24827586207,
          23886.513793103448,
          24107.779310344828,
          24329.044827586207,
          24550.310344827587,
          24771.575862068967,
          24992.841379310343,
          25214.106896551726,
          25435.372413793106,
          25656.637931034486,
          25877.903448275865,
          26099.16896551724,
          26320.43448275862,
          26541.7
         ],
         "y": [
          0.015660340066865893,
          0.015670539053179545,
          0.015664673527875556,
          0.01564401912098825,
          0.015609851462551956,
          0.015563446182601,
          0.015506078911169705,
          0.015439025278292403,
          0.015363560914003416,
          0.015280961448337075,
          0.015192488537509609,
          0.015098565408651428,
          0.014998315723809915,
          0.01489075135448767,
          0.014774884172187315,
          0.01464982750497833,
          0.014517028181968485,
          0.014380266533303794,
          0.014243424345697173,
          0.014110383405861526,
          0.013983481120069585,
          0.013847101471976955,
          0.013674045591937894,
          0.013436921562751615,
          0.013108337467217346,
          0.012660901388134313,
          0.012067221408301737,
          0.011299905610518858,
          0.010331562077584878,
          0.00913479889229903
         ]
        },
        {
         "name": "8594.0 RPM",
         "type": "scatter",
         "x": [
          14462.468177966086,
          14678.127197743412,
          14893.786217520736,
          15109.445237298063,
          15325.104257075389,
          15540.763276852716,
          15756.42229663004,
          15972.081316407368,
          16187.740336184694,
          16403.399355962018,
          16619.058375739343,
          16834.717395516673,
          17050.376415294,
          17266.035435071324,
          17481.69445484865,
          17697.353474625976,
          17913.0124944033,
          18128.671514180627,
          18344.330533957953,
          18559.989553735282,
          18775.648573512608,
          18991.30759328993,
          19206.96661306726,
          19422.625632844585,
          19638.284652621907,
          19853.943672399237,
          20069.602692176562,
          20285.261711953888,
          20500.920731731214,
          20716.57975150854
         ],
         "y": [
          0.01110587000249831,
          0.01105973700246335,
          0.011016135238526459,
          0.010974264299884311,
          0.010933323775733597,
          0.010892513255270993,
          0.01085103232769319,
          0.010808080582196867,
          0.010762857607978706,
          0.010714562994235394,
          0.010662392417924091,
          0.010605306821630465,
          0.010541903309664386,
          0.010470747688419529,
          0.010390405764289574,
          0.010299472849214321,
          0.01019722288269491,
          0.010083608431793806,
          0.009958611569119601,
          0.009822214367280898,
          0.00967420336650723,
          0.00951209204312155,
          0.009331927380603825,
          0.009129731920886648,
          0.008901528205902618,
          0.008643338777584324,
          0.008351186177864355,
          0.008021092948675309,
          0.0076490816319497845,
          0.007231174769620365
         ]
        },
        {
         "name": "Flow: 19800.00, disch.rho: 0.01",
         "type": "scatter",
         "x": [
          19800
         ],
         "y": [
          0.00871502768228606
         ]
        }
       ],
       "layout": {
        "template": {
         "data": {
          "bar": [
           {
            "error_x": {
             "color": "#2a3f5f"
            },
            "error_y": {
             "color": "#2a3f5f"
            },
            "marker": {
             "line": {
              "color": "white",
              "width": 0.5
             }
            },
            "type": "bar"
           }
          ],
          "barpolar": [
           {
            "marker": {
             "line": {
              "color": "white",
              "width": 0.5
             }
            },
            "type": "barpolar"
           }
          ],
          "carpet": [
           {
            "aaxis": {
             "endlinecolor": "#2a3f5f",
             "gridcolor": "#C8D4E3",
             "linecolor": "#C8D4E3",
             "minorgridcolor": "#C8D4E3",
             "startlinecolor": "#2a3f5f"
            },
            "baxis": {
             "endlinecolor": "#2a3f5f",
             "gridcolor": "#C8D4E3",
             "linecolor": "#C8D4E3",
             "minorgridcolor": "#C8D4E3",
             "startlinecolor": "#2a3f5f"
            },
            "type": "carpet"
           }
          ],
          "choropleth": [
           {
            "colorbar": {
             "outlinewidth": 0,
             "ticks": ""
            },
            "type": "choropleth"
           }
          ],
          "contour": [
           {
            "colorbar": {
             "outlinewidth": 0,
             "ticks": ""
            },
            "colorscale": [
             [
              0,
              "#0d0887"
             ],
             [
              0.1111111111111111,
              "#46039f"
             ],
             [
              0.2222222222222222,
              "#7201a8"
             ],
             [
              0.3333333333333333,
              "#9c179e"
             ],
             [
              0.4444444444444444,
              "#bd3786"
             ],
             [
              0.5555555555555556,
              "#d8576b"
             ],
             [
              0.6666666666666666,
              "#ed7953"
             ],
             [
              0.7777777777777778,
              "#fb9f3a"
             ],
             [
              0.8888888888888888,
              "#fdca26"
             ],
             [
              1,
              "#f0f921"
             ]
            ],
            "type": "contour"
           }
          ],
          "contourcarpet": [
           {
            "colorbar": {
             "outlinewidth": 0,
             "ticks": ""
            },
            "type": "contourcarpet"
           }
          ],
          "heatmap": [
           {
            "colorbar": {
             "outlinewidth": 0,
             "ticks": ""
            },
            "colorscale": [
             [
              0,
              "#0d0887"
             ],
             [
              0.1111111111111111,
              "#46039f"
             ],
             [
              0.2222222222222222,
              "#7201a8"
             ],
             [
              0.3333333333333333,
              "#9c179e"
             ],
             [
              0.4444444444444444,
              "#bd3786"
             ],
             [
              0.5555555555555556,
              "#d8576b"
             ],
             [
              0.6666666666666666,
              "#ed7953"
             ],
             [
              0.7777777777777778,
              "#fb9f3a"
             ],
             [
              0.8888888888888888,
              "#fdca26"
             ],
             [
              1,
              "#f0f921"
             ]
            ],
            "type": "heatmap"
           }
          ],
          "heatmapgl": [
           {
            "colorbar": {
             "outlinewidth": 0,
             "ticks": ""
            },
            "colorscale": [
             [
              0,
              "#0d0887"
             ],
             [
              0.1111111111111111,
              "#46039f"
             ],
             [
              0.2222222222222222,
              "#7201a8"
             ],
             [
              0.3333333333333333,
              "#9c179e"
             ],
             [
              0.4444444444444444,
              "#bd3786"
             ],
             [
              0.5555555555555556,
              "#d8576b"
             ],
             [
              0.6666666666666666,
              "#ed7953"
             ],
             [
              0.7777777777777778,
              "#fb9f3a"
             ],
             [
              0.8888888888888888,
              "#fdca26"
             ],
             [
              1,
              "#f0f921"
             ]
            ],
            "type": "heatmapgl"
           }
          ],
          "histogram": [
           {
            "marker": {
             "colorbar": {
              "outlinewidth": 0,
              "ticks": ""
             }
            },
            "type": "histogram"
           }
          ],
          "histogram2d": [
           {
            "colorbar": {
             "outlinewidth": 0,
             "ticks": ""
            },
            "colorscale": [
             [
              0,
              "#0d0887"
             ],
             [
              0.1111111111111111,
              "#46039f"
             ],
             [
              0.2222222222222222,
              "#7201a8"
             ],
             [
              0.3333333333333333,
              "#9c179e"
             ],
             [
              0.4444444444444444,
              "#bd3786"
             ],
             [
              0.5555555555555556,
              "#d8576b"
             ],
             [
              0.6666666666666666,
              "#ed7953"
             ],
             [
              0.7777777777777778,
              "#fb9f3a"
             ],
             [
              0.8888888888888888,
              "#fdca26"
             ],
             [
              1,
              "#f0f921"
             ]
            ],
            "type": "histogram2d"
           }
          ],
          "histogram2dcontour": [
           {
            "colorbar": {
             "outlinewidth": 0,
             "ticks": ""
            },
            "colorscale": [
             [
              0,
              "#0d0887"
             ],
             [
              0.1111111111111111,
              "#46039f"
             ],
             [
              0.2222222222222222,
              "#7201a8"
             ],
             [
              0.3333333333333333,
              "#9c179e"
             ],
             [
              0.4444444444444444,
              "#bd3786"
             ],
             [
              0.5555555555555556,
              "#d8576b"
             ],
             [
              0.6666666666666666,
              "#ed7953"
             ],
             [
              0.7777777777777778,
              "#fb9f3a"
             ],
             [
              0.8888888888888888,
              "#fdca26"
             ],
             [
              1,
              "#f0f921"
             ]
            ],
            "type": "histogram2dcontour"
           }
          ],
          "mesh3d": [
           {
            "colorbar": {
             "outlinewidth": 0,
             "ticks": ""
            },
            "type": "mesh3d"
           }
          ],
          "parcoords": [
           {
            "line": {
             "colorbar": {
              "outlinewidth": 0,
              "ticks": ""
             }
            },
            "type": "parcoords"
           }
          ],
          "pie": [
           {
            "automargin": true,
            "type": "pie"
           }
          ],
          "scatter": [
           {
            "marker": {
             "colorbar": {
              "outlinewidth": 0,
              "ticks": ""
             }
            },
            "type": "scatter"
           }
          ],
          "scatter3d": [
           {
            "line": {
             "colorbar": {
              "outlinewidth": 0,
              "ticks": ""
             }
            },
            "marker": {
             "colorbar": {
              "outlinewidth": 0,
              "ticks": ""
             }
            },
            "type": "scatter3d"
           }
          ],
          "scattercarpet": [
           {
            "marker": {
             "colorbar": {
              "outlinewidth": 0,
              "ticks": ""
             }
            },
            "type": "scattercarpet"
           }
          ],
          "scattergeo": [
           {
            "marker": {
             "colorbar": {
              "outlinewidth": 0,
              "ticks": ""
             }
            },
            "type": "scattergeo"
           }
          ],
          "scattergl": [
           {
            "marker": {
             "colorbar": {
              "outlinewidth": 0,
              "ticks": ""
             }
            },
            "type": "scattergl"
           }
          ],
          "scattermapbox": [
           {
            "marker": {
             "colorbar": {
              "outlinewidth": 0,
              "ticks": ""
             }
            },
            "type": "scattermapbox"
           }
          ],
          "scatterpolar": [
           {
            "marker": {
             "colorbar": {
              "outlinewidth": 0,
              "ticks": ""
             }
            },
            "type": "scatterpolar"
           }
          ],
          "scatterpolargl": [
           {
            "marker": {
             "colorbar": {
              "outlinewidth": 0,
              "ticks": ""
             }
            },
            "type": "scatterpolargl"
           }
          ],
          "scatterternary": [
           {
            "marker": {
             "colorbar": {
              "outlinewidth": 0,
              "ticks": ""
             }
            },
            "type": "scatterternary"
           }
          ],
          "surface": [
           {
            "colorbar": {
             "outlinewidth": 0,
             "ticks": ""
            },
            "colorscale": [
             [
              0,
              "#0d0887"
             ],
             [
              0.1111111111111111,
              "#46039f"
             ],
             [
              0.2222222222222222,
              "#7201a8"
             ],
             [
              0.3333333333333333,
              "#9c179e"
             ],
             [
              0.4444444444444444,
              "#bd3786"
             ],
             [
              0.5555555555555556,
              "#d8576b"
             ],
             [
              0.6666666666666666,
              "#ed7953"
             ],
             [
              0.7777777777777778,
              "#fb9f3a"
             ],
             [
              0.8888888888888888,
              "#fdca26"
             ],
             [
              1,
              "#f0f921"
             ]
            ],
            "type": "surface"
           }
          ],
          "table": [
           {
            "cells": {
             "fill": {
              "color": "#EBF0F8"
             },
             "line": {
              "color": "white"
             }
            },
            "header": {
             "fill": {
              "color": "#C8D4E3"
             },
             "line": {
              "color": "white"
             }
            },
            "type": "table"
           }
          ]
         },
         "layout": {
          "annotationdefaults": {
           "arrowcolor": "#2a3f5f",
           "arrowhead": 0,
           "arrowwidth": 1
          },
          "coloraxis": {
           "colorbar": {
            "outlinewidth": 0,
            "ticks": ""
           }
          },
          "colorscale": {
           "diverging": [
            [
             0,
             "#8e0152"
            ],
            [
             0.1,
             "#c51b7d"
            ],
            [
             0.2,
             "#de77ae"
            ],
            [
             0.3,
             "#f1b6da"
            ],
            [
             0.4,
             "#fde0ef"
            ],
            [
             0.5,
             "#f7f7f7"
            ],
            [
             0.6,
             "#e6f5d0"
            ],
            [
             0.7,
             "#b8e186"
            ],
            [
             0.8,
             "#7fbc41"
            ],
            [
             0.9,
             "#4d9221"
            ],
            [
             1,
             "#276419"
            ]
           ],
           "sequential": [
            [
             0,
             "#0d0887"
            ],
            [
             0.1111111111111111,
             "#46039f"
            ],
            [
             0.2222222222222222,
             "#7201a8"
            ],
            [
             0.3333333333333333,
             "#9c179e"
            ],
            [
             0.4444444444444444,
             "#bd3786"
            ],
            [
             0.5555555555555556,
             "#d8576b"
            ],
            [
             0.6666666666666666,
             "#ed7953"
            ],
            [
             0.7777777777777778,
             "#fb9f3a"
            ],
            [
             0.8888888888888888,
             "#fdca26"
            ],
            [
             1,
             "#f0f921"
            ]
           ],
           "sequentialminus": [
            [
             0,
             "#0d0887"
            ],
            [
             0.1111111111111111,
             "#46039f"
            ],
            [
             0.2222222222222222,
             "#7201a8"
            ],
            [
             0.3333333333333333,
             "#9c179e"
            ],
            [
             0.4444444444444444,
             "#bd3786"
            ],
            [
             0.5555555555555556,
             "#d8576b"
            ],
            [
             0.6666666666666666,
             "#ed7953"
            ],
            [
             0.7777777777777778,
             "#fb9f3a"
            ],
            [
             0.8888888888888888,
             "#fdca26"
            ],
            [
             1,
             "#f0f921"
            ]
           ]
          },
          "colorway": [
           "#1f77b4",
           "#ff7f0e",
           "#2ca02c",
           "#d62728",
           "#9467bd",
           "#8c564b",
           "#e377c2",
           "#7f7f7f",
           "#bcbd22",
           "#17becf"
          ],
          "font": {
           "color": "#2a3f5f"
          },
          "geo": {
           "bgcolor": "white",
           "lakecolor": "white",
           "landcolor": "white",
           "showlakes": true,
           "showland": true,
           "subunitcolor": "#C8D4E3"
          },
          "hoverlabel": {
           "align": "left"
          },
          "hovermode": "closest",
          "mapbox": {
           "style": "light"
          },
          "paper_bgcolor": "white",
          "plot_bgcolor": "white",
          "polar": {
           "angularaxis": {
            "gridcolor": "#EBF0F8",
            "linecolor": "#EBF0F8",
            "ticks": ""
           },
           "bgcolor": "white",
           "radialaxis": {
            "gridcolor": "#EBF0F8",
            "linecolor": "#EBF0F8",
            "ticks": ""
           }
          },
          "scene": {
           "xaxis": {
            "backgroundcolor": "white",
            "gridcolor": "#DFE8F3",
            "gridwidth": 2,
            "linecolor": "#EBF0F8",
            "showbackground": true,
            "showspikes": false,
            "ticks": "",
            "zerolinecolor": "#EBF0F8"
           },
           "yaxis": {
            "backgroundcolor": "white",
            "gridcolor": "#DFE8F3",
            "gridwidth": 2,
            "linecolor": "#EBF0F8",
            "showbackground": true,
            "showspikes": false,
            "ticks": "",
            "zerolinecolor": "#EBF0F8"
           },
           "zaxis": {
            "backgroundcolor": "white",
            "gridcolor": "#DFE8F3",
            "gridwidth": 2,
            "linecolor": "#EBF0F8",
            "showbackground": true,
            "showspikes": false,
            "ticks": "",
            "zerolinecolor": "#EBF0F8"
           }
          },
          "shapedefaults": {
           "line": {
            "color": "#2a3f5f"
           }
          },
          "ternary": {
           "aaxis": {
            "gridcolor": "#DFE8F3",
            "linecolor": "#A2B1C6",
            "ticks": ""
           },
           "baxis": {
            "gridcolor": "#DFE8F3",
            "linecolor": "#A2B1C6",
            "ticks": ""
           },
           "bgcolor": "white",
           "caxis": {
            "gridcolor": "#DFE8F3",
            "linecolor": "#A2B1C6",
            "ticks": ""
           }
          },
          "title": {
           "x": 0.05
          },
          "xaxis": {
           "automargin": true,
           "gridcolor": "#EBF0F8",
           "linecolor": "black",
           "linewidth": 2,
           "mirror": true,
           "showline": true,
           "ticks": "",
           "title": {
            "standoff": 15
           },
           "zeroline": false,
           "zerolinecolor": "#EBF0F8",
           "zerolinewidth": 2
          },
          "yaxis": {
           "automargin": true,
           "gridcolor": "#EBF0F8",
           "linecolor": "black",
           "linewidth": 2,
           "mirror": true,
           "showline": true,
           "ticks": "",
           "title": {
            "standoff": 15
           },
           "zeroline": false,
           "zerolinecolor": "#EBF0F8",
           "zerolinewidth": 2
          }
         }
        },
        "xaxis": {
         "range": [
          10452.550000000001,
          27307.850000000002
         ],
         "title": {
          "text": "Volume Flow (m<sup>3</sup>/h)"
         }
        },
        "yaxis": {
         "title": {
          "text": "Rho (g/cm<sup>3</sup>)"
         }
        }
       }
      },
      "text/html": [
       "<div>                            <div id=\"d7412ccb-0677-4bad-8f9f-03383ea5a466\" class=\"plotly-graph-div\" style=\"height:525px; width:100%;\"></div>            <script type=\"text/javascript\">                require([\"plotly\"], function(Plotly) {                    window.PLOTLYENV=window.PLOTLYENV || {};                                    if (document.getElementById(\"d7412ccb-0677-4bad-8f9f-03383ea5a466\")) {                    Plotly.newPlot(                        \"d7412ccb-0677-4bad-8f9f-03383ea5a466\",                        [{\"name\": \"6882.0 RPM\", \"type\": \"scatter\", \"x\": [11218.7, 11356.63103448276, 11494.562068965517, 11632.493103448278, 11770.424137931035, 11908.355172413794, 12046.286206896551, 12184.217241379312, 12322.14827586207, 12460.079310344829, 12598.010344827586, 12735.941379310347, 12873.872413793104, 13011.803448275863, 13149.73448275862, 13287.66551724138, 13425.596551724138, 13563.527586206897, 13701.458620689655, 13839.389655172416, 13977.320689655173, 14115.251724137932, 14253.18275862069, 14391.113793103448, 14529.044827586207, 14666.975862068964, 14804.906896551724, 14942.837931034483, 15080.76896551724, 15218.699999999999], \"y\": [0.007801436744418521, 0.0077818407325955605, 0.007760436689075969, 0.007737372731105786, 0.007712796975931046, 0.007686857540797793, 0.007659702542952058, 0.007631480099639886, 0.007602338328107313, 0.00757242534560037, 0.007541888110083336, 0.007510804022614318, 0.007479142671046901, 0.0074468643689805086, 0.007413929430014565, 0.0073802856513534255, 0.007345592953114727, 0.007309223378329407, 0.007270536453633331, 0.007228891705662357, 0.007183638009329604, 0.007134000413271299, 0.00707912407820309, 0.007018152833375286, 0.006950230508038195, 0.006874500931442126, 0.006790107932837384, 0.006696195341474275, 0.006591906986603113, 0.0064763866974742]}, {\"name\": \"7865.0 RPM\", \"type\": \"scatter\", \"x\": [12916.7, 13103.841379310345, 13290.98275862069, 13478.124137931036, 13665.265517241382, 13852.406896551725, 14039.54827586207, 14226.689655172415, 14413.831034482757, 14600.972413793103, 14788.113793103448, 14975.255172413794, 15162.396551724138, 15349.537931034483, 15536.679310344829, 15723.820689655171, 15910.962068965517, 16098.103448275862, 16285.244827586204, 16472.38620689655, 16659.527586206896, 16846.668965517238, 17033.810344827583, 17220.95172413793, 17408.093103448275, 17595.234482758617, 17782.375862068966, 17969.517241379308, 18156.658620689654, 18343.8], \"y\": [0.009420716268703784, 0.009411271935313128, 0.009395329825462715, 0.009373418556778585, 0.009346066746886806, 0.009313803013413433, 0.009277155973984517, 0.00923665424622612, 0.009192826447764304, 0.009146201196225109, 0.00909730398992895, 0.009046473168856754, 0.008993756977563303, 0.008939178706158107, 0.008882761644750672, 0.00882452807022116, 0.008764476955174372, 0.00870258396793977, 0.008638823763617472, 0.008573170997307568, 0.008505429923452629, 0.008433423888851328, 0.008353698235370794, 0.008262777004795963, 0.008157184238911775, 0.008033443979503169, 0.007888080268355078, 0.0077176171472524415, 0.007518578657980194, 0.007287488842323275]}, {\"name\": \"8848.0 RPM\", \"type\": \"scatter\", \"x\": [15000.000000000002, 15225.575862068965, 15451.151724137933, 15676.727586206898, 15902.303448275861, 16127.87931034483, 16353.455172413795, 16579.03103448276, 16804.606896551726, 17030.18275862069, 17255.758620689656, 17481.334482758622, 17706.910344827586, 17932.486206896552, 18158.06206896552, 18383.637931034482, 18609.21379310345, 18834.789655172415, 19060.36551724138, 19285.941379310345, 19511.51724137931, 19737.093103448275, 19962.66896551724, 20188.244827586208, 20413.82068965517, 20639.396551724138, 20864.972413793104, 21090.548275862067, 21316.124137931034, 21541.7], \"y\": [0.011625278210883978, 0.01158809489955465, 0.011552344287991458, 0.011516959033408745, 0.011480871793020854, 0.011443015224042135, 0.011402321983686913, 0.011357724729169544, 0.011308156117704367, 0.011252548806505723, 0.011189850642645832, 0.011119920864669392, 0.011044031367903466, 0.010963575566538106, 0.010879946874763373, 0.010794504572047338, 0.010707822839252588, 0.010619690758636195, 0.010529863277733264, 0.010438095344078892, 0.010343798264080691, 0.010242388516039218, 0.010126705269798876, 0.009989544740063113, 0.009823703141535392, 0.00962197668891917, 0.00937716159691791, 0.009082054080235066, 0.008729450353574099, 0.008312146631638458]}, {\"name\": \"9831.0 RPM\", \"type\": \"scatter\", \"x\": [17666.7, 17916.700000000004, 18166.700000000004, 18416.7, 18666.7, 18916.7, 19166.700000000004, 19416.7, 19666.7, 19916.7, 20166.700000000004, 20416.7, 20666.7, 20916.7, 21166.7, 21416.700000000004, 21666.7, 21916.7, 22166.7, 22416.7, 22666.7, 22916.7, 23166.7, 23416.7, 23666.700000000004, 23916.7, 24166.7, 24416.7, 24666.7, 24916.7], \"y\": [0.014295693687284332, 0.014274993491730434, 0.014249673890319253, 0.014219415331564872, 0.014183898263981382, 0.014142803136082861, 0.014095810396383393, 0.014042600493397076, 0.013982853875637975, 0.013916250991620192, 0.01384247208782119, 0.01376118528852148, 0.013672039928596317, 0.013574683726628012, 0.013468764401198879, 0.013354023770845401, 0.013232367953049816, 0.013107867364240099, 0.0129846865207984, 0.01286698993910686, 0.01275763995767548, 0.012644361097250499, 0.012505111544537026, 0.012317686714006154, 0.01205988202012897, 0.01170949287737657, 0.011244314700220042, 0.010642142903130473, 0.00988077290057897, 0.008938000107036605]}, {\"name\": \"10322.0 RPM\", \"type\": \"scatter\", \"x\": [20125.0, 20346.26551724138, 20567.53103448276, 20788.796551724135, 21010.062068965515, 21231.327586206895, 21452.59310344828, 21673.858620689658, 21895.124137931034, 22116.389655172414, 22337.655172413793, 22558.920689655173, 22780.18620689655, 23001.45172413793, 23222.717241379312, 23443.982758620692, 23665.24827586207, 23886.513793103448, 24107.779310344828, 24329.044827586207, 24550.310344827587, 24771.575862068967, 24992.841379310343, 25214.106896551726, 25435.372413793106, 25656.637931034486, 25877.903448275865, 26099.16896551724, 26320.43448275862, 26541.7], \"y\": [0.015660340066865893, 0.015670539053179545, 0.015664673527875556, 0.01564401912098825, 0.015609851462551956, 0.015563446182601, 0.015506078911169705, 0.015439025278292403, 0.015363560914003416, 0.015280961448337075, 0.015192488537509609, 0.015098565408651428, 0.014998315723809915, 0.01489075135448767, 0.014774884172187315, 0.01464982750497833, 0.014517028181968485, 0.014380266533303794, 0.014243424345697173, 0.014110383405861526, 0.013983481120069585, 0.013847101471976955, 0.013674045591937894, 0.013436921562751615, 0.013108337467217346, 0.012660901388134313, 0.012067221408301737, 0.011299905610518858, 0.010331562077584878, 0.00913479889229903]}, {\"name\": \"8594.0 RPM\", \"type\": \"scatter\", \"x\": [14462.468177966086, 14678.127197743412, 14893.786217520736, 15109.445237298063, 15325.104257075389, 15540.763276852716, 15756.42229663004, 15972.081316407368, 16187.740336184694, 16403.399355962018, 16619.058375739343, 16834.717395516673, 17050.376415294, 17266.035435071324, 17481.69445484865, 17697.353474625976, 17913.0124944033, 18128.671514180627, 18344.330533957953, 18559.989553735282, 18775.648573512608, 18991.30759328993, 19206.96661306726, 19422.625632844585, 19638.284652621907, 19853.943672399237, 20069.602692176562, 20285.261711953888, 20500.920731731214, 20716.57975150854], \"y\": [0.01110587000249831, 0.01105973700246335, 0.011016135238526459, 0.010974264299884311, 0.010933323775733597, 0.010892513255270993, 0.01085103232769319, 0.010808080582196867, 0.010762857607978706, 0.010714562994235394, 0.010662392417924091, 0.010605306821630465, 0.010541903309664386, 0.010470747688419529, 0.010390405764289574, 0.010299472849214321, 0.01019722288269491, 0.010083608431793806, 0.009958611569119601, 0.009822214367280898, 0.00967420336650723, 0.00951209204312155, 0.009331927380603825, 0.009129731920886648, 0.008901528205902618, 0.008643338777584324, 0.008351186177864355, 0.008021092948675309, 0.0076490816319497845, 0.007231174769620365]}, {\"name\": \"Flow: 19800.00, disch.rho: 0.01\", \"type\": \"scatter\", \"x\": [19800.0], \"y\": [0.00871502768228606]}],                        {\"template\": {\"data\": {\"bar\": [{\"error_x\": {\"color\": \"#2a3f5f\"}, \"error_y\": {\"color\": \"#2a3f5f\"}, \"marker\": {\"line\": {\"color\": \"white\", \"width\": 0.5}}, \"type\": \"bar\"}], \"barpolar\": [{\"marker\": {\"line\": {\"color\": \"white\", \"width\": 0.5}}, \"type\": \"barpolar\"}], \"carpet\": [{\"aaxis\": {\"endlinecolor\": \"#2a3f5f\", \"gridcolor\": \"#C8D4E3\", \"linecolor\": \"#C8D4E3\", \"minorgridcolor\": \"#C8D4E3\", \"startlinecolor\": \"#2a3f5f\"}, \"baxis\": {\"endlinecolor\": \"#2a3f5f\", \"gridcolor\": \"#C8D4E3\", \"linecolor\": \"#C8D4E3\", \"minorgridcolor\": \"#C8D4E3\", \"startlinecolor\": \"#2a3f5f\"}, \"type\": \"carpet\"}], \"choropleth\": [{\"colorbar\": {\"outlinewidth\": 0, \"ticks\": \"\"}, \"type\": \"choropleth\"}], \"contour\": [{\"colorbar\": {\"outlinewidth\": 0, \"ticks\": \"\"}, \"colorscale\": [[0.0, \"#0d0887\"], [0.1111111111111111, \"#46039f\"], [0.2222222222222222, \"#7201a8\"], [0.3333333333333333, \"#9c179e\"], [0.4444444444444444, \"#bd3786\"], [0.5555555555555556, \"#d8576b\"], [0.6666666666666666, \"#ed7953\"], [0.7777777777777778, \"#fb9f3a\"], [0.8888888888888888, \"#fdca26\"], [1.0, \"#f0f921\"]], \"type\": \"contour\"}], \"contourcarpet\": [{\"colorbar\": {\"outlinewidth\": 0, \"ticks\": \"\"}, \"type\": \"contourcarpet\"}], \"heatmap\": [{\"colorbar\": {\"outlinewidth\": 0, \"ticks\": \"\"}, \"colorscale\": [[0.0, \"#0d0887\"], [0.1111111111111111, \"#46039f\"], [0.2222222222222222, \"#7201a8\"], [0.3333333333333333, \"#9c179e\"], [0.4444444444444444, \"#bd3786\"], [0.5555555555555556, \"#d8576b\"], [0.6666666666666666, \"#ed7953\"], [0.7777777777777778, \"#fb9f3a\"], [0.8888888888888888, \"#fdca26\"], [1.0, \"#f0f921\"]], \"type\": \"heatmap\"}], \"heatmapgl\": [{\"colorbar\": {\"outlinewidth\": 0, \"ticks\": \"\"}, \"colorscale\": [[0.0, \"#0d0887\"], [0.1111111111111111, \"#46039f\"], [0.2222222222222222, \"#7201a8\"], [0.3333333333333333, \"#9c179e\"], [0.4444444444444444, \"#bd3786\"], [0.5555555555555556, \"#d8576b\"], [0.6666666666666666, \"#ed7953\"], [0.7777777777777778, \"#fb9f3a\"], [0.8888888888888888, \"#fdca26\"], [1.0, \"#f0f921\"]], \"type\": \"heatmapgl\"}], \"histogram\": [{\"marker\": {\"colorbar\": {\"outlinewidth\": 0, \"ticks\": \"\"}}, \"type\": \"histogram\"}], \"histogram2d\": [{\"colorbar\": {\"outlinewidth\": 0, \"ticks\": \"\"}, \"colorscale\": [[0.0, \"#0d0887\"], [0.1111111111111111, \"#46039f\"], [0.2222222222222222, \"#7201a8\"], [0.3333333333333333, \"#9c179e\"], [0.4444444444444444, \"#bd3786\"], [0.5555555555555556, \"#d8576b\"], [0.6666666666666666, \"#ed7953\"], [0.7777777777777778, \"#fb9f3a\"], [0.8888888888888888, \"#fdca26\"], [1.0, \"#f0f921\"]], \"type\": \"histogram2d\"}], \"histogram2dcontour\": [{\"colorbar\": {\"outlinewidth\": 0, \"ticks\": \"\"}, \"colorscale\": [[0.0, \"#0d0887\"], [0.1111111111111111, \"#46039f\"], [0.2222222222222222, \"#7201a8\"], [0.3333333333333333, \"#9c179e\"], [0.4444444444444444, \"#bd3786\"], [0.5555555555555556, \"#d8576b\"], [0.6666666666666666, \"#ed7953\"], [0.7777777777777778, \"#fb9f3a\"], [0.8888888888888888, \"#fdca26\"], [1.0, \"#f0f921\"]], \"type\": \"histogram2dcontour\"}], \"mesh3d\": [{\"colorbar\": {\"outlinewidth\": 0, \"ticks\": \"\"}, \"type\": \"mesh3d\"}], \"parcoords\": [{\"line\": {\"colorbar\": {\"outlinewidth\": 0, \"ticks\": \"\"}}, \"type\": \"parcoords\"}], \"pie\": [{\"automargin\": true, \"type\": \"pie\"}], \"scatter\": [{\"marker\": {\"colorbar\": {\"outlinewidth\": 0, \"ticks\": \"\"}}, \"type\": \"scatter\"}], \"scatter3d\": [{\"line\": {\"colorbar\": {\"outlinewidth\": 0, \"ticks\": \"\"}}, \"marker\": {\"colorbar\": {\"outlinewidth\": 0, \"ticks\": \"\"}}, \"type\": \"scatter3d\"}], \"scattercarpet\": [{\"marker\": {\"colorbar\": {\"outlinewidth\": 0, \"ticks\": \"\"}}, \"type\": \"scattercarpet\"}], \"scattergeo\": [{\"marker\": {\"colorbar\": {\"outlinewidth\": 0, \"ticks\": \"\"}}, \"type\": \"scattergeo\"}], \"scattergl\": [{\"marker\": {\"colorbar\": {\"outlinewidth\": 0, \"ticks\": \"\"}}, \"type\": \"scattergl\"}], \"scattermapbox\": [{\"marker\": {\"colorbar\": {\"outlinewidth\": 0, \"ticks\": \"\"}}, \"type\": \"scattermapbox\"}], \"scatterpolar\": [{\"marker\": {\"colorbar\": {\"outlinewidth\": 0, \"ticks\": \"\"}}, \"type\": \"scatterpolar\"}], \"scatterpolargl\": [{\"marker\": {\"colorbar\": {\"outlinewidth\": 0, \"ticks\": \"\"}}, \"type\": \"scatterpolargl\"}], \"scatterternary\": [{\"marker\": {\"colorbar\": {\"outlinewidth\": 0, \"ticks\": \"\"}}, \"type\": \"scatterternary\"}], \"surface\": [{\"colorbar\": {\"outlinewidth\": 0, \"ticks\": \"\"}, \"colorscale\": [[0.0, \"#0d0887\"], [0.1111111111111111, \"#46039f\"], [0.2222222222222222, \"#7201a8\"], [0.3333333333333333, \"#9c179e\"], [0.4444444444444444, \"#bd3786\"], [0.5555555555555556, \"#d8576b\"], [0.6666666666666666, \"#ed7953\"], [0.7777777777777778, \"#fb9f3a\"], [0.8888888888888888, \"#fdca26\"], [1.0, \"#f0f921\"]], \"type\": \"surface\"}], \"table\": [{\"cells\": {\"fill\": {\"color\": \"#EBF0F8\"}, \"line\": {\"color\": \"white\"}}, \"header\": {\"fill\": {\"color\": \"#C8D4E3\"}, \"line\": {\"color\": \"white\"}}, \"type\": \"table\"}]}, \"layout\": {\"annotationdefaults\": {\"arrowcolor\": \"#2a3f5f\", \"arrowhead\": 0, \"arrowwidth\": 1}, \"coloraxis\": {\"colorbar\": {\"outlinewidth\": 0, \"ticks\": \"\"}}, \"colorscale\": {\"diverging\": [[0, \"#8e0152\"], [0.1, \"#c51b7d\"], [0.2, \"#de77ae\"], [0.3, \"#f1b6da\"], [0.4, \"#fde0ef\"], [0.5, \"#f7f7f7\"], [0.6, \"#e6f5d0\"], [0.7, \"#b8e186\"], [0.8, \"#7fbc41\"], [0.9, \"#4d9221\"], [1, \"#276419\"]], \"sequential\": [[0.0, \"#0d0887\"], [0.1111111111111111, \"#46039f\"], [0.2222222222222222, \"#7201a8\"], [0.3333333333333333, \"#9c179e\"], [0.4444444444444444, \"#bd3786\"], [0.5555555555555556, \"#d8576b\"], [0.6666666666666666, \"#ed7953\"], [0.7777777777777778, \"#fb9f3a\"], [0.8888888888888888, \"#fdca26\"], [1.0, \"#f0f921\"]], \"sequentialminus\": [[0.0, \"#0d0887\"], [0.1111111111111111, \"#46039f\"], [0.2222222222222222, \"#7201a8\"], [0.3333333333333333, \"#9c179e\"], [0.4444444444444444, \"#bd3786\"], [0.5555555555555556, \"#d8576b\"], [0.6666666666666666, \"#ed7953\"], [0.7777777777777778, \"#fb9f3a\"], [0.8888888888888888, \"#fdca26\"], [1.0, \"#f0f921\"]]}, \"colorway\": [\"#1f77b4\", \"#ff7f0e\", \"#2ca02c\", \"#d62728\", \"#9467bd\", \"#8c564b\", \"#e377c2\", \"#7f7f7f\", \"#bcbd22\", \"#17becf\"], \"font\": {\"color\": \"#2a3f5f\"}, \"geo\": {\"bgcolor\": \"white\", \"lakecolor\": \"white\", \"landcolor\": \"white\", \"showlakes\": true, \"showland\": true, \"subunitcolor\": \"#C8D4E3\"}, \"hoverlabel\": {\"align\": \"left\"}, \"hovermode\": \"closest\", \"mapbox\": {\"style\": \"light\"}, \"paper_bgcolor\": \"white\", \"plot_bgcolor\": \"white\", \"polar\": {\"angularaxis\": {\"gridcolor\": \"#EBF0F8\", \"linecolor\": \"#EBF0F8\", \"ticks\": \"\"}, \"bgcolor\": \"white\", \"radialaxis\": {\"gridcolor\": \"#EBF0F8\", \"linecolor\": \"#EBF0F8\", \"ticks\": \"\"}}, \"scene\": {\"xaxis\": {\"backgroundcolor\": \"white\", \"gridcolor\": \"#DFE8F3\", \"gridwidth\": 2, \"linecolor\": \"#EBF0F8\", \"showbackground\": true, \"showspikes\": false, \"ticks\": \"\", \"zerolinecolor\": \"#EBF0F8\"}, \"yaxis\": {\"backgroundcolor\": \"white\", \"gridcolor\": \"#DFE8F3\", \"gridwidth\": 2, \"linecolor\": \"#EBF0F8\", \"showbackground\": true, \"showspikes\": false, \"ticks\": \"\", \"zerolinecolor\": \"#EBF0F8\"}, \"zaxis\": {\"backgroundcolor\": \"white\", \"gridcolor\": \"#DFE8F3\", \"gridwidth\": 2, \"linecolor\": \"#EBF0F8\", \"showbackground\": true, \"showspikes\": false, \"ticks\": \"\", \"zerolinecolor\": \"#EBF0F8\"}}, \"shapedefaults\": {\"line\": {\"color\": \"#2a3f5f\"}}, \"ternary\": {\"aaxis\": {\"gridcolor\": \"#DFE8F3\", \"linecolor\": \"#A2B1C6\", \"ticks\": \"\"}, \"baxis\": {\"gridcolor\": \"#DFE8F3\", \"linecolor\": \"#A2B1C6\", \"ticks\": \"\"}, \"bgcolor\": \"white\", \"caxis\": {\"gridcolor\": \"#DFE8F3\", \"linecolor\": \"#A2B1C6\", \"ticks\": \"\"}}, \"title\": {\"x\": 0.05}, \"xaxis\": {\"automargin\": true, \"gridcolor\": \"#EBF0F8\", \"linecolor\": \"black\", \"linewidth\": 2.0, \"mirror\": true, \"showline\": true, \"ticks\": \"\", \"title\": {\"standoff\": 15}, \"zeroline\": false, \"zerolinecolor\": \"#EBF0F8\", \"zerolinewidth\": 2}, \"yaxis\": {\"automargin\": true, \"gridcolor\": \"#EBF0F8\", \"linecolor\": \"black\", \"linewidth\": 2.0, \"mirror\": true, \"showline\": true, \"ticks\": \"\", \"title\": {\"standoff\": 15}, \"zeroline\": false, \"zerolinecolor\": \"#EBF0F8\", \"zerolinewidth\": 2}}}, \"xaxis\": {\"range\": [10452.550000000001, 27307.850000000002], \"title\": {\"text\": \"Volume Flow (m<sup>3</sup>/h)\"}}, \"yaxis\": {\"title\": {\"text\": \"Rho (g/cm<sup>3</sup>)\"}}},                        {\"responsive\": true}                    ).then(function(){\n",
       "                            \n",
       "var gd = document.getElementById('d7412ccb-0677-4bad-8f9f-03383ea5a466');\n",
       "var x = new MutationObserver(function (mutations, observer) {{\n",
       "        var display = window.getComputedStyle(gd).display;\n",
       "        if (!display || display === 'none') {{\n",
       "            console.log([gd, 'removed!']);\n",
       "            Plotly.purge(gd);\n",
       "            observer.disconnect();\n",
       "        }}\n",
       "}});\n",
       "\n",
       "// Listen for the removal of the full notebook cells\n",
       "var notebookContainer = gd.closest('#notebook-container');\n",
       "if (notebookContainer) {{\n",
       "    x.observe(notebookContainer, {childList: true});\n",
       "}}\n",
       "\n",
       "// Listen for the clearing of the current output cell\n",
       "var outputEl = gd.closest('.output');\n",
       "if (outputEl) {{\n",
       "    x.observe(outputEl, {childList: true});\n",
       "}}\n",
       "\n",
       "                        })                };                });            </script>        </div>"
      ]
     },
     "metadata": {},
     "output_type": "display_data"
    }
   ],
   "source": [
    "fig = imp.disch.rho_plot(\n",
    "    flow_v=5.5, speed=900, flow_v_units=\"m³/h\", speed_units=\"RPM\", rho_units=\"g/cm³\"\n",
    ")\n",
    "fig"
   ]
  },
  {
   "cell_type": "markdown",
   "id": "russian-sponsorship",
   "metadata": {},
   "source": [
    "Notice that by default the units used in the `flow_v` and `speed` arguments are the SI units, but you can also provide pint quantities:"
   ]
  },
  {
   "cell_type": "code",
   "execution_count": 43,
   "id": "liberal-injury",
   "metadata": {},
   "outputs": [
    {
     "data": {
      "application/vnd.plotly.v1+json": {
       "config": {
        "plotlyServerURL": "https://plot.ly"
       },
       "data": [
        {
         "name": "6882.0 RPM",
         "type": "scatter",
         "x": [
          11218.7,
          11356.63103448276,
          11494.562068965517,
          11632.493103448278,
          11770.424137931035,
          11908.355172413794,
          12046.286206896551,
          12184.217241379312,
          12322.14827586207,
          12460.079310344829,
          12598.010344827586,
          12735.941379310347,
          12873.872413793104,
          13011.803448275863,
          13149.73448275862,
          13287.66551724138,
          13425.596551724138,
          13563.527586206897,
          13701.458620689655,
          13839.389655172416,
          13977.320689655173,
          14115.251724137932,
          14253.18275862069,
          14391.113793103448,
          14529.044827586207,
          14666.975862068964,
          14804.906896551724,
          14942.837931034483,
          15080.76896551724,
          15218.699999999999
         ],
         "y": [
          0.007801436744418521,
          0.0077818407325955605,
          0.007760436689075969,
          0.007737372731105786,
          0.007712796975931046,
          0.007686857540797793,
          0.007659702542952058,
          0.007631480099639886,
          0.007602338328107313,
          0.00757242534560037,
          0.007541888110083336,
          0.007510804022614318,
          0.007479142671046901,
          0.0074468643689805086,
          0.007413929430014565,
          0.0073802856513534255,
          0.007345592953114727,
          0.007309223378329407,
          0.007270536453633331,
          0.007228891705662357,
          0.007183638009329604,
          0.007134000413271299,
          0.00707912407820309,
          0.007018152833375286,
          0.006950230508038195,
          0.006874500931442126,
          0.006790107932837384,
          0.006696195341474275,
          0.006591906986603113,
          0.0064763866974742
         ]
        },
        {
         "name": "7865.0 RPM",
         "type": "scatter",
         "x": [
          12916.7,
          13103.841379310345,
          13290.98275862069,
          13478.124137931036,
          13665.265517241382,
          13852.406896551725,
          14039.54827586207,
          14226.689655172415,
          14413.831034482757,
          14600.972413793103,
          14788.113793103448,
          14975.255172413794,
          15162.396551724138,
          15349.537931034483,
          15536.679310344829,
          15723.820689655171,
          15910.962068965517,
          16098.103448275862,
          16285.244827586204,
          16472.38620689655,
          16659.527586206896,
          16846.668965517238,
          17033.810344827583,
          17220.95172413793,
          17408.093103448275,
          17595.234482758617,
          17782.375862068966,
          17969.517241379308,
          18156.658620689654,
          18343.8
         ],
         "y": [
          0.009420716268703784,
          0.009411271935313128,
          0.009395329825462715,
          0.009373418556778585,
          0.009346066746886806,
          0.009313803013413433,
          0.009277155973984517,
          0.00923665424622612,
          0.009192826447764304,
          0.009146201196225109,
          0.00909730398992895,
          0.009046473168856754,
          0.008993756977563303,
          0.008939178706158107,
          0.008882761644750672,
          0.00882452807022116,
          0.008764476955174372,
          0.00870258396793977,
          0.008638823763617472,
          0.008573170997307568,
          0.008505429923452629,
          0.008433423888851328,
          0.008353698235370794,
          0.008262777004795963,
          0.008157184238911775,
          0.008033443979503169,
          0.007888080268355078,
          0.0077176171472524415,
          0.007518578657980194,
          0.007287488842323275
         ]
        },
        {
         "name": "8848.0 RPM",
         "type": "scatter",
         "x": [
          15000.000000000002,
          15225.575862068965,
          15451.151724137933,
          15676.727586206898,
          15902.303448275861,
          16127.87931034483,
          16353.455172413795,
          16579.03103448276,
          16804.606896551726,
          17030.18275862069,
          17255.758620689656,
          17481.334482758622,
          17706.910344827586,
          17932.486206896552,
          18158.06206896552,
          18383.637931034482,
          18609.21379310345,
          18834.789655172415,
          19060.36551724138,
          19285.941379310345,
          19511.51724137931,
          19737.093103448275,
          19962.66896551724,
          20188.244827586208,
          20413.82068965517,
          20639.396551724138,
          20864.972413793104,
          21090.548275862067,
          21316.124137931034,
          21541.7
         ],
         "y": [
          0.011625278210883978,
          0.01158809489955465,
          0.011552344287991458,
          0.011516959033408745,
          0.011480871793020854,
          0.011443015224042135,
          0.011402321983686913,
          0.011357724729169544,
          0.011308156117704367,
          0.011252548806505723,
          0.011189850642645832,
          0.011119920864669392,
          0.011044031367903466,
          0.010963575566538106,
          0.010879946874763373,
          0.010794504572047338,
          0.010707822839252588,
          0.010619690758636195,
          0.010529863277733264,
          0.010438095344078892,
          0.010343798264080691,
          0.010242388516039218,
          0.010126705269798876,
          0.009989544740063113,
          0.009823703141535392,
          0.00962197668891917,
          0.00937716159691791,
          0.009082054080235066,
          0.008729450353574099,
          0.008312146631638458
         ]
        },
        {
         "name": "9831.0 RPM",
         "type": "scatter",
         "x": [
          17666.7,
          17916.700000000004,
          18166.700000000004,
          18416.7,
          18666.7,
          18916.7,
          19166.700000000004,
          19416.7,
          19666.7,
          19916.7,
          20166.700000000004,
          20416.7,
          20666.7,
          20916.7,
          21166.7,
          21416.700000000004,
          21666.7,
          21916.7,
          22166.7,
          22416.7,
          22666.7,
          22916.7,
          23166.7,
          23416.7,
          23666.700000000004,
          23916.7,
          24166.7,
          24416.7,
          24666.7,
          24916.7
         ],
         "y": [
          0.014295693687284332,
          0.014274993491730434,
          0.014249673890319253,
          0.014219415331564872,
          0.014183898263981382,
          0.014142803136082861,
          0.014095810396383393,
          0.014042600493397076,
          0.013982853875637975,
          0.013916250991620192,
          0.01384247208782119,
          0.01376118528852148,
          0.013672039928596317,
          0.013574683726628012,
          0.013468764401198879,
          0.013354023770845401,
          0.013232367953049816,
          0.013107867364240099,
          0.0129846865207984,
          0.01286698993910686,
          0.01275763995767548,
          0.012644361097250499,
          0.012505111544537026,
          0.012317686714006154,
          0.01205988202012897,
          0.01170949287737657,
          0.011244314700220042,
          0.010642142903130473,
          0.00988077290057897,
          0.008938000107036605
         ]
        },
        {
         "name": "10322.0 RPM",
         "type": "scatter",
         "x": [
          20125,
          20346.26551724138,
          20567.53103448276,
          20788.796551724135,
          21010.062068965515,
          21231.327586206895,
          21452.59310344828,
          21673.858620689658,
          21895.124137931034,
          22116.389655172414,
          22337.655172413793,
          22558.920689655173,
          22780.18620689655,
          23001.45172413793,
          23222.717241379312,
          23443.982758620692,
          23665.24827586207,
          23886.513793103448,
          24107.779310344828,
          24329.044827586207,
          24550.310344827587,
          24771.575862068967,
          24992.841379310343,
          25214.106896551726,
          25435.372413793106,
          25656.637931034486,
          25877.903448275865,
          26099.16896551724,
          26320.43448275862,
          26541.7
         ],
         "y": [
          0.015660340066865893,
          0.015670539053179545,
          0.015664673527875556,
          0.01564401912098825,
          0.015609851462551956,
          0.015563446182601,
          0.015506078911169705,
          0.015439025278292403,
          0.015363560914003416,
          0.015280961448337075,
          0.015192488537509609,
          0.015098565408651428,
          0.014998315723809915,
          0.01489075135448767,
          0.014774884172187315,
          0.01464982750497833,
          0.014517028181968485,
          0.014380266533303794,
          0.014243424345697173,
          0.014110383405861526,
          0.013983481120069585,
          0.013847101471976955,
          0.013674045591937894,
          0.013436921562751615,
          0.013108337467217346,
          0.012660901388134313,
          0.012067221408301737,
          0.011299905610518858,
          0.010331562077584878,
          0.00913479889229903
         ]
        },
        {
         "name": "8594.0 RPM",
         "type": "scatter",
         "x": [
          14461.69053916582,
          14677.33521240397,
          14892.979885642126,
          15108.624558880276,
          15324.269232118428,
          15539.913905356581,
          15755.558578594733,
          15971.203251832883,
          16186.847925071037,
          16402.49259830919,
          16618.13727154734,
          16833.781944785493,
          17049.426618023645,
          17265.071291261796,
          17480.71596449995,
          17696.3606377381,
          17912.005310976252,
          18127.649984214404,
          18343.294657452556,
          18558.939330690708,
          18774.58400392886,
          18990.228677167015,
          19205.873350405167,
          19421.518023643315,
          19637.162696881467,
          19852.807370119623,
          20068.452043357775,
          20284.096716595926,
          20499.74138983408,
          20715.38606307223
         ],
         "y": [
          0.01110512510115436,
          0.011058986326961666,
          0.011015375820461354,
          0.010973494444922034,
          0.0109325430636123,
          0.010891722539800768,
          0.010850233736756027,
          0.010807277517746695,
          0.010762054746041366,
          0.01071376628490865,
          0.010661609061703511,
          0.01060454384896302,
          0.010541165379256487,
          0.010470036897844162,
          0.010389721649986304,
          0.01029881239633423,
          0.01019658075153373,
          0.010082977184225052,
          0.00995798167843952,
          0.009821574218208447,
          0.009673539555174058,
          0.009511392864455261,
          0.009331185078252716,
          0.009128942724718434,
          0.008900692332004431,
          0.008642460428262723,
          0.00835027354164533,
          0.008020158200304257,
          0.0076481409323915376,
          0.007230248266059176
         ]
        },
        {
         "name": "Flow: 20000.00, disch.rho: 0.01",
         "type": "scatter",
         "x": [
          20000
         ],
         "y": [
          0.00845738254224696
         ]
        }
       ],
       "layout": {
        "template": {
         "data": {
          "bar": [
           {
            "error_x": {
             "color": "#2a3f5f"
            },
            "error_y": {
             "color": "#2a3f5f"
            },
            "marker": {
             "line": {
              "color": "white",
              "width": 0.5
             }
            },
            "type": "bar"
           }
          ],
          "barpolar": [
           {
            "marker": {
             "line": {
              "color": "white",
              "width": 0.5
             }
            },
            "type": "barpolar"
           }
          ],
          "carpet": [
           {
            "aaxis": {
             "endlinecolor": "#2a3f5f",
             "gridcolor": "#C8D4E3",
             "linecolor": "#C8D4E3",
             "minorgridcolor": "#C8D4E3",
             "startlinecolor": "#2a3f5f"
            },
            "baxis": {
             "endlinecolor": "#2a3f5f",
             "gridcolor": "#C8D4E3",
             "linecolor": "#C8D4E3",
             "minorgridcolor": "#C8D4E3",
             "startlinecolor": "#2a3f5f"
            },
            "type": "carpet"
           }
          ],
          "choropleth": [
           {
            "colorbar": {
             "outlinewidth": 0,
             "ticks": ""
            },
            "type": "choropleth"
           }
          ],
          "contour": [
           {
            "colorbar": {
             "outlinewidth": 0,
             "ticks": ""
            },
            "colorscale": [
             [
              0,
              "#0d0887"
             ],
             [
              0.1111111111111111,
              "#46039f"
             ],
             [
              0.2222222222222222,
              "#7201a8"
             ],
             [
              0.3333333333333333,
              "#9c179e"
             ],
             [
              0.4444444444444444,
              "#bd3786"
             ],
             [
              0.5555555555555556,
              "#d8576b"
             ],
             [
              0.6666666666666666,
              "#ed7953"
             ],
             [
              0.7777777777777778,
              "#fb9f3a"
             ],
             [
              0.8888888888888888,
              "#fdca26"
             ],
             [
              1,
              "#f0f921"
             ]
            ],
            "type": "contour"
           }
          ],
          "contourcarpet": [
           {
            "colorbar": {
             "outlinewidth": 0,
             "ticks": ""
            },
            "type": "contourcarpet"
           }
          ],
          "heatmap": [
           {
            "colorbar": {
             "outlinewidth": 0,
             "ticks": ""
            },
            "colorscale": [
             [
              0,
              "#0d0887"
             ],
             [
              0.1111111111111111,
              "#46039f"
             ],
             [
              0.2222222222222222,
              "#7201a8"
             ],
             [
              0.3333333333333333,
              "#9c179e"
             ],
             [
              0.4444444444444444,
              "#bd3786"
             ],
             [
              0.5555555555555556,
              "#d8576b"
             ],
             [
              0.6666666666666666,
              "#ed7953"
             ],
             [
              0.7777777777777778,
              "#fb9f3a"
             ],
             [
              0.8888888888888888,
              "#fdca26"
             ],
             [
              1,
              "#f0f921"
             ]
            ],
            "type": "heatmap"
           }
          ],
          "heatmapgl": [
           {
            "colorbar": {
             "outlinewidth": 0,
             "ticks": ""
            },
            "colorscale": [
             [
              0,
              "#0d0887"
             ],
             [
              0.1111111111111111,
              "#46039f"
             ],
             [
              0.2222222222222222,
              "#7201a8"
             ],
             [
              0.3333333333333333,
              "#9c179e"
             ],
             [
              0.4444444444444444,
              "#bd3786"
             ],
             [
              0.5555555555555556,
              "#d8576b"
             ],
             [
              0.6666666666666666,
              "#ed7953"
             ],
             [
              0.7777777777777778,
              "#fb9f3a"
             ],
             [
              0.8888888888888888,
              "#fdca26"
             ],
             [
              1,
              "#f0f921"
             ]
            ],
            "type": "heatmapgl"
           }
          ],
          "histogram": [
           {
            "marker": {
             "colorbar": {
              "outlinewidth": 0,
              "ticks": ""
             }
            },
            "type": "histogram"
           }
          ],
          "histogram2d": [
           {
            "colorbar": {
             "outlinewidth": 0,
             "ticks": ""
            },
            "colorscale": [
             [
              0,
              "#0d0887"
             ],
             [
              0.1111111111111111,
              "#46039f"
             ],
             [
              0.2222222222222222,
              "#7201a8"
             ],
             [
              0.3333333333333333,
              "#9c179e"
             ],
             [
              0.4444444444444444,
              "#bd3786"
             ],
             [
              0.5555555555555556,
              "#d8576b"
             ],
             [
              0.6666666666666666,
              "#ed7953"
             ],
             [
              0.7777777777777778,
              "#fb9f3a"
             ],
             [
              0.8888888888888888,
              "#fdca26"
             ],
             [
              1,
              "#f0f921"
             ]
            ],
            "type": "histogram2d"
           }
          ],
          "histogram2dcontour": [
           {
            "colorbar": {
             "outlinewidth": 0,
             "ticks": ""
            },
            "colorscale": [
             [
              0,
              "#0d0887"
             ],
             [
              0.1111111111111111,
              "#46039f"
             ],
             [
              0.2222222222222222,
              "#7201a8"
             ],
             [
              0.3333333333333333,
              "#9c179e"
             ],
             [
              0.4444444444444444,
              "#bd3786"
             ],
             [
              0.5555555555555556,
              "#d8576b"
             ],
             [
              0.6666666666666666,
              "#ed7953"
             ],
             [
              0.7777777777777778,
              "#fb9f3a"
             ],
             [
              0.8888888888888888,
              "#fdca26"
             ],
             [
              1,
              "#f0f921"
             ]
            ],
            "type": "histogram2dcontour"
           }
          ],
          "mesh3d": [
           {
            "colorbar": {
             "outlinewidth": 0,
             "ticks": ""
            },
            "type": "mesh3d"
           }
          ],
          "parcoords": [
           {
            "line": {
             "colorbar": {
              "outlinewidth": 0,
              "ticks": ""
             }
            },
            "type": "parcoords"
           }
          ],
          "pie": [
           {
            "automargin": true,
            "type": "pie"
           }
          ],
          "scatter": [
           {
            "marker": {
             "colorbar": {
              "outlinewidth": 0,
              "ticks": ""
             }
            },
            "type": "scatter"
           }
          ],
          "scatter3d": [
           {
            "line": {
             "colorbar": {
              "outlinewidth": 0,
              "ticks": ""
             }
            },
            "marker": {
             "colorbar": {
              "outlinewidth": 0,
              "ticks": ""
             }
            },
            "type": "scatter3d"
           }
          ],
          "scattercarpet": [
           {
            "marker": {
             "colorbar": {
              "outlinewidth": 0,
              "ticks": ""
             }
            },
            "type": "scattercarpet"
           }
          ],
          "scattergeo": [
           {
            "marker": {
             "colorbar": {
              "outlinewidth": 0,
              "ticks": ""
             }
            },
            "type": "scattergeo"
           }
          ],
          "scattergl": [
           {
            "marker": {
             "colorbar": {
              "outlinewidth": 0,
              "ticks": ""
             }
            },
            "type": "scattergl"
           }
          ],
          "scattermapbox": [
           {
            "marker": {
             "colorbar": {
              "outlinewidth": 0,
              "ticks": ""
             }
            },
            "type": "scattermapbox"
           }
          ],
          "scatterpolar": [
           {
            "marker": {
             "colorbar": {
              "outlinewidth": 0,
              "ticks": ""
             }
            },
            "type": "scatterpolar"
           }
          ],
          "scatterpolargl": [
           {
            "marker": {
             "colorbar": {
              "outlinewidth": 0,
              "ticks": ""
             }
            },
            "type": "scatterpolargl"
           }
          ],
          "scatterternary": [
           {
            "marker": {
             "colorbar": {
              "outlinewidth": 0,
              "ticks": ""
             }
            },
            "type": "scatterternary"
           }
          ],
          "surface": [
           {
            "colorbar": {
             "outlinewidth": 0,
             "ticks": ""
            },
            "colorscale": [
             [
              0,
              "#0d0887"
             ],
             [
              0.1111111111111111,
              "#46039f"
             ],
             [
              0.2222222222222222,
              "#7201a8"
             ],
             [
              0.3333333333333333,
              "#9c179e"
             ],
             [
              0.4444444444444444,
              "#bd3786"
             ],
             [
              0.5555555555555556,
              "#d8576b"
             ],
             [
              0.6666666666666666,
              "#ed7953"
             ],
             [
              0.7777777777777778,
              "#fb9f3a"
             ],
             [
              0.8888888888888888,
              "#fdca26"
             ],
             [
              1,
              "#f0f921"
             ]
            ],
            "type": "surface"
           }
          ],
          "table": [
           {
            "cells": {
             "fill": {
              "color": "#EBF0F8"
             },
             "line": {
              "color": "white"
             }
            },
            "header": {
             "fill": {
              "color": "#C8D4E3"
             },
             "line": {
              "color": "white"
             }
            },
            "type": "table"
           }
          ]
         },
         "layout": {
          "annotationdefaults": {
           "arrowcolor": "#2a3f5f",
           "arrowhead": 0,
           "arrowwidth": 1
          },
          "coloraxis": {
           "colorbar": {
            "outlinewidth": 0,
            "ticks": ""
           }
          },
          "colorscale": {
           "diverging": [
            [
             0,
             "#8e0152"
            ],
            [
             0.1,
             "#c51b7d"
            ],
            [
             0.2,
             "#de77ae"
            ],
            [
             0.3,
             "#f1b6da"
            ],
            [
             0.4,
             "#fde0ef"
            ],
            [
             0.5,
             "#f7f7f7"
            ],
            [
             0.6,
             "#e6f5d0"
            ],
            [
             0.7,
             "#b8e186"
            ],
            [
             0.8,
             "#7fbc41"
            ],
            [
             0.9,
             "#4d9221"
            ],
            [
             1,
             "#276419"
            ]
           ],
           "sequential": [
            [
             0,
             "#0d0887"
            ],
            [
             0.1111111111111111,
             "#46039f"
            ],
            [
             0.2222222222222222,
             "#7201a8"
            ],
            [
             0.3333333333333333,
             "#9c179e"
            ],
            [
             0.4444444444444444,
             "#bd3786"
            ],
            [
             0.5555555555555556,
             "#d8576b"
            ],
            [
             0.6666666666666666,
             "#ed7953"
            ],
            [
             0.7777777777777778,
             "#fb9f3a"
            ],
            [
             0.8888888888888888,
             "#fdca26"
            ],
            [
             1,
             "#f0f921"
            ]
           ],
           "sequentialminus": [
            [
             0,
             "#0d0887"
            ],
            [
             0.1111111111111111,
             "#46039f"
            ],
            [
             0.2222222222222222,
             "#7201a8"
            ],
            [
             0.3333333333333333,
             "#9c179e"
            ],
            [
             0.4444444444444444,
             "#bd3786"
            ],
            [
             0.5555555555555556,
             "#d8576b"
            ],
            [
             0.6666666666666666,
             "#ed7953"
            ],
            [
             0.7777777777777778,
             "#fb9f3a"
            ],
            [
             0.8888888888888888,
             "#fdca26"
            ],
            [
             1,
             "#f0f921"
            ]
           ]
          },
          "colorway": [
           "#1f77b4",
           "#ff7f0e",
           "#2ca02c",
           "#d62728",
           "#9467bd",
           "#8c564b",
           "#e377c2",
           "#7f7f7f",
           "#bcbd22",
           "#17becf"
          ],
          "font": {
           "color": "#2a3f5f"
          },
          "geo": {
           "bgcolor": "white",
           "lakecolor": "white",
           "landcolor": "white",
           "showlakes": true,
           "showland": true,
           "subunitcolor": "#C8D4E3"
          },
          "hoverlabel": {
           "align": "left"
          },
          "hovermode": "closest",
          "mapbox": {
           "style": "light"
          },
          "paper_bgcolor": "white",
          "plot_bgcolor": "white",
          "polar": {
           "angularaxis": {
            "gridcolor": "#EBF0F8",
            "linecolor": "#EBF0F8",
            "ticks": ""
           },
           "bgcolor": "white",
           "radialaxis": {
            "gridcolor": "#EBF0F8",
            "linecolor": "#EBF0F8",
            "ticks": ""
           }
          },
          "scene": {
           "xaxis": {
            "backgroundcolor": "white",
            "gridcolor": "#DFE8F3",
            "gridwidth": 2,
            "linecolor": "#EBF0F8",
            "showbackground": true,
            "showspikes": false,
            "ticks": "",
            "zerolinecolor": "#EBF0F8"
           },
           "yaxis": {
            "backgroundcolor": "white",
            "gridcolor": "#DFE8F3",
            "gridwidth": 2,
            "linecolor": "#EBF0F8",
            "showbackground": true,
            "showspikes": false,
            "ticks": "",
            "zerolinecolor": "#EBF0F8"
           },
           "zaxis": {
            "backgroundcolor": "white",
            "gridcolor": "#DFE8F3",
            "gridwidth": 2,
            "linecolor": "#EBF0F8",
            "showbackground": true,
            "showspikes": false,
            "ticks": "",
            "zerolinecolor": "#EBF0F8"
           }
          },
          "shapedefaults": {
           "line": {
            "color": "#2a3f5f"
           }
          },
          "ternary": {
           "aaxis": {
            "gridcolor": "#DFE8F3",
            "linecolor": "#A2B1C6",
            "ticks": ""
           },
           "baxis": {
            "gridcolor": "#DFE8F3",
            "linecolor": "#A2B1C6",
            "ticks": ""
           },
           "bgcolor": "white",
           "caxis": {
            "gridcolor": "#DFE8F3",
            "linecolor": "#A2B1C6",
            "ticks": ""
           }
          },
          "title": {
           "x": 0.05
          },
          "xaxis": {
           "automargin": true,
           "gridcolor": "#EBF0F8",
           "linecolor": "black",
           "linewidth": 2,
           "mirror": true,
           "showline": true,
           "ticks": "",
           "title": {
            "standoff": 15
           },
           "zeroline": false,
           "zerolinecolor": "#EBF0F8",
           "zerolinewidth": 2
          },
          "yaxis": {
           "automargin": true,
           "gridcolor": "#EBF0F8",
           "linecolor": "black",
           "linewidth": 2,
           "mirror": true,
           "showline": true,
           "ticks": "",
           "title": {
            "standoff": 15
           },
           "zeroline": false,
           "zerolinecolor": "#EBF0F8",
           "zerolinewidth": 2
          }
         }
        },
        "xaxis": {
         "range": [
          10452.550000000001,
          27307.850000000002
         ],
         "title": {
          "text": "Volume Flow (m<sup>3</sup>/h)"
         }
        },
        "yaxis": {
         "title": {
          "text": "Rho (g/cm<sup>3</sup>)"
         }
        }
       }
      },
      "text/html": [
       "<div>                            <div id=\"d017d1be-89df-4d66-9abe-fea376fc8c2d\" class=\"plotly-graph-div\" style=\"height:525px; width:100%;\"></div>            <script type=\"text/javascript\">                require([\"plotly\"], function(Plotly) {                    window.PLOTLYENV=window.PLOTLYENV || {};                                    if (document.getElementById(\"d017d1be-89df-4d66-9abe-fea376fc8c2d\")) {                    Plotly.newPlot(                        \"d017d1be-89df-4d66-9abe-fea376fc8c2d\",                        [{\"name\": \"6882.0 RPM\", \"type\": \"scatter\", \"x\": [11218.7, 11356.63103448276, 11494.562068965517, 11632.493103448278, 11770.424137931035, 11908.355172413794, 12046.286206896551, 12184.217241379312, 12322.14827586207, 12460.079310344829, 12598.010344827586, 12735.941379310347, 12873.872413793104, 13011.803448275863, 13149.73448275862, 13287.66551724138, 13425.596551724138, 13563.527586206897, 13701.458620689655, 13839.389655172416, 13977.320689655173, 14115.251724137932, 14253.18275862069, 14391.113793103448, 14529.044827586207, 14666.975862068964, 14804.906896551724, 14942.837931034483, 15080.76896551724, 15218.699999999999], \"y\": [0.007801436744418521, 0.0077818407325955605, 0.007760436689075969, 0.007737372731105786, 0.007712796975931046, 0.007686857540797793, 0.007659702542952058, 0.007631480099639886, 0.007602338328107313, 0.00757242534560037, 0.007541888110083336, 0.007510804022614318, 0.007479142671046901, 0.0074468643689805086, 0.007413929430014565, 0.0073802856513534255, 0.007345592953114727, 0.007309223378329407, 0.007270536453633331, 0.007228891705662357, 0.007183638009329604, 0.007134000413271299, 0.00707912407820309, 0.007018152833375286, 0.006950230508038195, 0.006874500931442126, 0.006790107932837384, 0.006696195341474275, 0.006591906986603113, 0.0064763866974742]}, {\"name\": \"7865.0 RPM\", \"type\": \"scatter\", \"x\": [12916.7, 13103.841379310345, 13290.98275862069, 13478.124137931036, 13665.265517241382, 13852.406896551725, 14039.54827586207, 14226.689655172415, 14413.831034482757, 14600.972413793103, 14788.113793103448, 14975.255172413794, 15162.396551724138, 15349.537931034483, 15536.679310344829, 15723.820689655171, 15910.962068965517, 16098.103448275862, 16285.244827586204, 16472.38620689655, 16659.527586206896, 16846.668965517238, 17033.810344827583, 17220.95172413793, 17408.093103448275, 17595.234482758617, 17782.375862068966, 17969.517241379308, 18156.658620689654, 18343.8], \"y\": [0.009420716268703784, 0.009411271935313128, 0.009395329825462715, 0.009373418556778585, 0.009346066746886806, 0.009313803013413433, 0.009277155973984517, 0.00923665424622612, 0.009192826447764304, 0.009146201196225109, 0.00909730398992895, 0.009046473168856754, 0.008993756977563303, 0.008939178706158107, 0.008882761644750672, 0.00882452807022116, 0.008764476955174372, 0.00870258396793977, 0.008638823763617472, 0.008573170997307568, 0.008505429923452629, 0.008433423888851328, 0.008353698235370794, 0.008262777004795963, 0.008157184238911775, 0.008033443979503169, 0.007888080268355078, 0.0077176171472524415, 0.007518578657980194, 0.007287488842323275]}, {\"name\": \"8848.0 RPM\", \"type\": \"scatter\", \"x\": [15000.000000000002, 15225.575862068965, 15451.151724137933, 15676.727586206898, 15902.303448275861, 16127.87931034483, 16353.455172413795, 16579.03103448276, 16804.606896551726, 17030.18275862069, 17255.758620689656, 17481.334482758622, 17706.910344827586, 17932.486206896552, 18158.06206896552, 18383.637931034482, 18609.21379310345, 18834.789655172415, 19060.36551724138, 19285.941379310345, 19511.51724137931, 19737.093103448275, 19962.66896551724, 20188.244827586208, 20413.82068965517, 20639.396551724138, 20864.972413793104, 21090.548275862067, 21316.124137931034, 21541.7], \"y\": [0.011625278210883978, 0.01158809489955465, 0.011552344287991458, 0.011516959033408745, 0.011480871793020854, 0.011443015224042135, 0.011402321983686913, 0.011357724729169544, 0.011308156117704367, 0.011252548806505723, 0.011189850642645832, 0.011119920864669392, 0.011044031367903466, 0.010963575566538106, 0.010879946874763373, 0.010794504572047338, 0.010707822839252588, 0.010619690758636195, 0.010529863277733264, 0.010438095344078892, 0.010343798264080691, 0.010242388516039218, 0.010126705269798876, 0.009989544740063113, 0.009823703141535392, 0.00962197668891917, 0.00937716159691791, 0.009082054080235066, 0.008729450353574099, 0.008312146631638458]}, {\"name\": \"9831.0 RPM\", \"type\": \"scatter\", \"x\": [17666.7, 17916.700000000004, 18166.700000000004, 18416.7, 18666.7, 18916.7, 19166.700000000004, 19416.7, 19666.7, 19916.7, 20166.700000000004, 20416.7, 20666.7, 20916.7, 21166.7, 21416.700000000004, 21666.7, 21916.7, 22166.7, 22416.7, 22666.7, 22916.7, 23166.7, 23416.7, 23666.700000000004, 23916.7, 24166.7, 24416.7, 24666.7, 24916.7], \"y\": [0.014295693687284332, 0.014274993491730434, 0.014249673890319253, 0.014219415331564872, 0.014183898263981382, 0.014142803136082861, 0.014095810396383393, 0.014042600493397076, 0.013982853875637975, 0.013916250991620192, 0.01384247208782119, 0.01376118528852148, 0.013672039928596317, 0.013574683726628012, 0.013468764401198879, 0.013354023770845401, 0.013232367953049816, 0.013107867364240099, 0.0129846865207984, 0.01286698993910686, 0.01275763995767548, 0.012644361097250499, 0.012505111544537026, 0.012317686714006154, 0.01205988202012897, 0.01170949287737657, 0.011244314700220042, 0.010642142903130473, 0.00988077290057897, 0.008938000107036605]}, {\"name\": \"10322.0 RPM\", \"type\": \"scatter\", \"x\": [20125.0, 20346.26551724138, 20567.53103448276, 20788.796551724135, 21010.062068965515, 21231.327586206895, 21452.59310344828, 21673.858620689658, 21895.124137931034, 22116.389655172414, 22337.655172413793, 22558.920689655173, 22780.18620689655, 23001.45172413793, 23222.717241379312, 23443.982758620692, 23665.24827586207, 23886.513793103448, 24107.779310344828, 24329.044827586207, 24550.310344827587, 24771.575862068967, 24992.841379310343, 25214.106896551726, 25435.372413793106, 25656.637931034486, 25877.903448275865, 26099.16896551724, 26320.43448275862, 26541.7], \"y\": [0.015660340066865893, 0.015670539053179545, 0.015664673527875556, 0.01564401912098825, 0.015609851462551956, 0.015563446182601, 0.015506078911169705, 0.015439025278292403, 0.015363560914003416, 0.015280961448337075, 0.015192488537509609, 0.015098565408651428, 0.014998315723809915, 0.01489075135448767, 0.014774884172187315, 0.01464982750497833, 0.014517028181968485, 0.014380266533303794, 0.014243424345697173, 0.014110383405861526, 0.013983481120069585, 0.013847101471976955, 0.013674045591937894, 0.013436921562751615, 0.013108337467217346, 0.012660901388134313, 0.012067221408301737, 0.011299905610518858, 0.010331562077584878, 0.00913479889229903]}, {\"name\": \"8594.0 RPM\", \"type\": \"scatter\", \"x\": [14461.69053916582, 14677.33521240397, 14892.979885642126, 15108.624558880276, 15324.269232118428, 15539.913905356581, 15755.558578594733, 15971.203251832883, 16186.847925071037, 16402.49259830919, 16618.13727154734, 16833.781944785493, 17049.426618023645, 17265.071291261796, 17480.71596449995, 17696.3606377381, 17912.005310976252, 18127.649984214404, 18343.294657452556, 18558.939330690708, 18774.58400392886, 18990.228677167015, 19205.873350405167, 19421.518023643315, 19637.162696881467, 19852.807370119623, 20068.452043357775, 20284.096716595926, 20499.74138983408, 20715.38606307223], \"y\": [0.01110512510115436, 0.011058986326961666, 0.011015375820461354, 0.010973494444922034, 0.0109325430636123, 0.010891722539800768, 0.010850233736756027, 0.010807277517746695, 0.010762054746041366, 0.01071376628490865, 0.010661609061703511, 0.01060454384896302, 0.010541165379256487, 0.010470036897844162, 0.010389721649986304, 0.01029881239633423, 0.01019658075153373, 0.010082977184225052, 0.00995798167843952, 0.009821574218208447, 0.009673539555174058, 0.009511392864455261, 0.009331185078252716, 0.009128942724718434, 0.008900692332004431, 0.008642460428262723, 0.00835027354164533, 0.008020158200304257, 0.0076481409323915376, 0.007230248266059176]}, {\"name\": \"Flow: 20000.00, disch.rho: 0.01\", \"type\": \"scatter\", \"x\": [20000.0], \"y\": [0.00845738254224696]}],                        {\"template\": {\"data\": {\"bar\": [{\"error_x\": {\"color\": \"#2a3f5f\"}, \"error_y\": {\"color\": \"#2a3f5f\"}, \"marker\": {\"line\": {\"color\": \"white\", \"width\": 0.5}}, \"type\": \"bar\"}], \"barpolar\": [{\"marker\": {\"line\": {\"color\": \"white\", \"width\": 0.5}}, \"type\": \"barpolar\"}], \"carpet\": [{\"aaxis\": {\"endlinecolor\": \"#2a3f5f\", \"gridcolor\": \"#C8D4E3\", \"linecolor\": \"#C8D4E3\", \"minorgridcolor\": \"#C8D4E3\", \"startlinecolor\": \"#2a3f5f\"}, \"baxis\": {\"endlinecolor\": \"#2a3f5f\", \"gridcolor\": \"#C8D4E3\", \"linecolor\": \"#C8D4E3\", \"minorgridcolor\": \"#C8D4E3\", \"startlinecolor\": \"#2a3f5f\"}, \"type\": \"carpet\"}], \"choropleth\": [{\"colorbar\": {\"outlinewidth\": 0, \"ticks\": \"\"}, \"type\": \"choropleth\"}], \"contour\": [{\"colorbar\": {\"outlinewidth\": 0, \"ticks\": \"\"}, \"colorscale\": [[0.0, \"#0d0887\"], [0.1111111111111111, \"#46039f\"], [0.2222222222222222, \"#7201a8\"], [0.3333333333333333, \"#9c179e\"], [0.4444444444444444, \"#bd3786\"], [0.5555555555555556, \"#d8576b\"], [0.6666666666666666, \"#ed7953\"], [0.7777777777777778, \"#fb9f3a\"], [0.8888888888888888, \"#fdca26\"], [1.0, \"#f0f921\"]], \"type\": \"contour\"}], \"contourcarpet\": [{\"colorbar\": {\"outlinewidth\": 0, \"ticks\": \"\"}, \"type\": \"contourcarpet\"}], \"heatmap\": [{\"colorbar\": {\"outlinewidth\": 0, \"ticks\": \"\"}, \"colorscale\": [[0.0, \"#0d0887\"], [0.1111111111111111, \"#46039f\"], [0.2222222222222222, \"#7201a8\"], [0.3333333333333333, \"#9c179e\"], [0.4444444444444444, \"#bd3786\"], [0.5555555555555556, \"#d8576b\"], [0.6666666666666666, \"#ed7953\"], [0.7777777777777778, \"#fb9f3a\"], [0.8888888888888888, \"#fdca26\"], [1.0, \"#f0f921\"]], \"type\": \"heatmap\"}], \"heatmapgl\": [{\"colorbar\": {\"outlinewidth\": 0, \"ticks\": \"\"}, \"colorscale\": [[0.0, \"#0d0887\"], [0.1111111111111111, \"#46039f\"], [0.2222222222222222, \"#7201a8\"], [0.3333333333333333, \"#9c179e\"], [0.4444444444444444, \"#bd3786\"], [0.5555555555555556, \"#d8576b\"], [0.6666666666666666, \"#ed7953\"], [0.7777777777777778, \"#fb9f3a\"], [0.8888888888888888, \"#fdca26\"], [1.0, \"#f0f921\"]], \"type\": \"heatmapgl\"}], \"histogram\": [{\"marker\": {\"colorbar\": {\"outlinewidth\": 0, \"ticks\": \"\"}}, \"type\": \"histogram\"}], \"histogram2d\": [{\"colorbar\": {\"outlinewidth\": 0, \"ticks\": \"\"}, \"colorscale\": [[0.0, \"#0d0887\"], [0.1111111111111111, \"#46039f\"], [0.2222222222222222, \"#7201a8\"], [0.3333333333333333, \"#9c179e\"], [0.4444444444444444, \"#bd3786\"], [0.5555555555555556, \"#d8576b\"], [0.6666666666666666, \"#ed7953\"], [0.7777777777777778, \"#fb9f3a\"], [0.8888888888888888, \"#fdca26\"], [1.0, \"#f0f921\"]], \"type\": \"histogram2d\"}], \"histogram2dcontour\": [{\"colorbar\": {\"outlinewidth\": 0, \"ticks\": \"\"}, \"colorscale\": [[0.0, \"#0d0887\"], [0.1111111111111111, \"#46039f\"], [0.2222222222222222, \"#7201a8\"], [0.3333333333333333, \"#9c179e\"], [0.4444444444444444, \"#bd3786\"], [0.5555555555555556, \"#d8576b\"], [0.6666666666666666, \"#ed7953\"], [0.7777777777777778, \"#fb9f3a\"], [0.8888888888888888, \"#fdca26\"], [1.0, \"#f0f921\"]], \"type\": \"histogram2dcontour\"}], \"mesh3d\": [{\"colorbar\": {\"outlinewidth\": 0, \"ticks\": \"\"}, \"type\": \"mesh3d\"}], \"parcoords\": [{\"line\": {\"colorbar\": {\"outlinewidth\": 0, \"ticks\": \"\"}}, \"type\": \"parcoords\"}], \"pie\": [{\"automargin\": true, \"type\": \"pie\"}], \"scatter\": [{\"marker\": {\"colorbar\": {\"outlinewidth\": 0, \"ticks\": \"\"}}, \"type\": \"scatter\"}], \"scatter3d\": [{\"line\": {\"colorbar\": {\"outlinewidth\": 0, \"ticks\": \"\"}}, \"marker\": {\"colorbar\": {\"outlinewidth\": 0, \"ticks\": \"\"}}, \"type\": \"scatter3d\"}], \"scattercarpet\": [{\"marker\": {\"colorbar\": {\"outlinewidth\": 0, \"ticks\": \"\"}}, \"type\": \"scattercarpet\"}], \"scattergeo\": [{\"marker\": {\"colorbar\": {\"outlinewidth\": 0, \"ticks\": \"\"}}, \"type\": \"scattergeo\"}], \"scattergl\": [{\"marker\": {\"colorbar\": {\"outlinewidth\": 0, \"ticks\": \"\"}}, \"type\": \"scattergl\"}], \"scattermapbox\": [{\"marker\": {\"colorbar\": {\"outlinewidth\": 0, \"ticks\": \"\"}}, \"type\": \"scattermapbox\"}], \"scatterpolar\": [{\"marker\": {\"colorbar\": {\"outlinewidth\": 0, \"ticks\": \"\"}}, \"type\": \"scatterpolar\"}], \"scatterpolargl\": [{\"marker\": {\"colorbar\": {\"outlinewidth\": 0, \"ticks\": \"\"}}, \"type\": \"scatterpolargl\"}], \"scatterternary\": [{\"marker\": {\"colorbar\": {\"outlinewidth\": 0, \"ticks\": \"\"}}, \"type\": \"scatterternary\"}], \"surface\": [{\"colorbar\": {\"outlinewidth\": 0, \"ticks\": \"\"}, \"colorscale\": [[0.0, \"#0d0887\"], [0.1111111111111111, \"#46039f\"], [0.2222222222222222, \"#7201a8\"], [0.3333333333333333, \"#9c179e\"], [0.4444444444444444, \"#bd3786\"], [0.5555555555555556, \"#d8576b\"], [0.6666666666666666, \"#ed7953\"], [0.7777777777777778, \"#fb9f3a\"], [0.8888888888888888, \"#fdca26\"], [1.0, \"#f0f921\"]], \"type\": \"surface\"}], \"table\": [{\"cells\": {\"fill\": {\"color\": \"#EBF0F8\"}, \"line\": {\"color\": \"white\"}}, \"header\": {\"fill\": {\"color\": \"#C8D4E3\"}, \"line\": {\"color\": \"white\"}}, \"type\": \"table\"}]}, \"layout\": {\"annotationdefaults\": {\"arrowcolor\": \"#2a3f5f\", \"arrowhead\": 0, \"arrowwidth\": 1}, \"coloraxis\": {\"colorbar\": {\"outlinewidth\": 0, \"ticks\": \"\"}}, \"colorscale\": {\"diverging\": [[0, \"#8e0152\"], [0.1, \"#c51b7d\"], [0.2, \"#de77ae\"], [0.3, \"#f1b6da\"], [0.4, \"#fde0ef\"], [0.5, \"#f7f7f7\"], [0.6, \"#e6f5d0\"], [0.7, \"#b8e186\"], [0.8, \"#7fbc41\"], [0.9, \"#4d9221\"], [1, \"#276419\"]], \"sequential\": [[0.0, \"#0d0887\"], [0.1111111111111111, \"#46039f\"], [0.2222222222222222, \"#7201a8\"], [0.3333333333333333, \"#9c179e\"], [0.4444444444444444, \"#bd3786\"], [0.5555555555555556, \"#d8576b\"], [0.6666666666666666, \"#ed7953\"], [0.7777777777777778, \"#fb9f3a\"], [0.8888888888888888, \"#fdca26\"], [1.0, \"#f0f921\"]], \"sequentialminus\": [[0.0, \"#0d0887\"], [0.1111111111111111, \"#46039f\"], [0.2222222222222222, \"#7201a8\"], [0.3333333333333333, \"#9c179e\"], [0.4444444444444444, \"#bd3786\"], [0.5555555555555556, \"#d8576b\"], [0.6666666666666666, \"#ed7953\"], [0.7777777777777778, \"#fb9f3a\"], [0.8888888888888888, \"#fdca26\"], [1.0, \"#f0f921\"]]}, \"colorway\": [\"#1f77b4\", \"#ff7f0e\", \"#2ca02c\", \"#d62728\", \"#9467bd\", \"#8c564b\", \"#e377c2\", \"#7f7f7f\", \"#bcbd22\", \"#17becf\"], \"font\": {\"color\": \"#2a3f5f\"}, \"geo\": {\"bgcolor\": \"white\", \"lakecolor\": \"white\", \"landcolor\": \"white\", \"showlakes\": true, \"showland\": true, \"subunitcolor\": \"#C8D4E3\"}, \"hoverlabel\": {\"align\": \"left\"}, \"hovermode\": \"closest\", \"mapbox\": {\"style\": \"light\"}, \"paper_bgcolor\": \"white\", \"plot_bgcolor\": \"white\", \"polar\": {\"angularaxis\": {\"gridcolor\": \"#EBF0F8\", \"linecolor\": \"#EBF0F8\", \"ticks\": \"\"}, \"bgcolor\": \"white\", \"radialaxis\": {\"gridcolor\": \"#EBF0F8\", \"linecolor\": \"#EBF0F8\", \"ticks\": \"\"}}, \"scene\": {\"xaxis\": {\"backgroundcolor\": \"white\", \"gridcolor\": \"#DFE8F3\", \"gridwidth\": 2, \"linecolor\": \"#EBF0F8\", \"showbackground\": true, \"showspikes\": false, \"ticks\": \"\", \"zerolinecolor\": \"#EBF0F8\"}, \"yaxis\": {\"backgroundcolor\": \"white\", \"gridcolor\": \"#DFE8F3\", \"gridwidth\": 2, \"linecolor\": \"#EBF0F8\", \"showbackground\": true, \"showspikes\": false, \"ticks\": \"\", \"zerolinecolor\": \"#EBF0F8\"}, \"zaxis\": {\"backgroundcolor\": \"white\", \"gridcolor\": \"#DFE8F3\", \"gridwidth\": 2, \"linecolor\": \"#EBF0F8\", \"showbackground\": true, \"showspikes\": false, \"ticks\": \"\", \"zerolinecolor\": \"#EBF0F8\"}}, \"shapedefaults\": {\"line\": {\"color\": \"#2a3f5f\"}}, \"ternary\": {\"aaxis\": {\"gridcolor\": \"#DFE8F3\", \"linecolor\": \"#A2B1C6\", \"ticks\": \"\"}, \"baxis\": {\"gridcolor\": \"#DFE8F3\", \"linecolor\": \"#A2B1C6\", \"ticks\": \"\"}, \"bgcolor\": \"white\", \"caxis\": {\"gridcolor\": \"#DFE8F3\", \"linecolor\": \"#A2B1C6\", \"ticks\": \"\"}}, \"title\": {\"x\": 0.05}, \"xaxis\": {\"automargin\": true, \"gridcolor\": \"#EBF0F8\", \"linecolor\": \"black\", \"linewidth\": 2.0, \"mirror\": true, \"showline\": true, \"ticks\": \"\", \"title\": {\"standoff\": 15}, \"zeroline\": false, \"zerolinecolor\": \"#EBF0F8\", \"zerolinewidth\": 2}, \"yaxis\": {\"automargin\": true, \"gridcolor\": \"#EBF0F8\", \"linecolor\": \"black\", \"linewidth\": 2.0, \"mirror\": true, \"showline\": true, \"ticks\": \"\", \"title\": {\"standoff\": 15}, \"zeroline\": false, \"zerolinecolor\": \"#EBF0F8\", \"zerolinewidth\": 2}}}, \"xaxis\": {\"range\": [10452.550000000001, 27307.850000000002], \"title\": {\"text\": \"Volume Flow (m<sup>3</sup>/h)\"}}, \"yaxis\": {\"title\": {\"text\": \"Rho (g/cm<sup>3</sup>)\"}}},                        {\"responsive\": true}                    ).then(function(){\n",
       "                            \n",
       "var gd = document.getElementById('d017d1be-89df-4d66-9abe-fea376fc8c2d');\n",
       "var x = new MutationObserver(function (mutations, observer) {{\n",
       "        var display = window.getComputedStyle(gd).display;\n",
       "        if (!display || display === 'none') {{\n",
       "            console.log([gd, 'removed!']);\n",
       "            Plotly.purge(gd);\n",
       "            observer.disconnect();\n",
       "        }}\n",
       "}});\n",
       "\n",
       "// Listen for the removal of the full notebook cells\n",
       "var notebookContainer = gd.closest('#notebook-container');\n",
       "if (notebookContainer) {{\n",
       "    x.observe(notebookContainer, {childList: true});\n",
       "}}\n",
       "\n",
       "// Listen for the clearing of the current output cell\n",
       "var outputEl = gd.closest('.output');\n",
       "if (outputEl) {{\n",
       "    x.observe(outputEl, {childList: true});\n",
       "}}\n",
       "\n",
       "                        })                };                });            </script>        </div>"
      ]
     },
     "metadata": {},
     "output_type": "display_data"
    }
   ],
   "source": [
    "fig = imp.disch.rho_plot(\n",
    "    flow_v=Q_(20000, \"m³/h\"),\n",
    "    speed=Q_(8594, \"RPM\"),\n",
    "    flow_v_units=\"m³/h\",\n",
    "    speed_units=\"RPM\",\n",
    "    rho_units=\"g/cm³\",\n",
    ")\n",
    "fig"
   ]
  },
  {
   "cell_type": "code",
   "execution_count": 44,
   "id": "integrated-jason",
   "metadata": {},
   "outputs": [
    {
     "data": {
      "text/plain": [
       "(Scatter({\n",
       "     'name': '6882.0 RPM',\n",
       "     'x': array([11218.7       , 11356.63103448, 11494.56206897, 11632.49310345,\n",
       "                 11770.42413793, 11908.35517241, 12046.2862069 , 12184.21724138,\n",
       "                 12322.14827586, 12460.07931034, 12598.01034483, 12735.94137931,\n",
       "                 12873.87241379, 13011.80344828, 13149.73448276, 13287.66551724,\n",
       "                 13425.59655172, 13563.52758621, 13701.45862069, 13839.38965517,\n",
       "                 13977.32068966, 14115.25172414, 14253.18275862, 14391.1137931 ,\n",
       "                 14529.04482759, 14666.97586207, 14804.90689655, 14942.83793103,\n",
       "                 15080.76896552, 15218.7       ]),\n",
       "     'y': array([0.00780144, 0.00778184, 0.00776044, 0.00773737, 0.0077128 , 0.00768686,\n",
       "                 0.0076597 , 0.00763148, 0.00760234, 0.00757243, 0.00754189, 0.0075108 ,\n",
       "                 0.00747914, 0.00744686, 0.00741393, 0.00738029, 0.00734559, 0.00730922,\n",
       "                 0.00727054, 0.00722889, 0.00718364, 0.007134  , 0.00707912, 0.00701815,\n",
       "                 0.00695023, 0.0068745 , 0.00679011, 0.0066962 , 0.00659191, 0.00647639])\n",
       " }),\n",
       " Scatter({\n",
       "     'name': '7865.0 RPM',\n",
       "     'x': array([12916.7       , 13103.84137931, 13290.98275862, 13478.12413793,\n",
       "                 13665.26551724, 13852.40689655, 14039.54827586, 14226.68965517,\n",
       "                 14413.83103448, 14600.97241379, 14788.1137931 , 14975.25517241,\n",
       "                 15162.39655172, 15349.53793103, 15536.67931034, 15723.82068966,\n",
       "                 15910.96206897, 16098.10344828, 16285.24482759, 16472.3862069 ,\n",
       "                 16659.52758621, 16846.66896552, 17033.81034483, 17220.95172414,\n",
       "                 17408.09310345, 17595.23448276, 17782.37586207, 17969.51724138,\n",
       "                 18156.65862069, 18343.8       ]),\n",
       "     'y': array([0.00942072, 0.00941127, 0.00939533, 0.00937342, 0.00934607, 0.0093138 ,\n",
       "                 0.00927716, 0.00923665, 0.00919283, 0.0091462 , 0.0090973 , 0.00904647,\n",
       "                 0.00899376, 0.00893918, 0.00888276, 0.00882453, 0.00876448, 0.00870258,\n",
       "                 0.00863882, 0.00857317, 0.00850543, 0.00843342, 0.0083537 , 0.00826278,\n",
       "                 0.00815718, 0.00803344, 0.00788808, 0.00771762, 0.00751858, 0.00728749])\n",
       " }),\n",
       " Scatter({\n",
       "     'name': '8848.0 RPM',\n",
       "     'x': array([15000.        , 15225.57586207, 15451.15172414, 15676.72758621,\n",
       "                 15902.30344828, 16127.87931034, 16353.45517241, 16579.03103448,\n",
       "                 16804.60689655, 17030.18275862, 17255.75862069, 17481.33448276,\n",
       "                 17706.91034483, 17932.4862069 , 18158.06206897, 18383.63793103,\n",
       "                 18609.2137931 , 18834.78965517, 19060.36551724, 19285.94137931,\n",
       "                 19511.51724138, 19737.09310345, 19962.66896552, 20188.24482759,\n",
       "                 20413.82068966, 20639.39655172, 20864.97241379, 21090.54827586,\n",
       "                 21316.12413793, 21541.7       ]),\n",
       "     'y': array([0.01162528, 0.01158809, 0.01155234, 0.01151696, 0.01148087, 0.01144302,\n",
       "                 0.01140232, 0.01135772, 0.01130816, 0.01125255, 0.01118985, 0.01111992,\n",
       "                 0.01104403, 0.01096358, 0.01087995, 0.0107945 , 0.01070782, 0.01061969,\n",
       "                 0.01052986, 0.0104381 , 0.0103438 , 0.01024239, 0.01012671, 0.00998954,\n",
       "                 0.0098237 , 0.00962198, 0.00937716, 0.00908205, 0.00872945, 0.00831215])\n",
       " }),\n",
       " Scatter({\n",
       "     'name': '9831.0 RPM',\n",
       "     'x': array([17666.7, 17916.7, 18166.7, 18416.7, 18666.7, 18916.7, 19166.7, 19416.7,\n",
       "                 19666.7, 19916.7, 20166.7, 20416.7, 20666.7, 20916.7, 21166.7, 21416.7,\n",
       "                 21666.7, 21916.7, 22166.7, 22416.7, 22666.7, 22916.7, 23166.7, 23416.7,\n",
       "                 23666.7, 23916.7, 24166.7, 24416.7, 24666.7, 24916.7]),\n",
       "     'y': array([0.01429569, 0.01427499, 0.01424967, 0.01421942, 0.0141839 , 0.0141428 ,\n",
       "                 0.01409581, 0.0140426 , 0.01398285, 0.01391625, 0.01384247, 0.01376119,\n",
       "                 0.01367204, 0.01357468, 0.01346876, 0.01335402, 0.01323237, 0.01310787,\n",
       "                 0.01298469, 0.01286699, 0.01275764, 0.01264436, 0.01250511, 0.01231769,\n",
       "                 0.01205988, 0.01170949, 0.01124431, 0.01064214, 0.00988077, 0.008938  ])\n",
       " }),\n",
       " Scatter({\n",
       "     'name': '10322.0 RPM',\n",
       "     'x': array([20125.        , 20346.26551724, 20567.53103448, 20788.79655172,\n",
       "                 21010.06206897, 21231.32758621, 21452.59310345, 21673.85862069,\n",
       "                 21895.12413793, 22116.38965517, 22337.65517241, 22558.92068966,\n",
       "                 22780.1862069 , 23001.45172414, 23222.71724138, 23443.98275862,\n",
       "                 23665.24827586, 23886.5137931 , 24107.77931034, 24329.04482759,\n",
       "                 24550.31034483, 24771.57586207, 24992.84137931, 25214.10689655,\n",
       "                 25435.37241379, 25656.63793103, 25877.90344828, 26099.16896552,\n",
       "                 26320.43448276, 26541.7       ]),\n",
       "     'y': array([0.01566034, 0.01567054, 0.01566467, 0.01564402, 0.01560985, 0.01556345,\n",
       "                 0.01550608, 0.01543903, 0.01536356, 0.01528096, 0.01519249, 0.01509857,\n",
       "                 0.01499832, 0.01489075, 0.01477488, 0.01464983, 0.01451703, 0.01438027,\n",
       "                 0.01424342, 0.01411038, 0.01398348, 0.0138471 , 0.01367405, 0.01343692,\n",
       "                 0.01310834, 0.0126609 , 0.01206722, 0.01129991, 0.01033156, 0.0091348 ])\n",
       " }),\n",
       " Scatter({\n",
       "     'name': '8594.0 RPM',\n",
       "     'x': array([14461.69053917, 14677.3352124 , 14892.97988564, 15108.62455888,\n",
       "                 15324.26923212, 15539.91390536, 15755.55857859, 15971.20325183,\n",
       "                 16186.84792507, 16402.49259831, 16618.13727155, 16833.78194479,\n",
       "                 17049.42661802, 17265.07129126, 17480.7159645 , 17696.36063774,\n",
       "                 17912.00531098, 18127.64998421, 18343.29465745, 18558.93933069,\n",
       "                 18774.58400393, 18990.22867717, 19205.87335041, 19421.51802364,\n",
       "                 19637.16269688, 19852.80737012, 20068.45204336, 20284.0967166 ,\n",
       "                 20499.74138983, 20715.38606307]),\n",
       "     'y': array([0.01110513, 0.01105899, 0.01101538, 0.01097349, 0.01093254, 0.01089172,\n",
       "                 0.01085023, 0.01080728, 0.01076205, 0.01071377, 0.01066161, 0.01060454,\n",
       "                 0.01054117, 0.01047004, 0.01038972, 0.01029881, 0.01019658, 0.01008298,\n",
       "                 0.00995798, 0.00982157, 0.00967354, 0.00951139, 0.00933119, 0.00912894,\n",
       "                 0.00890069, 0.00864246, 0.00835027, 0.00802016, 0.00764814, 0.00723025])\n",
       " }),\n",
       " Scatter({\n",
       "     'name': 'Flow: 20000.00, disch.rho: 0.01', 'x': [20000.0], 'y': [0.00845738254224696]\n",
       " }))"
      ]
     },
     "execution_count": 44,
     "metadata": {},
     "output_type": "execute_result"
    }
   ],
   "source": [
    "fig.data"
   ]
  },
  {
   "cell_type": "code",
   "execution_count": null,
   "id": "proof-breath",
   "metadata": {},
   "outputs": [],
   "source": []
  }
 ],
 "metadata": {
  "kernelspec": {
   "display_name": "Python 3",
   "language": "python",
   "name": "python3"
  },
  "language_info": {
   "codemirror_mode": {
    "name": "ipython",
    "version": 3
   },
   "file_extension": ".py",
   "mimetype": "text/x-python",
   "name": "python",
   "nbconvert_exporter": "python",
   "pygments_lexer": "ipython3",
   "version": "3.8.5"
  }
 },
 "nbformat": 4,
 "nbformat_minor": 5
}
