{
 "cells": [
  {
   "cell_type": "markdown",
   "metadata": {},
   "source": [
    "# Evaluation Module Tutorial\n",
    "\n"
   ]
  },
  {
   "cell_type": "markdown",
   "metadata": {},
   "source": [
    "This tutorial demonstrates how to use the `ccp.Evaluation` class to analyze compressor performance by comparing operational data against reference performance curves.\n",
    "\n",
    "The evaluation module is particularly useful for:\n",
    "- Comparing actual compressor performance to design specifications\n",
    "- Calculating efficiency deviations from expected performance\n",
    "\n",
    "## Overview\n",
    "\n",
    "The `Evaluation` class compares operational data points against reference impeller performance curves to calculate efficiency deviations and other performance metrics."
   ]
  },
  {
   "cell_type": "markdown",
   "metadata": {},
   "source": [
    "## Setup and Imports\n",
    "\n",
    "First, let's import the necessary libraries and load our test data:"
   ]
  },
  {
   "cell_type": "code",
   "execution_count": 1,
   "metadata": {},
   "outputs": [],
   "source": [
    "import pandas as pd\n",
    "import ccp\n",
    "from pathlib import Path\n",
    "\n",
    "# Quantity shortcut\n",
    "Q_ = ccp.Q_\n",
    "\n",
    "# Path to test data\n",
    "data_path = Path(ccp.__file__).parent / \"tests/data\""
   ]
  },
  {
   "cell_type": "code",
   "execution_count": 2,
   "metadata": {},
   "outputs": [],
   "source": [
    "# change pandas plot backend to plotly\n",
    "pd.options.plotting.backend = \"plotly\""
   ]
  },
  {
   "cell_type": "markdown",
   "metadata": {},
   "source": [
    "## Loading Operational Data\n",
    "\n",
    "Load the operational data that we want to evaluate:"
   ]
  },
  {
   "cell_type": "code",
   "execution_count": 3,
   "metadata": {},
   "outputs": [
    {
     "name": "stdout",
     "output_type": "stream",
     "text": [
      "Loaded 30 data points\n",
      "\n",
      "Columns in dataset:\n",
      "['ps', 'Ts', 'pd', 'Td', 'delta_p', 'speed', 'flow_m', 'flow_v']\n",
      "\n",
      "First few rows:\n"
     ]
    },
    {
     "data": {
      "text/html": [
       "<div>\n",
       "<style scoped>\n",
       "    .dataframe tbody tr th:only-of-type {\n",
       "        vertical-align: middle;\n",
       "    }\n",
       "\n",
       "    .dataframe tbody tr th {\n",
       "        vertical-align: top;\n",
       "    }\n",
       "\n",
       "    .dataframe thead th {\n",
       "        text-align: right;\n",
       "    }\n",
       "</style>\n",
       "<table border=\"1\" class=\"dataframe\">\n",
       "  <thead>\n",
       "    <tr style=\"text-align: right;\">\n",
       "      <th></th>\n",
       "      <th>ps</th>\n",
       "      <th>Ts</th>\n",
       "      <th>pd</th>\n",
       "      <th>Td</th>\n",
       "      <th>delta_p</th>\n",
       "      <th>speed</th>\n",
       "      <th>flow_m</th>\n",
       "      <th>flow_v</th>\n",
       "    </tr>\n",
       "  </thead>\n",
       "  <tbody>\n",
       "    <tr>\n",
       "      <th>2023-04-04 11:30:00</th>\n",
       "      <td>5.289741</td>\n",
       "      <td>31.151960</td>\n",
       "      <td>6.043586</td>\n",
       "      <td>39.982773</td>\n",
       "      <td>110.686142</td>\n",
       "      <td>2858.396973</td>\n",
       "      <td>8.272493</td>\n",
       "      <td>1.245845</td>\n",
       "    </tr>\n",
       "    <tr>\n",
       "      <th>2023-04-04 20:15:00</th>\n",
       "      <td>4.525424</td>\n",
       "      <td>30.464081</td>\n",
       "      <td>7.522561</td>\n",
       "      <td>45.116444</td>\n",
       "      <td>891.668030</td>\n",
       "      <td>6441.448242</td>\n",
       "      <td>21.561627</td>\n",
       "      <td>3.795705</td>\n",
       "    </tr>\n",
       "    <tr>\n",
       "      <th>2023-04-04 20:45:00</th>\n",
       "      <td>5.124909</td>\n",
       "      <td>31.742037</td>\n",
       "      <td>5.871001</td>\n",
       "      <td>39.125870</td>\n",
       "      <td>107.371078</td>\n",
       "      <td>2852.725342</td>\n",
       "      <td>8.010020</td>\n",
       "      <td>1.248304</td>\n",
       "    </tr>\n",
       "    <tr>\n",
       "      <th>2023-04-04 20:52:30</th>\n",
       "      <td>4.850587</td>\n",
       "      <td>32.355854</td>\n",
       "      <td>4.923274</td>\n",
       "      <td>48.629524</td>\n",
       "      <td>1.418498</td>\n",
       "      <td>16.785841</td>\n",
       "      <td>0.901590</td>\n",
       "      <td>0.148893</td>\n",
       "    </tr>\n",
       "    <tr>\n",
       "      <th>2023-04-04 21:30:00</th>\n",
       "      <td>5.213386</td>\n",
       "      <td>31.804134</td>\n",
       "      <td>5.981250</td>\n",
       "      <td>41.777378</td>\n",
       "      <td>110.207100</td>\n",
       "      <td>2870.000000</td>\n",
       "      <td>8.184707</td>\n",
       "      <td>1.253805</td>\n",
       "    </tr>\n",
       "  </tbody>\n",
       "</table>\n",
       "</div>"
      ],
      "text/plain": [
       "                           ps         Ts        pd         Td     delta_p  \\\n",
       "2023-04-04 11:30:00  5.289741  31.151960  6.043586  39.982773  110.686142   \n",
       "2023-04-04 20:15:00  4.525424  30.464081  7.522561  45.116444  891.668030   \n",
       "2023-04-04 20:45:00  5.124909  31.742037  5.871001  39.125870  107.371078   \n",
       "2023-04-04 20:52:30  4.850587  32.355854  4.923274  48.629524    1.418498   \n",
       "2023-04-04 21:30:00  5.213386  31.804134  5.981250  41.777378  110.207100   \n",
       "\n",
       "                           speed     flow_m    flow_v  \n",
       "2023-04-04 11:30:00  2858.396973   8.272493  1.245845  \n",
       "2023-04-04 20:15:00  6441.448242  21.561627  3.795705  \n",
       "2023-04-04 20:45:00  2852.725342   8.010020  1.248304  \n",
       "2023-04-04 20:52:30    16.785841   0.901590  0.148893  \n",
       "2023-04-04 21:30:00  2870.000000   8.184707  1.253805  "
      ]
     },
     "execution_count": 3,
     "metadata": {},
     "output_type": "execute_result"
    }
   ],
   "source": [
    "# Load operational data from parquet file\n",
    "df = pd.read_parquet(data_path / \"data.parquet\")\n",
    "\n",
    "print(f\"Loaded {len(df)} data points\")\n",
    "print(\"\\nColumns in dataset:\")\n",
    "print(df.columns.tolist())\n",
    "print(\"\\nFirst few rows:\")\n",
    "df.head()"
   ]
  },
  {
   "cell_type": "markdown",
   "metadata": {},
   "source": [
    "## Defining Fluid Compositions\n",
    "\n",
    "We need to define two fluid compositions:\n",
    "1. **Test fluid**: The fluid composition used when the reference curves were generated\n",
    "2. **Operation fluid**: The actual fluid composition during operation"
   ]
  },
  {
   "cell_type": "code",
   "execution_count": 4,
   "metadata": {},
   "outputs": [
    {
     "name": "stdout",
     "output_type": "stream",
     "text": [
      "Test fluid composition:\n",
      "  methane: 58.976%\n",
      "  ethane: 3.099%\n",
      "  propane: 0.600%\n",
      "  n-butane: 0.080%\n",
      "  i-butane: 0.050%\n",
      "  n-pentane: 0.010%\n",
      "  i-pentane: 0.010%\n",
      "  n2: 0.550%\n",
      "  h2s: 0.020%\n",
      "  co2: 36.605%\n",
      "\n",
      "Operation fluid composition:\n",
      "  methane: 44.040%\n",
      "  ethane: 3.180%\n",
      "  propane: 0.660%\n",
      "  n-butane: 0.150%\n",
      "  i-butane: 0.050%\n",
      "  n-pentane: 0.030%\n",
      "  i-pentane: 0.020%\n",
      "  n2: 0.250%\n",
      "  h2s: 0.060%\n",
      "  co2: 51.550%\n"
     ]
    }
   ],
   "source": [
    "# Test fluid composition (used for reference curves)\n",
    "fluid_a = {\n",
    "    \"methane\": 58.976,\n",
    "    \"ethane\": 3.099,\n",
    "    \"propane\": 0.6,\n",
    "    \"n-butane\": 0.08,\n",
    "    \"i-butane\": 0.05,\n",
    "    \"n-pentane\": 0.01,\n",
    "    \"i-pentane\": 0.01,\n",
    "    \"n2\": 0.55,\n",
    "    \"h2s\": 0.02,\n",
    "    \"co2\": 36.605,\n",
    "}\n",
    "\n",
    "# Operation fluid composition (actual operating conditions)\n",
    "operation_fluid = {\n",
    "    \"methane\": 44.04,\n",
    "    \"ethane\": 3.18,\n",
    "    \"propane\": 0.66,\n",
    "    \"n-butane\": 0.15,\n",
    "    \"i-butane\": 0.05,\n",
    "    \"n-pentane\": 0.03,\n",
    "    \"i-pentane\": 0.02,\n",
    "    \"n2\": 0.25,\n",
    "    \"h2s\": 0.06,\n",
    "    \"co2\": 51.55,\n",
    "}\n",
    "\n",
    "print(\"Test fluid composition:\")\n",
    "for comp, frac in fluid_a.items():\n",
    "    print(f\"  {comp}: {frac:.3f}%\")\n",
    "\n",
    "print(\"\\nOperation fluid composition:\")\n",
    "for comp, frac in operation_fluid.items():\n",
    "    print(f\"  {comp}: {frac:.3f}%\")"
   ]
  },
  {
   "cell_type": "markdown",
   "metadata": {},
   "source": [
    "## Creating Reference Impeller\n",
    "\n",
    "Now we'll create a reference impeller by loading performance curves from CSV files. These curves were digitized from performance charts:"
   ]
  },
  {
   "cell_type": "code",
   "execution_count": 5,
   "metadata": {},
   "outputs": [
    {
     "name": "stdout",
     "output_type": "stream",
     "text": [
      "Reference suction state:\n",
      "  Pressure: 400000.0 pascal\n",
      "  Temperature: 313.15 kelvin\n",
      "  Density: 4.19 kilogram / meter ** 3\n",
      "  Molar mass: 0.03 kilogram / mole\n"
     ]
    }
   ],
   "source": [
    "# Create suction state for the reference curves\n",
    "suc_a = ccp.State(\n",
    "    p=Q_(4, \"bar\"),\n",
    "    T=Q_(40, \"degC\"),\n",
    "    fluid=fluid_a,\n",
    ")\n",
    "\n",
    "print(f\"Reference suction state:\")\n",
    "print(f\"  Pressure: {suc_a.p()}\")\n",
    "print(f\"  Temperature: {suc_a.T()}\")\n",
    "print(f\"  Density: {suc_a.rho():.2f}\")\n",
    "print(f\"  Molar mass: {suc_a.molar_mass():.2f}\")"
   ]
  },
  {
   "cell_type": "code",
   "execution_count": 6,
   "metadata": {},
   "outputs": [
    {
     "name": "stdout",
     "output_type": "stream",
     "text": [
      "Loaded impeller with 8 performance points\n",
      "Speed range: 927 - 1029 RPM\n"
     ]
    }
   ],
   "source": [
    "# Load impeller performance curves from CSV files\n",
    "imp_a = ccp.Impeller.load_from_engauge_csv(\n",
    "    suc=suc_a,\n",
    "    curve_name=\"eval-lp-sec1-caso-a\",\n",
    "    curve_path=data_path,\n",
    "    flow_units=\"m³/h\",\n",
    "    head_units=\"kJ/kg\",\n",
    "    number_of_points=4,  # Use 4 points for interpolation\n",
    ")\n",
    "\n",
    "print(f\"Loaded impeller with {len(imp_a.points)} performance points\")\n",
    "print(f\"Speed range: {min(p.speed.magnitude for p in imp_a.points):.0f} - {max(p.speed.magnitude for p in imp_a.points):.0f} RPM\")"
   ]
  },
  {
   "cell_type": "markdown",
   "metadata": {},
   "source": [
    "## Visualizing Reference Curves\n",
    "\n",
    "Let's plot the reference performance curves to understand what we're comparing against:"
   ]
  },
  {
   "cell_type": "code",
   "execution_count": 7,
   "metadata": {},
   "outputs": [
    {
     "data": {
      "application/vnd.plotly.v1+json": {
       "config": {
        "plotlyServerURL": "https://plot.ly"
       },
       "data": [
        {
         "line": {
          "color": "blue"
         },
         "name": "8848.0 RPM",
         "type": "scatter",
         "x": [
          4.212972222222223,
          4.273636015325671,
          4.334299808429119,
          4.3949636015325675,
          4.455627394636015,
          4.516291187739464,
          4.576954980842912,
          4.63761877394636,
          4.698282567049809,
          4.7589463601532564,
          4.819610153256705,
          4.880273946360154,
          4.940937739463601,
          5.00160153256705,
          5.062265325670499,
          5.122929118773946,
          5.183592911877395,
          5.2442567049808435,
          5.304920498084291,
          5.36558429118774,
          5.4262480842911875,
          5.486911877394636,
          5.547575670498084,
          5.6082394636015325,
          5.668903256704981,
          5.729567049808429,
          5.790230842911877,
          5.850894636015326,
          5.911558429118774,
          5.972222222222222
         ],
         "y": [
          145340.6043105147,
          144578.89328936665,
          143876.07358759796,
          143219.43232607198,
          142596.2566256521,
          141993.83360720176,
          141399.45039158428,
          140800.394099663,
          140183.95185230134,
          139537.41077036262,
          138848.05797471025,
          138103.18058620757,
          137290.06572571796,
          136396.00051410482,
          135408.27207223148,
          134314.16752096132,
          133100.97398115767,
          131755.97857368397,
          130266.4684194036,
          128619.73063917983,
          126803.05235387615,
          124803.72068435582,
          122609.02275148229,
          120206.24567611887,
          117582.67657912897,
          114725.60258137598,
          111622.31080372317,
          108260.08836703398,
          104626.22239217185,
          100708
         ]
        },
        {
         "line": {
          "color": "orange"
         },
         "name": "9831.0 RPM",
         "type": "scatter",
         "x": [
          5.008666666666667,
          5.073321839080459,
          5.137977011494253,
          5.202632183908046,
          5.267287356321839,
          5.331942528735632,
          5.3965977011494255,
          5.461252873563218,
          5.525908045977012,
          5.5905632183908045,
          5.655218390804597,
          5.719873563218391,
          5.784528735632184,
          5.849183908045977,
          5.91383908045977,
          5.978494252873563,
          6.043149425287356,
          6.10780459770115,
          6.172459770114942,
          6.237114942528736,
          6.301770114942529,
          6.366425287356321,
          6.431080459770115,
          6.495735632183909,
          6.560390804597701,
          6.625045977011494,
          6.689701149425288,
          6.75435632183908,
          6.819011494252874,
          6.883666666666667
         ],
         "y": [
          181062,
          179943.97696121034,
          178989.0968551227,
          178172.31524754106,
          177468.58770426954,
          176852.86979111208,
          176300.1170738727,
          175785.28511835544,
          175283.3294903643,
          174769.2057557033,
          174217.86948017648,
          173604.27622958782,
          172903.38156974135,
          172090.14106644114,
          171139.51028549112,
          170026.44479269534,
          168725.9001538579,
          167212.83193478265,
          165462.1957012737,
          163448.94701913506,
          161148.04145417083,
          158534.4345721849,
          155583.0819389813,
          152268.9391203641,
          148566.96168213733,
          144452.10519010498,
          139899.325210071,
          134883.57730783956,
          129379.81704921449,
          123362.99999999999
         ]
        },
        {
         "line": {
          "color": "black",
          "dash": "dash"
         },
         "mode": "lines",
         "opacity": 0.3,
         "showlegend": false,
         "type": "scatter",
         "x": [
          4.212972222222223,
          5.008666666666667
         ],
         "y": [
          145340.6043105147,
          181062
         ]
        }
       ],
       "layout": {
        "template": {
         "data": {
          "bar": [
           {
            "error_x": {
             "color": "#2a3f5f"
            },
            "error_y": {
             "color": "#2a3f5f"
            },
            "marker": {
             "line": {
              "color": "white",
              "width": 0.5
             }
            },
            "type": "bar"
           }
          ],
          "barpolar": [
           {
            "marker": {
             "line": {
              "color": "white",
              "width": 0.5
             }
            },
            "type": "barpolar"
           }
          ],
          "carpet": [
           {
            "aaxis": {
             "endlinecolor": "#2a3f5f",
             "gridcolor": "#C8D4E3",
             "linecolor": "#C8D4E3",
             "minorgridcolor": "#C8D4E3",
             "startlinecolor": "#2a3f5f"
            },
            "baxis": {
             "endlinecolor": "#2a3f5f",
             "gridcolor": "#C8D4E3",
             "linecolor": "#C8D4E3",
             "minorgridcolor": "#C8D4E3",
             "startlinecolor": "#2a3f5f"
            },
            "type": "carpet"
           }
          ],
          "choropleth": [
           {
            "colorbar": {
             "outlinewidth": 0,
             "ticks": ""
            },
            "type": "choropleth"
           }
          ],
          "contour": [
           {
            "colorbar": {
             "outlinewidth": 0,
             "ticks": ""
            },
            "colorscale": [
             [
              0,
              "#0d0887"
             ],
             [
              0.1111111111111111,
              "#46039f"
             ],
             [
              0.2222222222222222,
              "#7201a8"
             ],
             [
              0.3333333333333333,
              "#9c179e"
             ],
             [
              0.4444444444444444,
              "#bd3786"
             ],
             [
              0.5555555555555556,
              "#d8576b"
             ],
             [
              0.6666666666666666,
              "#ed7953"
             ],
             [
              0.7777777777777778,
              "#fb9f3a"
             ],
             [
              0.8888888888888888,
              "#fdca26"
             ],
             [
              1,
              "#f0f921"
             ]
            ],
            "type": "contour"
           }
          ],
          "contourcarpet": [
           {
            "colorbar": {
             "outlinewidth": 0,
             "ticks": ""
            },
            "type": "contourcarpet"
           }
          ],
          "heatmap": [
           {
            "colorbar": {
             "outlinewidth": 0,
             "ticks": ""
            },
            "colorscale": [
             [
              0,
              "#0d0887"
             ],
             [
              0.1111111111111111,
              "#46039f"
             ],
             [
              0.2222222222222222,
              "#7201a8"
             ],
             [
              0.3333333333333333,
              "#9c179e"
             ],
             [
              0.4444444444444444,
              "#bd3786"
             ],
             [
              0.5555555555555556,
              "#d8576b"
             ],
             [
              0.6666666666666666,
              "#ed7953"
             ],
             [
              0.7777777777777778,
              "#fb9f3a"
             ],
             [
              0.8888888888888888,
              "#fdca26"
             ],
             [
              1,
              "#f0f921"
             ]
            ],
            "type": "heatmap"
           }
          ],
          "histogram": [
           {
            "marker": {
             "colorbar": {
              "outlinewidth": 0,
              "ticks": ""
             }
            },
            "type": "histogram"
           }
          ],
          "histogram2d": [
           {
            "colorbar": {
             "outlinewidth": 0,
             "ticks": ""
            },
            "colorscale": [
             [
              0,
              "#0d0887"
             ],
             [
              0.1111111111111111,
              "#46039f"
             ],
             [
              0.2222222222222222,
              "#7201a8"
             ],
             [
              0.3333333333333333,
              "#9c179e"
             ],
             [
              0.4444444444444444,
              "#bd3786"
             ],
             [
              0.5555555555555556,
              "#d8576b"
             ],
             [
              0.6666666666666666,
              "#ed7953"
             ],
             [
              0.7777777777777778,
              "#fb9f3a"
             ],
             [
              0.8888888888888888,
              "#fdca26"
             ],
             [
              1,
              "#f0f921"
             ]
            ],
            "type": "histogram2d"
           }
          ],
          "histogram2dcontour": [
           {
            "colorbar": {
             "outlinewidth": 0,
             "ticks": ""
            },
            "colorscale": [
             [
              0,
              "#0d0887"
             ],
             [
              0.1111111111111111,
              "#46039f"
             ],
             [
              0.2222222222222222,
              "#7201a8"
             ],
             [
              0.3333333333333333,
              "#9c179e"
             ],
             [
              0.4444444444444444,
              "#bd3786"
             ],
             [
              0.5555555555555556,
              "#d8576b"
             ],
             [
              0.6666666666666666,
              "#ed7953"
             ],
             [
              0.7777777777777778,
              "#fb9f3a"
             ],
             [
              0.8888888888888888,
              "#fdca26"
             ],
             [
              1,
              "#f0f921"
             ]
            ],
            "type": "histogram2dcontour"
           }
          ],
          "mesh3d": [
           {
            "colorbar": {
             "outlinewidth": 0,
             "ticks": ""
            },
            "type": "mesh3d"
           }
          ],
          "parcoords": [
           {
            "line": {
             "colorbar": {
              "outlinewidth": 0,
              "ticks": ""
             }
            },
            "type": "parcoords"
           }
          ],
          "pie": [
           {
            "automargin": true,
            "type": "pie"
           }
          ],
          "scatter": [
           {
            "marker": {
             "colorbar": {
              "outlinewidth": 0,
              "ticks": ""
             }
            },
            "type": "scatter"
           }
          ],
          "scatter3d": [
           {
            "line": {
             "colorbar": {
              "outlinewidth": 0,
              "ticks": ""
             }
            },
            "marker": {
             "colorbar": {
              "outlinewidth": 0,
              "ticks": ""
             }
            },
            "type": "scatter3d"
           }
          ],
          "scattercarpet": [
           {
            "marker": {
             "colorbar": {
              "outlinewidth": 0,
              "ticks": ""
             }
            },
            "type": "scattercarpet"
           }
          ],
          "scattergeo": [
           {
            "marker": {
             "colorbar": {
              "outlinewidth": 0,
              "ticks": ""
             }
            },
            "type": "scattergeo"
           }
          ],
          "scattergl": [
           {
            "marker": {
             "colorbar": {
              "outlinewidth": 0,
              "ticks": ""
             }
            },
            "type": "scattergl"
           }
          ],
          "scattermapbox": [
           {
            "marker": {
             "colorbar": {
              "outlinewidth": 0,
              "ticks": ""
             }
            },
            "type": "scattermapbox"
           }
          ],
          "scatterpolar": [
           {
            "marker": {
             "colorbar": {
              "outlinewidth": 0,
              "ticks": ""
             }
            },
            "type": "scatterpolar"
           }
          ],
          "scatterpolargl": [
           {
            "marker": {
             "colorbar": {
              "outlinewidth": 0,
              "ticks": ""
             }
            },
            "type": "scatterpolargl"
           }
          ],
          "scatterternary": [
           {
            "marker": {
             "colorbar": {
              "outlinewidth": 0,
              "ticks": ""
             }
            },
            "type": "scatterternary"
           }
          ],
          "surface": [
           {
            "colorbar": {
             "outlinewidth": 0,
             "ticks": ""
            },
            "colorscale": [
             [
              0,
              "#0d0887"
             ],
             [
              0.1111111111111111,
              "#46039f"
             ],
             [
              0.2222222222222222,
              "#7201a8"
             ],
             [
              0.3333333333333333,
              "#9c179e"
             ],
             [
              0.4444444444444444,
              "#bd3786"
             ],
             [
              0.5555555555555556,
              "#d8576b"
             ],
             [
              0.6666666666666666,
              "#ed7953"
             ],
             [
              0.7777777777777778,
              "#fb9f3a"
             ],
             [
              0.8888888888888888,
              "#fdca26"
             ],
             [
              1,
              "#f0f921"
             ]
            ],
            "type": "surface"
           }
          ],
          "table": [
           {
            "cells": {
             "fill": {
              "color": "#EBF0F8"
             },
             "line": {
              "color": "white"
             }
            },
            "header": {
             "fill": {
              "color": "#C8D4E3"
             },
             "line": {
              "color": "white"
             }
            },
            "type": "table"
           }
          ]
         },
         "layout": {
          "annotationdefaults": {
           "arrowcolor": "#2a3f5f",
           "arrowhead": 0,
           "arrowwidth": 1
          },
          "coloraxis": {
           "colorbar": {
            "outlinewidth": 0,
            "ticks": ""
           }
          },
          "colorscale": {
           "diverging": [
            [
             0,
             "#8e0152"
            ],
            [
             0.1,
             "#c51b7d"
            ],
            [
             0.2,
             "#de77ae"
            ],
            [
             0.3,
             "#f1b6da"
            ],
            [
             0.4,
             "#fde0ef"
            ],
            [
             0.5,
             "#f7f7f7"
            ],
            [
             0.6,
             "#e6f5d0"
            ],
            [
             0.7,
             "#b8e186"
            ],
            [
             0.8,
             "#7fbc41"
            ],
            [
             0.9,
             "#4d9221"
            ],
            [
             1,
             "#276419"
            ]
           ],
           "sequential": [
            [
             0,
             "#0d0887"
            ],
            [
             0.1111111111111111,
             "#46039f"
            ],
            [
             0.2222222222222222,
             "#7201a8"
            ],
            [
             0.3333333333333333,
             "#9c179e"
            ],
            [
             0.4444444444444444,
             "#bd3786"
            ],
            [
             0.5555555555555556,
             "#d8576b"
            ],
            [
             0.6666666666666666,
             "#ed7953"
            ],
            [
             0.7777777777777778,
             "#fb9f3a"
            ],
            [
             0.8888888888888888,
             "#fdca26"
            ],
            [
             1,
             "#f0f921"
            ]
           ],
           "sequentialminus": [
            [
             0,
             "#0d0887"
            ],
            [
             0.1111111111111111,
             "#46039f"
            ],
            [
             0.2222222222222222,
             "#7201a8"
            ],
            [
             0.3333333333333333,
             "#9c179e"
            ],
            [
             0.4444444444444444,
             "#bd3786"
            ],
            [
             0.5555555555555556,
             "#d8576b"
            ],
            [
             0.6666666666666666,
             "#ed7953"
            ],
            [
             0.7777777777777778,
             "#fb9f3a"
            ],
            [
             0.8888888888888888,
             "#fdca26"
            ],
            [
             1,
             "#f0f921"
            ]
           ]
          },
          "colorway": [
           "#1f77b4",
           "#ff7f0e",
           "#2ca02c",
           "#d62728",
           "#9467bd",
           "#8c564b",
           "#e377c2",
           "#7f7f7f",
           "#bcbd22",
           "#17becf"
          ],
          "font": {
           "color": "#2a3f5f"
          },
          "geo": {
           "bgcolor": "white",
           "lakecolor": "white",
           "landcolor": "white",
           "showlakes": true,
           "showland": true,
           "subunitcolor": "#C8D4E3"
          },
          "hoverlabel": {
           "align": "left"
          },
          "hovermode": "closest",
          "mapbox": {
           "style": "light"
          },
          "paper_bgcolor": "white",
          "plot_bgcolor": "white",
          "polar": {
           "angularaxis": {
            "gridcolor": "#EBF0F8",
            "linecolor": "#EBF0F8",
            "ticks": ""
           },
           "bgcolor": "white",
           "radialaxis": {
            "gridcolor": "#EBF0F8",
            "linecolor": "#EBF0F8",
            "ticks": ""
           }
          },
          "scene": {
           "xaxis": {
            "backgroundcolor": "white",
            "gridcolor": "#DFE8F3",
            "gridwidth": 2,
            "linecolor": "#EBF0F8",
            "showbackground": true,
            "showspikes": false,
            "ticks": "",
            "zerolinecolor": "#EBF0F8"
           },
           "yaxis": {
            "backgroundcolor": "white",
            "gridcolor": "#DFE8F3",
            "gridwidth": 2,
            "linecolor": "#EBF0F8",
            "showbackground": true,
            "showspikes": false,
            "ticks": "",
            "zerolinecolor": "#EBF0F8"
           },
           "zaxis": {
            "backgroundcolor": "white",
            "gridcolor": "#DFE8F3",
            "gridwidth": 2,
            "linecolor": "#EBF0F8",
            "showbackground": true,
            "showspikes": false,
            "ticks": "",
            "zerolinecolor": "#EBF0F8"
           }
          },
          "shapedefaults": {
           "line": {
            "color": "#2a3f5f"
           }
          },
          "ternary": {
           "aaxis": {
            "gridcolor": "#DFE8F3",
            "linecolor": "#A2B1C6",
            "ticks": ""
           },
           "baxis": {
            "gridcolor": "#DFE8F3",
            "linecolor": "#A2B1C6",
            "ticks": ""
           },
           "bgcolor": "white",
           "caxis": {
            "gridcolor": "#DFE8F3",
            "linecolor": "#A2B1C6",
            "ticks": ""
           }
          },
          "title": {
           "x": 0.05
          },
          "xaxis": {
           "automargin": true,
           "gridcolor": "#EBF0F8",
           "linecolor": "black",
           "linewidth": 2,
           "mirror": true,
           "showline": true,
           "ticks": "",
           "title": {
            "standoff": 15
           },
           "zeroline": false,
           "zerolinecolor": "#EBF0F8",
           "zerolinewidth": 2
          },
          "yaxis": {
           "automargin": true,
           "gridcolor": "#EBF0F8",
           "linecolor": "black",
           "linewidth": 2,
           "mirror": true,
           "showline": true,
           "ticks": "",
           "title": {
            "standoff": 15
           },
           "zeroline": false,
           "zerolinecolor": "#EBF0F8",
           "zerolinewidth": 2
          }
         }
        },
        "xaxis": {
         "range": [
          4.0794375,
          7.017201388888889
         ],
         "title": {
          "text": "Volume Flow (m<sup>3</sup>/s)"
         }
        },
        "yaxis": {
         "title": {
          "text": "Head (J/kg)"
         }
        }
       }
      }
     },
     "metadata": {},
     "output_type": "display_data"
    }
   ],
   "source": [
    "# Plot the reference curves\n",
    "imp_a.head_plot()"
   ]
  },
  {
   "cell_type": "markdown",
   "metadata": {},
   "source": [
    "## Creating the Evaluation\n",
    "\n",
    "Now we can create the `Evaluation` object that will compare our operational data against the reference curves:"
   ]
  },
  {
   "cell_type": "code",
   "execution_count": 8,
   "metadata": {},
   "outputs": [
    {
     "name": "stdout",
     "output_type": "stream",
     "text": [
      "Converting curves\n"
     ]
    },
    {
     "data": {
      "application/vnd.jupyter.widget-view+json": {
       "model_id": "d3bf05ded2914735975dbcffcc13535e",
       "version_major": 2,
       "version_minor": 0
      },
      "text/plain": [
       "  0%|          | 0/2 [00:00<?, ?it/s]"
      ]
     },
     "metadata": {},
     "output_type": "display_data"
    },
    {
     "name": "stdout",
     "output_type": "stream",
     "text": [
      "Calculating points...\n"
     ]
    },
    {
     "data": {
      "application/vnd.jupyter.widget-view+json": {
       "model_id": "eb4f3fb70fae43be8547d600d26488d2",
       "version_major": 2,
       "version_minor": 0
      },
      "text/plain": [
       "0it [00:00, ?it/s]"
      ]
     },
     "metadata": {},
     "output_type": "display_data"
    },
    {
     "name": "stdout",
     "output_type": "stream",
     "text": [
      "Calculating expected points...\n"
     ]
    },
    {
     "data": {
      "application/vnd.jupyter.widget-view+json": {
       "model_id": "42e12ffa5b404634bfcabba7ffaa3088",
       "version_major": 2,
       "version_minor": 0
      },
      "text/plain": [
       "0it [00:00, ?it/s]"
      ]
     },
     "metadata": {},
     "output_type": "display_data"
    },
    {
     "name": "stdout",
     "output_type": "stream",
     "text": [
      "Evaluation created with 2 data points\n",
      "Average efficiency deviation: 11.27%\n"
     ]
    }
   ],
   "source": [
    "# Create evaluation object\n",
    "evaluation = ccp.Evaluation(\n",
    "    data=df,\n",
    "    operation_fluid=operation_fluid,\n",
    "    data_units={\n",
    "        \"ps\": \"bar\",        # Suction pressure\n",
    "        \"Ts\": \"degC\",       # Suction temperature\n",
    "        \"pd\": \"bar\",        # Discharge pressure\n",
    "        \"Td\": \"degC\",       # Discharge temperature\n",
    "        \"flow_v\": \"m³/s\",   # Volumetric flow rate\n",
    "        \"speed\": \"RPM\",     # Rotational speed\n",
    "    },\n",
    "    impellers=[imp_a],      # Reference impeller(s)\n",
    "    n_clusters=2,           # Number of clusters for data analysis\n",
    ")\n",
    "\n",
    "print(f\"Evaluation created with {len(evaluation.df)} data points\")\n",
    "print(f\"Average efficiency deviation: {evaluation.df['delta_eff'].mean():.2f}%\")"
   ]
  },
  {
   "cell_type": "markdown",
   "metadata": {},
   "source": [
    "## Understanding the Results\n",
    "\n",
    "The evaluation calculates several key metrics for each data point:"
   ]
  },
  {
   "cell_type": "code",
   "execution_count": 9,
   "metadata": {},
   "outputs": [
    {
     "data": {
      "text/html": [
       "<div>\n",
       "<style scoped>\n",
       "    .dataframe tbody tr th:only-of-type {\n",
       "        vertical-align: middle;\n",
       "    }\n",
       "\n",
       "    .dataframe tbody tr th {\n",
       "        vertical-align: top;\n",
       "    }\n",
       "\n",
       "    .dataframe thead th {\n",
       "        text-align: right;\n",
       "    }\n",
       "</style>\n",
       "<table border=\"1\" class=\"dataframe\">\n",
       "  <thead>\n",
       "    <tr style=\"text-align: right;\">\n",
       "      <th></th>\n",
       "      <th>ps</th>\n",
       "      <th>Ts</th>\n",
       "      <th>pd</th>\n",
       "      <th>Td</th>\n",
       "      <th>delta_p</th>\n",
       "      <th>speed</th>\n",
       "      <th>flow_m</th>\n",
       "      <th>flow_v</th>\n",
       "      <th>valid</th>\n",
       "      <th>v_s</th>\n",
       "      <th>...</th>\n",
       "      <th>p_disch</th>\n",
       "      <th>expected_eff</th>\n",
       "      <th>expected_head</th>\n",
       "      <th>expected_power</th>\n",
       "      <th>expected_p_disch</th>\n",
       "      <th>delta_eff</th>\n",
       "      <th>delta_head</th>\n",
       "      <th>delta_power</th>\n",
       "      <th>delta_p_disch</th>\n",
       "      <th>timescale</th>\n",
       "    </tr>\n",
       "  </thead>\n",
       "  <tbody>\n",
       "    <tr>\n",
       "      <th>2023-04-05 02:30:00</th>\n",
       "      <td>3.807444</td>\n",
       "      <td>24.541362</td>\n",
       "      <td>16.192327</td>\n",
       "      <td>138.779867</td>\n",
       "      <td>1256.971639</td>\n",
       "      <td>9062.537109</td>\n",
       "      <td>23.593979</td>\n",
       "      <td>4.847396</td>\n",
       "      <td>True</td>\n",
       "      <td>0.205450</td>\n",
       "      <td>...</td>\n",
       "      <td>16.192327</td>\n",
       "      <td>0.826488</td>\n",
       "      <td>151553.975693</td>\n",
       "      <td>4.326463e+06</td>\n",
       "      <td>18.416955</td>\n",
       "      <td>11.426007</td>\n",
       "      <td>-11.621656</td>\n",
       "      <td>-22.35579</td>\n",
       "      <td>-12.079239</td>\n",
       "      <td>0</td>\n",
       "    </tr>\n",
       "    <tr>\n",
       "      <th>2023-04-05 03:07:30</th>\n",
       "      <td>3.788713</td>\n",
       "      <td>24.206667</td>\n",
       "      <td>16.086901</td>\n",
       "      <td>138.611476</td>\n",
       "      <td>1257.790161</td>\n",
       "      <td>9063.274740</td>\n",
       "      <td>23.555144</td>\n",
       "      <td>4.857905</td>\n",
       "      <td>True</td>\n",
       "      <td>0.206237</td>\n",
       "      <td>...</td>\n",
       "      <td>16.086901</td>\n",
       "      <td>0.826538</td>\n",
       "      <td>151480.630354</td>\n",
       "      <td>4.333480e+06</td>\n",
       "      <td>18.405535</td>\n",
       "      <td>11.117314</td>\n",
       "      <td>-11.738841</td>\n",
       "      <td>-22.49968</td>\n",
       "      <td>-12.597482</td>\n",
       "      <td>1</td>\n",
       "    </tr>\n",
       "  </tbody>\n",
       "</table>\n",
       "<p>2 rows × 28 columns</p>\n",
       "</div>"
      ],
      "text/plain": [
       "                           ps         Ts         pd          Td      delta_p  \\\n",
       "2023-04-05 02:30:00  3.807444  24.541362  16.192327  138.779867  1256.971639   \n",
       "2023-04-05 03:07:30  3.788713  24.206667  16.086901  138.611476  1257.790161   \n",
       "\n",
       "                           speed     flow_m    flow_v  valid       v_s  ...  \\\n",
       "2023-04-05 02:30:00  9062.537109  23.593979  4.847396   True  0.205450  ...   \n",
       "2023-04-05 03:07:30  9063.274740  23.555144  4.857905   True  0.206237  ...   \n",
       "\n",
       "                       p_disch  expected_eff  expected_head  expected_power  \\\n",
       "2023-04-05 02:30:00  16.192327      0.826488  151553.975693    4.326463e+06   \n",
       "2023-04-05 03:07:30  16.086901      0.826538  151480.630354    4.333480e+06   \n",
       "\n",
       "                     expected_p_disch  delta_eff  delta_head  delta_power  \\\n",
       "2023-04-05 02:30:00         18.416955  11.426007  -11.621656    -22.35579   \n",
       "2023-04-05 03:07:30         18.405535  11.117314  -11.738841    -22.49968   \n",
       "\n",
       "                     delta_p_disch  timescale  \n",
       "2023-04-05 02:30:00     -12.079239          0  \n",
       "2023-04-05 03:07:30     -12.597482          1  \n",
       "\n",
       "[2 rows x 28 columns]"
      ]
     },
     "execution_count": 9,
     "metadata": {},
     "output_type": "execute_result"
    }
   ],
   "source": [
    "# Results are available in the `evaluation.df` DataFrame\n",
    "evaluation.df"
   ]
  },
  {
   "cell_type": "markdown",
   "metadata": {},
   "source": [
    "### Key Metrics Explained:\n",
    "\n",
    "- **`expected_eff`**: Expected efficiency from reference curve\n",
    "- **`eff`**: Calculated efficiency for the operational point\n",
    "- **`delta_eff`**: Efficiency deviation from reference curve (positive = better than expected)\n",
    "\n",
    "The same results are available for head, power and discharge pressure."
   ]
  },
  {
   "cell_type": "markdown",
   "metadata": {},
   "source": [
    "## Analyzing Performance by Cluster\n",
    "\n",
    "The evaluation automatically clusters the data to identify different operating regimes:"
   ]
  },
  {
   "cell_type": "code",
   "execution_count": 10,
   "metadata": {},
   "outputs": [
    {
     "name": "stdout",
     "output_type": "stream",
     "text": [
      "Performance by cluster:\n",
      "         Count  Mean Δeff (%)  Std Δeff (%)\n",
      "cluster                                    \n",
      "0            1          11.43           NaN\n",
      "1            1          11.12           NaN\n"
     ]
    }
   ],
   "source": [
    "# Analyze performance by cluster\n",
    "if 'cluster' in evaluation.df.columns:\n",
    "    cluster_analysis = evaluation.df.groupby('cluster')['delta_eff'].agg(['count', 'mean', 'std'])\n",
    "    cluster_analysis.columns = ['Count', 'Mean Δeff (%)', 'Std Δeff (%)']\n",
    "    \n",
    "    print(\"Performance by cluster:\")\n",
    "    print(cluster_analysis.round(2))\n",
    "else:\n",
    "    print(\"Cluster information not available in results\")"
   ]
  },
  {
   "cell_type": "markdown",
   "metadata": {},
   "source": [
    "## Visualizing Results\n",
    "\n",
    "Let's create some visualizations to better understand the evaluation results:"
   ]
  },
  {
   "cell_type": "code",
   "execution_count": 11,
   "metadata": {},
   "outputs": [
    {
     "data": {
      "application/vnd.plotly.v1+json": {
       "config": {
        "plotlyServerURL": "https://plot.ly"
       },
       "data": [
        {
         "hovertemplate": "variable=delta_eff<br>index=%{x}<br>value=%{y}<extra></extra>",
         "legendgroup": "delta_eff",
         "line": {
          "color": "#1f77b4",
          "dash": "solid"
         },
         "marker": {
          "symbol": "circle"
         },
         "mode": "lines",
         "name": "delta_eff",
         "orientation": "v",
         "showlegend": true,
         "type": "scatter",
         "x": [
          "2023-04-05T02:30:00",
          "2023-04-05T03:07:30"
         ],
         "xaxis": "x",
         "y": [
          11.426007053665677,
          11.11731362978391
         ],
         "yaxis": "y"
        }
       ],
       "layout": {
        "legend": {
         "title": {
          "text": "variable"
         },
         "tracegroupgap": 0
        },
        "margin": {
         "t": 60
        },
        "template": {
         "data": {
          "bar": [
           {
            "error_x": {
             "color": "#2a3f5f"
            },
            "error_y": {
             "color": "#2a3f5f"
            },
            "marker": {
             "line": {
              "color": "white",
              "width": 0.5
             }
            },
            "type": "bar"
           }
          ],
          "barpolar": [
           {
            "marker": {
             "line": {
              "color": "white",
              "width": 0.5
             }
            },
            "type": "barpolar"
           }
          ],
          "carpet": [
           {
            "aaxis": {
             "endlinecolor": "#2a3f5f",
             "gridcolor": "#C8D4E3",
             "linecolor": "#C8D4E3",
             "minorgridcolor": "#C8D4E3",
             "startlinecolor": "#2a3f5f"
            },
            "baxis": {
             "endlinecolor": "#2a3f5f",
             "gridcolor": "#C8D4E3",
             "linecolor": "#C8D4E3",
             "minorgridcolor": "#C8D4E3",
             "startlinecolor": "#2a3f5f"
            },
            "type": "carpet"
           }
          ],
          "choropleth": [
           {
            "colorbar": {
             "outlinewidth": 0,
             "ticks": ""
            },
            "type": "choropleth"
           }
          ],
          "contour": [
           {
            "colorbar": {
             "outlinewidth": 0,
             "ticks": ""
            },
            "colorscale": [
             [
              0,
              "#0d0887"
             ],
             [
              0.1111111111111111,
              "#46039f"
             ],
             [
              0.2222222222222222,
              "#7201a8"
             ],
             [
              0.3333333333333333,
              "#9c179e"
             ],
             [
              0.4444444444444444,
              "#bd3786"
             ],
             [
              0.5555555555555556,
              "#d8576b"
             ],
             [
              0.6666666666666666,
              "#ed7953"
             ],
             [
              0.7777777777777778,
              "#fb9f3a"
             ],
             [
              0.8888888888888888,
              "#fdca26"
             ],
             [
              1,
              "#f0f921"
             ]
            ],
            "type": "contour"
           }
          ],
          "contourcarpet": [
           {
            "colorbar": {
             "outlinewidth": 0,
             "ticks": ""
            },
            "type": "contourcarpet"
           }
          ],
          "heatmap": [
           {
            "colorbar": {
             "outlinewidth": 0,
             "ticks": ""
            },
            "colorscale": [
             [
              0,
              "#0d0887"
             ],
             [
              0.1111111111111111,
              "#46039f"
             ],
             [
              0.2222222222222222,
              "#7201a8"
             ],
             [
              0.3333333333333333,
              "#9c179e"
             ],
             [
              0.4444444444444444,
              "#bd3786"
             ],
             [
              0.5555555555555556,
              "#d8576b"
             ],
             [
              0.6666666666666666,
              "#ed7953"
             ],
             [
              0.7777777777777778,
              "#fb9f3a"
             ],
             [
              0.8888888888888888,
              "#fdca26"
             ],
             [
              1,
              "#f0f921"
             ]
            ],
            "type": "heatmap"
           }
          ],
          "histogram": [
           {
            "marker": {
             "colorbar": {
              "outlinewidth": 0,
              "ticks": ""
             }
            },
            "type": "histogram"
           }
          ],
          "histogram2d": [
           {
            "colorbar": {
             "outlinewidth": 0,
             "ticks": ""
            },
            "colorscale": [
             [
              0,
              "#0d0887"
             ],
             [
              0.1111111111111111,
              "#46039f"
             ],
             [
              0.2222222222222222,
              "#7201a8"
             ],
             [
              0.3333333333333333,
              "#9c179e"
             ],
             [
              0.4444444444444444,
              "#bd3786"
             ],
             [
              0.5555555555555556,
              "#d8576b"
             ],
             [
              0.6666666666666666,
              "#ed7953"
             ],
             [
              0.7777777777777778,
              "#fb9f3a"
             ],
             [
              0.8888888888888888,
              "#fdca26"
             ],
             [
              1,
              "#f0f921"
             ]
            ],
            "type": "histogram2d"
           }
          ],
          "histogram2dcontour": [
           {
            "colorbar": {
             "outlinewidth": 0,
             "ticks": ""
            },
            "colorscale": [
             [
              0,
              "#0d0887"
             ],
             [
              0.1111111111111111,
              "#46039f"
             ],
             [
              0.2222222222222222,
              "#7201a8"
             ],
             [
              0.3333333333333333,
              "#9c179e"
             ],
             [
              0.4444444444444444,
              "#bd3786"
             ],
             [
              0.5555555555555556,
              "#d8576b"
             ],
             [
              0.6666666666666666,
              "#ed7953"
             ],
             [
              0.7777777777777778,
              "#fb9f3a"
             ],
             [
              0.8888888888888888,
              "#fdca26"
             ],
             [
              1,
              "#f0f921"
             ]
            ],
            "type": "histogram2dcontour"
           }
          ],
          "mesh3d": [
           {
            "colorbar": {
             "outlinewidth": 0,
             "ticks": ""
            },
            "type": "mesh3d"
           }
          ],
          "parcoords": [
           {
            "line": {
             "colorbar": {
              "outlinewidth": 0,
              "ticks": ""
             }
            },
            "type": "parcoords"
           }
          ],
          "pie": [
           {
            "automargin": true,
            "type": "pie"
           }
          ],
          "scatter": [
           {
            "marker": {
             "colorbar": {
              "outlinewidth": 0,
              "ticks": ""
             }
            },
            "type": "scatter"
           }
          ],
          "scatter3d": [
           {
            "line": {
             "colorbar": {
              "outlinewidth": 0,
              "ticks": ""
             }
            },
            "marker": {
             "colorbar": {
              "outlinewidth": 0,
              "ticks": ""
             }
            },
            "type": "scatter3d"
           }
          ],
          "scattercarpet": [
           {
            "marker": {
             "colorbar": {
              "outlinewidth": 0,
              "ticks": ""
             }
            },
            "type": "scattercarpet"
           }
          ],
          "scattergeo": [
           {
            "marker": {
             "colorbar": {
              "outlinewidth": 0,
              "ticks": ""
             }
            },
            "type": "scattergeo"
           }
          ],
          "scattergl": [
           {
            "marker": {
             "colorbar": {
              "outlinewidth": 0,
              "ticks": ""
             }
            },
            "type": "scattergl"
           }
          ],
          "scattermapbox": [
           {
            "marker": {
             "colorbar": {
              "outlinewidth": 0,
              "ticks": ""
             }
            },
            "type": "scattermapbox"
           }
          ],
          "scatterpolar": [
           {
            "marker": {
             "colorbar": {
              "outlinewidth": 0,
              "ticks": ""
             }
            },
            "type": "scatterpolar"
           }
          ],
          "scatterpolargl": [
           {
            "marker": {
             "colorbar": {
              "outlinewidth": 0,
              "ticks": ""
             }
            },
            "type": "scatterpolargl"
           }
          ],
          "scatterternary": [
           {
            "marker": {
             "colorbar": {
              "outlinewidth": 0,
              "ticks": ""
             }
            },
            "type": "scatterternary"
           }
          ],
          "surface": [
           {
            "colorbar": {
             "outlinewidth": 0,
             "ticks": ""
            },
            "colorscale": [
             [
              0,
              "#0d0887"
             ],
             [
              0.1111111111111111,
              "#46039f"
             ],
             [
              0.2222222222222222,
              "#7201a8"
             ],
             [
              0.3333333333333333,
              "#9c179e"
             ],
             [
              0.4444444444444444,
              "#bd3786"
             ],
             [
              0.5555555555555556,
              "#d8576b"
             ],
             [
              0.6666666666666666,
              "#ed7953"
             ],
             [
              0.7777777777777778,
              "#fb9f3a"
             ],
             [
              0.8888888888888888,
              "#fdca26"
             ],
             [
              1,
              "#f0f921"
             ]
            ],
            "type": "surface"
           }
          ],
          "table": [
           {
            "cells": {
             "fill": {
              "color": "#EBF0F8"
             },
             "line": {
              "color": "white"
             }
            },
            "header": {
             "fill": {
              "color": "#C8D4E3"
             },
             "line": {
              "color": "white"
             }
            },
            "type": "table"
           }
          ]
         },
         "layout": {
          "annotationdefaults": {
           "arrowcolor": "#2a3f5f",
           "arrowhead": 0,
           "arrowwidth": 1
          },
          "coloraxis": {
           "colorbar": {
            "outlinewidth": 0,
            "ticks": ""
           }
          },
          "colorscale": {
           "diverging": [
            [
             0,
             "#8e0152"
            ],
            [
             0.1,
             "#c51b7d"
            ],
            [
             0.2,
             "#de77ae"
            ],
            [
             0.3,
             "#f1b6da"
            ],
            [
             0.4,
             "#fde0ef"
            ],
            [
             0.5,
             "#f7f7f7"
            ],
            [
             0.6,
             "#e6f5d0"
            ],
            [
             0.7,
             "#b8e186"
            ],
            [
             0.8,
             "#7fbc41"
            ],
            [
             0.9,
             "#4d9221"
            ],
            [
             1,
             "#276419"
            ]
           ],
           "sequential": [
            [
             0,
             "#0d0887"
            ],
            [
             0.1111111111111111,
             "#46039f"
            ],
            [
             0.2222222222222222,
             "#7201a8"
            ],
            [
             0.3333333333333333,
             "#9c179e"
            ],
            [
             0.4444444444444444,
             "#bd3786"
            ],
            [
             0.5555555555555556,
             "#d8576b"
            ],
            [
             0.6666666666666666,
             "#ed7953"
            ],
            [
             0.7777777777777778,
             "#fb9f3a"
            ],
            [
             0.8888888888888888,
             "#fdca26"
            ],
            [
             1,
             "#f0f921"
            ]
           ],
           "sequentialminus": [
            [
             0,
             "#0d0887"
            ],
            [
             0.1111111111111111,
             "#46039f"
            ],
            [
             0.2222222222222222,
             "#7201a8"
            ],
            [
             0.3333333333333333,
             "#9c179e"
            ],
            [
             0.4444444444444444,
             "#bd3786"
            ],
            [
             0.5555555555555556,
             "#d8576b"
            ],
            [
             0.6666666666666666,
             "#ed7953"
            ],
            [
             0.7777777777777778,
             "#fb9f3a"
            ],
            [
             0.8888888888888888,
             "#fdca26"
            ],
            [
             1,
             "#f0f921"
            ]
           ]
          },
          "colorway": [
           "#1f77b4",
           "#ff7f0e",
           "#2ca02c",
           "#d62728",
           "#9467bd",
           "#8c564b",
           "#e377c2",
           "#7f7f7f",
           "#bcbd22",
           "#17becf"
          ],
          "font": {
           "color": "#2a3f5f"
          },
          "geo": {
           "bgcolor": "white",
           "lakecolor": "white",
           "landcolor": "white",
           "showlakes": true,
           "showland": true,
           "subunitcolor": "#C8D4E3"
          },
          "hoverlabel": {
           "align": "left"
          },
          "hovermode": "closest",
          "mapbox": {
           "style": "light"
          },
          "paper_bgcolor": "white",
          "plot_bgcolor": "white",
          "polar": {
           "angularaxis": {
            "gridcolor": "#EBF0F8",
            "linecolor": "#EBF0F8",
            "ticks": ""
           },
           "bgcolor": "white",
           "radialaxis": {
            "gridcolor": "#EBF0F8",
            "linecolor": "#EBF0F8",
            "ticks": ""
           }
          },
          "scene": {
           "xaxis": {
            "backgroundcolor": "white",
            "gridcolor": "#DFE8F3",
            "gridwidth": 2,
            "linecolor": "#EBF0F8",
            "showbackground": true,
            "showspikes": false,
            "ticks": "",
            "zerolinecolor": "#EBF0F8"
           },
           "yaxis": {
            "backgroundcolor": "white",
            "gridcolor": "#DFE8F3",
            "gridwidth": 2,
            "linecolor": "#EBF0F8",
            "showbackground": true,
            "showspikes": false,
            "ticks": "",
            "zerolinecolor": "#EBF0F8"
           },
           "zaxis": {
            "backgroundcolor": "white",
            "gridcolor": "#DFE8F3",
            "gridwidth": 2,
            "linecolor": "#EBF0F8",
            "showbackground": true,
            "showspikes": false,
            "ticks": "",
            "zerolinecolor": "#EBF0F8"
           }
          },
          "shapedefaults": {
           "line": {
            "color": "#2a3f5f"
           }
          },
          "ternary": {
           "aaxis": {
            "gridcolor": "#DFE8F3",
            "linecolor": "#A2B1C6",
            "ticks": ""
           },
           "baxis": {
            "gridcolor": "#DFE8F3",
            "linecolor": "#A2B1C6",
            "ticks": ""
           },
           "bgcolor": "white",
           "caxis": {
            "gridcolor": "#DFE8F3",
            "linecolor": "#A2B1C6",
            "ticks": ""
           }
          },
          "title": {
           "x": 0.05
          },
          "xaxis": {
           "automargin": true,
           "gridcolor": "#EBF0F8",
           "linecolor": "black",
           "linewidth": 2,
           "mirror": true,
           "showline": true,
           "ticks": "",
           "title": {
            "standoff": 15
           },
           "zeroline": false,
           "zerolinecolor": "#EBF0F8",
           "zerolinewidth": 2
          },
          "yaxis": {
           "automargin": true,
           "gridcolor": "#EBF0F8",
           "linecolor": "black",
           "linewidth": 2,
           "mirror": true,
           "showline": true,
           "ticks": "",
           "title": {
            "standoff": 15
           },
           "zeroline": false,
           "zerolinecolor": "#EBF0F8",
           "zerolinewidth": 2
          }
         }
        },
        "xaxis": {
         "anchor": "y",
         "domain": [
          0,
          1
         ],
         "title": {
          "text": "index"
         }
        },
        "yaxis": {
         "anchor": "x",
         "domain": [
          0,
          1
         ],
         "title": {
          "text": "value"
         }
        }
       }
      }
     },
     "metadata": {},
     "output_type": "display_data"
    }
   ],
   "source": [
    "evaluation.df[\"delta_eff\"].plot()"
   ]
  },
  {
   "cell_type": "markdown",
   "metadata": {},
   "source": [
    "## Working with Flow Orifice Data\n",
    "\n",
    "The evaluation module also supports flow measurement via orifice plates. Here's an example using differential pressure data:"
   ]
  },
  {
   "cell_type": "code",
   "execution_count": 12,
   "metadata": {},
   "outputs": [
    {
     "name": "stdout",
     "output_type": "stream",
     "text": [
      "Loaded 30 data points with differential pressure\n",
      "Columns: ['ps', 'Ts', 'pd', 'Td', 'delta_p', 'speed', 'p_downstream']\n"
     ]
    }
   ],
   "source": [
    "# Load data with differential pressure measurements\n",
    "df_delta_p = pd.read_parquet(data_path / \"data_delta_p.parquet\")\n",
    "\n",
    "print(f\"Loaded {len(df_delta_p)} data points with differential pressure\")\n",
    "print(\"Columns:\", df_delta_p.columns.tolist())"
   ]
  },
  {
   "cell_type": "code",
   "execution_count": 13,
   "metadata": {},
   "outputs": [
    {
     "name": "stdout",
     "output_type": "stream",
     "text": [
      "Converting curves\n"
     ]
    },
    {
     "data": {
      "application/vnd.jupyter.widget-view+json": {
       "model_id": "7d50178459d443b5a7c1510faeeda009",
       "version_major": 2,
       "version_minor": 0
      },
      "text/plain": [
       "  0%|          | 0/2 [00:00<?, ?it/s]"
      ]
     },
     "metadata": {},
     "output_type": "display_data"
    },
    {
     "name": "stdout",
     "output_type": "stream",
     "text": [
      "Calculating points...\n"
     ]
    },
    {
     "data": {
      "application/vnd.jupyter.widget-view+json": {
       "model_id": "74ddd3c9765b43e3a10bcc461fb3a828",
       "version_major": 2,
       "version_minor": 0
      },
      "text/plain": [
       "0it [00:00, ?it/s]"
      ]
     },
     "metadata": {},
     "output_type": "display_data"
    },
    {
     "name": "stdout",
     "output_type": "stream",
     "text": [
      "Calculating expected points...\n"
     ]
    },
    {
     "data": {
      "application/vnd.jupyter.widget-view+json": {
       "model_id": "fc517f83a2e24c73a44de31f7e168a08",
       "version_major": 2,
       "version_minor": 0
      },
      "text/plain": [
       "0it [00:00, ?it/s]"
      ]
     },
     "metadata": {},
     "output_type": "display_data"
    },
    {
     "name": "stdout",
     "output_type": "stream",
     "text": [
      "Orifice evaluation delta_eff: 11.33%\n"
     ]
    }
   ],
   "source": [
    "# Create evaluation with flow orifice parameters\n",
    "evaluation_orifice = ccp.Evaluation(\n",
    "    data=df_delta_p,\n",
    "    operation_fluid=operation_fluid,\n",
    "    data_units={\n",
    "        \"ps\": \"bar\",\n",
    "        \"Ts\": \"degC\",\n",
    "        \"pd\": \"bar\",\n",
    "        \"Td\": \"degC\",\n",
    "        \"delta_p\": \"mmH2O\",        # Differential pressure across orifice\n",
    "        \"p_downstream\": \"bar\",     # Downstream pressure\n",
    "        \"speed\": \"RPM\",\n",
    "    },\n",
    "    impellers=[imp_a],\n",
    "    D=Q_(0.590550, \"m\"),           # Pipe diameter\n",
    "    d=Q_(0.366130, \"m\"),           # Orifice diameter\n",
    "    tappings=\"flange\",             # Pressure tapping type\n",
    "    n_clusters=2,\n",
    ")\n",
    "\n",
    "print(f\"Orifice evaluation delta_eff: {evaluation_orifice.df['delta_eff'].mean():.2f}%\")"
   ]
  },
  {
   "cell_type": "markdown",
   "metadata": {},
   "source": [
    "## Saving and Loading Evaluations\n",
    "\n",
    "Evaluation results can be saved and loaded for later analysis:"
   ]
  },
  {
   "cell_type": "code",
   "execution_count": 14,
   "metadata": {},
   "outputs": [
    {
     "name": "stdout",
     "output_type": "stream",
     "text": [
      "Evaluation saved to: /tmp/tmpapo9dwi_.ccp_eval\n",
      "Loaded evaluation delta_eff: 11.27%\n"
     ]
    }
   ],
   "source": [
    "from tempfile import NamedTemporaryFile\n",
    "import os\n",
    "\n",
    "# Save evaluation to file\n",
    "with NamedTemporaryFile(suffix='.ccp_eval', delete=False) as tmp_file:\n",
    "    tmp_path = tmp_file.name\n",
    "\n",
    "evaluation.save(tmp_path)\n",
    "print(f\"Evaluation saved to: {tmp_path}\")\n",
    "\n",
    "# Load evaluation from file\n",
    "loaded_evaluation = ccp.Evaluation.load(tmp_path)\n",
    "print(f\"Loaded evaluation delta_eff: {loaded_evaluation.df['delta_eff'].mean():.2f}%\")\n",
    "\n",
    "# Clean up temporary file\n",
    "os.unlink(tmp_path)"
   ]
  },
  {
   "cell_type": "markdown",
   "metadata": {},
   "source": [
    "## Advanced Usage: Manual Point Calculation\n",
    "\n",
    "For more control, you can calculate evaluation points manually:"
   ]
  },
  {
   "cell_type": "code",
   "execution_count": 15,
   "metadata": {},
   "outputs": [
    {
     "name": "stdout",
     "output_type": "stream",
     "text": [
      "Converting curves\n"
     ]
    },
    {
     "data": {
      "application/vnd.jupyter.widget-view+json": {
       "model_id": "9d8e3a6bff734c8fbc351591e9c63035",
       "version_major": 2,
       "version_minor": 0
      },
      "text/plain": [
       "  0%|          | 0/2 [00:00<?, ?it/s]"
      ]
     },
     "metadata": {},
     "output_type": "display_data"
    },
    {
     "name": "stdout",
     "output_type": "stream",
     "text": [
      "Calculating points...\n"
     ]
    },
    {
     "data": {
      "application/vnd.jupyter.widget-view+json": {
       "model_id": "30665e67d388496f9f0f9d44d91cdfb3",
       "version_major": 2,
       "version_minor": 0
      },
      "text/plain": [
       "0it [00:00, ?it/s]"
      ]
     },
     "metadata": {},
     "output_type": "display_data"
    },
    {
     "name": "stdout",
     "output_type": "stream",
     "text": [
      "Calculating expected points...\n"
     ]
    },
    {
     "data": {
      "application/vnd.jupyter.widget-view+json": {
       "model_id": "d3c6300b5bf948688bbc3883dd17663d",
       "version_major": 2,
       "version_minor": 0
      },
      "text/plain": [
       "0it [00:00, ?it/s]"
      ]
     },
     "metadata": {},
     "output_type": "display_data"
    },
    {
     "name": "stdout",
     "output_type": "stream",
     "text": [
      "Manual calculation: 2 valid points\n",
      "Average deviation: 11.28%\n"
     ]
    }
   ],
   "source": [
    "# Create evaluation without automatic calculation\n",
    "evaluation_manual = ccp.Evaluation(\n",
    "    data=df,\n",
    "    operation_fluid=operation_fluid,\n",
    "    data_units={\n",
    "        \"ps\": \"bar\",\n",
    "        \"Ts\": \"degC\",\n",
    "        \"pd\": \"bar\",\n",
    "        \"Td\": \"degC\",\n",
    "        \"flow_v\": \"m³/s\",\n",
    "        \"speed\": \"RPM\",\n",
    "    },\n",
    "    impellers=[imp_a],\n",
    "    calculate_points=False,  # Don't calculate automatically\n",
    "    n_clusters=2,\n",
    ")\n",
    "\n",
    "# Calculate points for a subset of data\n",
    "subset_results = evaluation_manual.calculate_points(\n",
    "    df,\n",
    "    drop_invalid_values=True  # Remove invalid points\n",
    ")\n",
    "\n",
    "print(f\"Manual calculation: {len(subset_results)} valid points\")\n",
    "print(f\"Average deviation: {subset_results['delta_eff'].mean():.2f}%\")"
   ]
  }
 ],
 "metadata": {
  "kernelspec": {
   "display_name": "ccp",
   "language": "python",
   "name": "python3"
  },
  "language_info": {
   "codemirror_mode": {
    "name": "ipython",
    "version": 3
   },
   "file_extension": ".py",
   "mimetype": "text/x-python",
   "name": "python",
   "nbconvert_exporter": "python",
   "pygments_lexer": "ipython3",
   "version": "3.10.9"
  }
 },
 "nbformat": 4,
 "nbformat_minor": 4
}
