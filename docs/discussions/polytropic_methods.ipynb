{
 "cells": [
  {
   "cell_type": "markdown",
   "id": "64b9e02f",
   "metadata": {},
   "source": [
    "# Polytropic Methods"
   ]
  },
  {
   "cell_type": "markdown",
   "id": "3829895d",
   "metadata": {},
   "source": [
    "The work of {cite:p}`schultz1962` was the first to present a polytropic analysis considering real-gas relations. According to this work the polytropic head can be calculated by: \n",
    "\n",
    "\n",
    "\\begin{equation}\n",
    "  H_p \\cong (\\frac{n}{n - 1}) (p_d v_d - p_s v_s)\n",
    "\\end{equation}\n",
    "\n",
    "The accuracy of the above result depends upon the constancy of \\\\(n\\\\) along \\\\(p\\\\). To improve this result and \n",
    "try to make it independent of the constancy of \\\\(n\\\\)along \\\\(p\\\\), {cite:p}`schultz1962` proposed the use of the \n",
    "polytropic head factor \\\\(f\\\\):\n",
    "\n",
    "\\begin{equation}\n",
    "  f = \\frac{H_{ds} - H_s}{(\\frac{n_s}{n_s - 1})(p_d v_{ds} - p_s v_s)}\n",
    "\\end{equation}\n",
    "\n",
    "Although the correction by this factor can improve the results, publications such as {cite}`mallen1977polytropic`,\n",
    "{cite}`huntington1985` and {cite}`sandberg2013limitations` have questioned their accuracy and proposed different \n",
    "methods to carry out the polytropic head and efficiency calculation."
   ]
  },
  {
   "cell_type": "markdown",
   "id": "4c9a1be0",
   "metadata": {},
   "source": [
    "With `ccp` we can make the polytropic calculations using the following methods:\n",
    "\n",
    " - Schultz method as per {cite}`schultz1962` implemented in {func}`ccp.point.head_pol_schultz`;\n",
    " - Mallen-Saville method as per {cite}`mallen1977polytropic` implemented in {func}`ccp.point.head_pol_mallen_saville`;\n",
    " - Huntington 3 point method as per {cite}`huntington1985` implemented in {func}`ccp.point.head_pol_huntington`;\n",
    " - Sandberg-Colby method as per {cite}`sandberg2013limitations` implemented in {func}`ccp.point.head_pol_sandberg_colby`."
   ]
  },
  {
   "cell_type": "markdown",
   "id": "07cf4d53",
   "metadata": {},
   "source": [
    "```{bibliography}\n",
    ":filter: docname in docnames\n",
    "```"
   ]
  },
  {
   "cell_type": "code",
   "execution_count": null,
   "id": "29b5996e",
   "metadata": {},
   "outputs": [],
   "source": [
    "\\\\(\\\\)"
   ]
  },
  {
   "cell_type": "code",
   "execution_count": null,
   "id": "7cde4a73",
   "metadata": {},
   "outputs": [],
   "source": [
    "\\\\()\\\\"
   ]
  },
  {
   "cell_type": "code",
   "execution_count": null,
   "id": "fa30b8d9",
   "metadata": {},
   "outputs": [],
   "source": [
    "\\\\()\\\\"
   ]
  },
  {
   "cell_type": "code",
   "execution_count": null,
   "id": "1ad6837f",
   "metadata": {},
   "outputs": [],
   "source": [
    "\\\\()\\\\"
   ]
  },
  {
   "cell_type": "code",
   "execution_count": null,
   "id": "d81a15c0",
   "metadata": {},
   "outputs": [],
   "source": [
    "jjj\n"
   ]
  },
  {
   "cell_type": "code",
   "execution_count": null,
   "id": "32b6a126",
   "metadata": {},
   "outputs": [],
   "source": [
    "# joisdjf "
   ]
  },
  {
   "cell_type": "code",
   "execution_count": null,
   "id": "b185d46b",
   "metadata": {},
   "outputs": [],
   "source": []
  },
  {
   "cell_type": "code",
   "execution_count": null,
   "id": "a2c7e014",
   "metadata": {},
   "outputs": [],
   "source": []
  },
  {
   "cell_type": "code",
   "execution_count": null,
   "id": "afd57ddd",
   "metadata": {},
   "outputs": [],
   "source": [
    "i"
   ]
  }
 ],
 "metadata": {
  "kernelspec": {
   "display_name": "Python [conda env:ccp] *",
   "language": "python",
   "name": "conda-env-ccp-py"
  },
  "language_info": {
   "codemirror_mode": {
    "name": "ipython",
    "version": 3
   },
   "file_extension": ".py",
   "mimetype": "text/x-python",
   "name": "python",
   "nbconvert_exporter": "python",
   "pygments_lexer": "ipython3",
   "version": "3.8.8"
  }
 },
 "nbformat": 4,
 "nbformat_minor": 5
}
